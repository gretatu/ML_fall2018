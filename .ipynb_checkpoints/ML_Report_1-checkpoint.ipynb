{
 "cells": [
  {
   "cell_type": "markdown",
   "metadata": {},
   "source": [
    "## Purpose\n",
    "The purpose of this application is to inspect the prostate dataset that we intend\n",
    "to use for the project in 02450 Intro to Machine Learning\n",
    "\n",
    "To-do:\n",
    "We need to fix the indexing of the columns - the way it is implemented right now something strange happens\n",
    "\n",
    "Author: Peter Bakke\n",
    "\n",
    "Reviewed by: Greta Tuckute \n",
    "\n",
    "Last modified: 24/09/18, 17.40\n",
    "\n",
    "#### Change-log\n",
    "2018-09-26: Converted to Jupyter Notebook"
   ]
  },
  {
   "cell_type": "markdown",
   "metadata": {},
   "source": [
    "Import required packages"
   ]
  },
  {
   "cell_type": "code",
   "execution_count": 1,
   "metadata": {},
   "outputs": [],
   "source": [
    "import matplotlib.pyplot as plt\n",
    "import numpy as np\n",
    "from scipy.stats import zscore\n",
    "from scipy.linalg import svd\n",
    "from similarity import similarity\n",
    "\n"
   ]
  },
  {
   "cell_type": "markdown",
   "metadata": {},
   "source": [
    "First we define a method for importing a spread_sheet using pandas"
   ]
  },
  {
   "cell_type": "code",
   "execution_count": 2,
   "metadata": {},
   "outputs": [],
   "source": [
    "def DataLoader(path, sheet):\n",
    "    \"\"\"\n",
    "    Method for importing data from a spreadsheet.\n",
    "\n",
    "    :param path: full path to the spreadsheet to load\n",
    "    :param sheet: name of the sheet in the workbook that is loaded\n",
    "    :return: pandas dataFrame with imported data\n",
    "    \"\"\"\n",
    "    import pandas as pd\n",
    "\n",
    "    out = pd.read_excel(path, sheet_name=sheet)\n",
    "\n",
    "    return out"
   ]
  },
  {
   "cell_type": "code",
   "execution_count": 3,
   "metadata": {},
   "outputs": [],
   "source": [
    "# Specify path and sheet name in the prostate workbook\n",
    "#filePath = 'C:/Users/PeterBakke/Documents/git/ML_fall2018/Data/Prostate.xlsx'\n",
    "#filePath = 'C:/Users/Greta/Documents/Github/ML_fall2018/Data/Prostate.xlsx'\n",
    "filePath = 'C:/Users/narisa/Documents/GitHub/ML_fall2018/Data/Prostate.xlsx'\n",
    "sheet = 'Sheet1'\n"
   ]
  },
  {
   "cell_type": "code",
   "execution_count": 4,
   "metadata": {},
   "outputs": [],
   "source": [
    "# load prostate data into dataFrame\n",
    "myData = DataLoader(path=filePath, sheet=sheet)\n",
    "\n",
    "# delete irrelevant columns\n",
    "del myData['ID']\n",
    "del myData['train']"
   ]
  },
  {
   "cell_type": "code",
   "execution_count": 5,
   "metadata": {},
   "outputs": [
    {
     "name": "stdout",
     "output_type": "stream",
     "text": [
      "['lCaVol', 'lWeight', 'Age', 'lBPH', 'SVI', 'lCP', 'Gleason', 'pgg45', 'lPSA']\n",
      "{6: 0, 7: 1, 8: 2, 9: 3}\n"
     ]
    }
   ],
   "source": [
    "# extract class names and encode with integers (dict)\n",
    "\n",
    "classLabels = myData['Gleason'].values.tolist()\n",
    "classNames = sorted(set(classLabels))\n",
    "classDict = dict(zip(classNames, range(4)))\n",
    "\n",
    "del myData['Gleason']\n",
    "\n",
    "attributeNames = list(myData.columns.values)\n",
    "\n",
    "print(attributeNames)\n",
    "print(classDict)"
   ]
  },
  {
   "cell_type": "code",
   "execution_count": 6,
   "metadata": {},
   "outputs": [],
   "source": [
    "# Extract vector y, convert to NumPy array\n",
    "y = np.asarray([classDict[value] for value in classLabels])\n",
    "\n",
    "# Convert dataFrame to numpy array\n",
    "X = myData.values\n",
    "\n",
    "# Compute values of N, M and C\n",
    "N = len(y)\n",
    "M = len(attributeNames)\n",
    "C = len(classNames)"
   ]
  },
  {
   "cell_type": "code",
   "execution_count": 7,
   "metadata": {},
   "outputs": [
    {
     "ename": "FileNotFoundError",
     "evalue": "[Errno 2] No such file or directory: 'C:/Users/PeterBakke/Documents/git/ML_fall2018/Figures/pgg45_vs_lpsa.png'",
     "output_type": "error",
     "traceback": [
      "\u001b[1;31m---------------------------------------------------------------------------\u001b[0m",
      "\u001b[1;31mFileNotFoundError\u001b[0m                         Traceback (most recent call last)",
      "\u001b[1;32m<ipython-input-7-2770867f5f19>\u001b[0m in \u001b[0;36m<module>\u001b[1;34m()\u001b[0m\n\u001b[0;32m     18\u001b[0m \u001b[0mplt\u001b[0m\u001b[1;33m.\u001b[0m\u001b[0mylabel\u001b[0m\u001b[1;33m(\u001b[0m\u001b[0mattributeNames\u001b[0m\u001b[1;33m[\u001b[0m\u001b[0mj\u001b[0m\u001b[1;33m]\u001b[0m\u001b[1;33m)\u001b[0m\u001b[1;33m\u001b[0m\u001b[0m\n\u001b[0;32m     19\u001b[0m \u001b[1;33m\u001b[0m\u001b[0m\n\u001b[1;32m---> 20\u001b[1;33m \u001b[0mplt\u001b[0m\u001b[1;33m.\u001b[0m\u001b[0msavefig\u001b[0m\u001b[1;33m(\u001b[0m\u001b[1;34m\"C:/Users/PeterBakke/Documents/git/ML_fall2018/Figures/\"\u001b[0m \u001b[1;33m+\u001b[0m \u001b[0mattributeNames\u001b[0m\u001b[1;33m[\u001b[0m\u001b[0mi\u001b[0m\u001b[1;33m]\u001b[0m \u001b[1;33m+\u001b[0m  \u001b[1;34m\"_vs_lpsa.png\"\u001b[0m\u001b[1;33m)\u001b[0m\u001b[1;33m\u001b[0m\u001b[0m\n\u001b[0m\u001b[0;32m     21\u001b[0m \u001b[1;33m\u001b[0m\u001b[0m\n\u001b[0;32m     22\u001b[0m \u001b[1;31m# Output result to screen\u001b[0m\u001b[1;33m\u001b[0m\u001b[1;33m\u001b[0m\u001b[0m\n",
      "\u001b[1;32m~\\AppData\\Local\\Continuum\\anaconda3\\lib\\site-packages\\matplotlib\\pyplot.py\u001b[0m in \u001b[0;36msavefig\u001b[1;34m(*args, **kwargs)\u001b[0m\n\u001b[0;32m    699\u001b[0m \u001b[1;32mdef\u001b[0m \u001b[0msavefig\u001b[0m\u001b[1;33m(\u001b[0m\u001b[1;33m*\u001b[0m\u001b[0margs\u001b[0m\u001b[1;33m,\u001b[0m \u001b[1;33m**\u001b[0m\u001b[0mkwargs\u001b[0m\u001b[1;33m)\u001b[0m\u001b[1;33m:\u001b[0m\u001b[1;33m\u001b[0m\u001b[0m\n\u001b[0;32m    700\u001b[0m     \u001b[0mfig\u001b[0m \u001b[1;33m=\u001b[0m \u001b[0mgcf\u001b[0m\u001b[1;33m(\u001b[0m\u001b[1;33m)\u001b[0m\u001b[1;33m\u001b[0m\u001b[0m\n\u001b[1;32m--> 701\u001b[1;33m     \u001b[0mres\u001b[0m \u001b[1;33m=\u001b[0m \u001b[0mfig\u001b[0m\u001b[1;33m.\u001b[0m\u001b[0msavefig\u001b[0m\u001b[1;33m(\u001b[0m\u001b[1;33m*\u001b[0m\u001b[0margs\u001b[0m\u001b[1;33m,\u001b[0m \u001b[1;33m**\u001b[0m\u001b[0mkwargs\u001b[0m\u001b[1;33m)\u001b[0m\u001b[1;33m\u001b[0m\u001b[0m\n\u001b[0m\u001b[0;32m    702\u001b[0m     \u001b[0mfig\u001b[0m\u001b[1;33m.\u001b[0m\u001b[0mcanvas\u001b[0m\u001b[1;33m.\u001b[0m\u001b[0mdraw_idle\u001b[0m\u001b[1;33m(\u001b[0m\u001b[1;33m)\u001b[0m   \u001b[1;31m# need this if 'transparent=True' to reset colors\u001b[0m\u001b[1;33m\u001b[0m\u001b[0m\n\u001b[0;32m    703\u001b[0m     \u001b[1;32mreturn\u001b[0m \u001b[0mres\u001b[0m\u001b[1;33m\u001b[0m\u001b[0m\n",
      "\u001b[1;32m~\\AppData\\Local\\Continuum\\anaconda3\\lib\\site-packages\\matplotlib\\figure.py\u001b[0m in \u001b[0;36msavefig\u001b[1;34m(self, fname, **kwargs)\u001b[0m\n\u001b[0;32m   1832\u001b[0m             \u001b[0mself\u001b[0m\u001b[1;33m.\u001b[0m\u001b[0mset_frameon\u001b[0m\u001b[1;33m(\u001b[0m\u001b[0mframeon\u001b[0m\u001b[1;33m)\u001b[0m\u001b[1;33m\u001b[0m\u001b[0m\n\u001b[0;32m   1833\u001b[0m \u001b[1;33m\u001b[0m\u001b[0m\n\u001b[1;32m-> 1834\u001b[1;33m         \u001b[0mself\u001b[0m\u001b[1;33m.\u001b[0m\u001b[0mcanvas\u001b[0m\u001b[1;33m.\u001b[0m\u001b[0mprint_figure\u001b[0m\u001b[1;33m(\u001b[0m\u001b[0mfname\u001b[0m\u001b[1;33m,\u001b[0m \u001b[1;33m**\u001b[0m\u001b[0mkwargs\u001b[0m\u001b[1;33m)\u001b[0m\u001b[1;33m\u001b[0m\u001b[0m\n\u001b[0m\u001b[0;32m   1835\u001b[0m \u001b[1;33m\u001b[0m\u001b[0m\n\u001b[0;32m   1836\u001b[0m         \u001b[1;32mif\u001b[0m \u001b[0mframeon\u001b[0m\u001b[1;33m:\u001b[0m\u001b[1;33m\u001b[0m\u001b[0m\n",
      "\u001b[1;32m~\\AppData\\Local\\Continuum\\anaconda3\\lib\\site-packages\\matplotlib\\backend_bases.py\u001b[0m in \u001b[0;36mprint_figure\u001b[1;34m(self, filename, dpi, facecolor, edgecolor, orientation, format, **kwargs)\u001b[0m\n\u001b[0;32m   2265\u001b[0m                 \u001b[0morientation\u001b[0m\u001b[1;33m=\u001b[0m\u001b[0morientation\u001b[0m\u001b[1;33m,\u001b[0m\u001b[1;33m\u001b[0m\u001b[0m\n\u001b[0;32m   2266\u001b[0m                 \u001b[0mbbox_inches_restore\u001b[0m\u001b[1;33m=\u001b[0m\u001b[0m_bbox_inches_restore\u001b[0m\u001b[1;33m,\u001b[0m\u001b[1;33m\u001b[0m\u001b[0m\n\u001b[1;32m-> 2267\u001b[1;33m                 **kwargs)\n\u001b[0m\u001b[0;32m   2268\u001b[0m         \u001b[1;32mfinally\u001b[0m\u001b[1;33m:\u001b[0m\u001b[1;33m\u001b[0m\u001b[0m\n\u001b[0;32m   2269\u001b[0m             \u001b[1;32mif\u001b[0m \u001b[0mbbox_inches\u001b[0m \u001b[1;32mand\u001b[0m \u001b[0mrestore_bbox\u001b[0m\u001b[1;33m:\u001b[0m\u001b[1;33m\u001b[0m\u001b[0m\n",
      "\u001b[1;32m~\\AppData\\Local\\Continuum\\anaconda3\\lib\\site-packages\\matplotlib\\backends\\backend_agg.py\u001b[0m in \u001b[0;36mprint_png\u001b[1;34m(self, filename_or_obj, *args, **kwargs)\u001b[0m\n\u001b[0;32m    510\u001b[0m         \u001b[0mrenderer\u001b[0m\u001b[1;33m.\u001b[0m\u001b[0mdpi\u001b[0m \u001b[1;33m=\u001b[0m \u001b[0mself\u001b[0m\u001b[1;33m.\u001b[0m\u001b[0mfigure\u001b[0m\u001b[1;33m.\u001b[0m\u001b[0mdpi\u001b[0m\u001b[1;33m\u001b[0m\u001b[0m\n\u001b[0;32m    511\u001b[0m         \u001b[1;32mif\u001b[0m \u001b[0misinstance\u001b[0m\u001b[1;33m(\u001b[0m\u001b[0mfilename_or_obj\u001b[0m\u001b[1;33m,\u001b[0m \u001b[0msix\u001b[0m\u001b[1;33m.\u001b[0m\u001b[0mstring_types\u001b[0m\u001b[1;33m)\u001b[0m\u001b[1;33m:\u001b[0m\u001b[1;33m\u001b[0m\u001b[0m\n\u001b[1;32m--> 512\u001b[1;33m             \u001b[0mfilename_or_obj\u001b[0m \u001b[1;33m=\u001b[0m \u001b[0mopen\u001b[0m\u001b[1;33m(\u001b[0m\u001b[0mfilename_or_obj\u001b[0m\u001b[1;33m,\u001b[0m \u001b[1;34m'wb'\u001b[0m\u001b[1;33m)\u001b[0m\u001b[1;33m\u001b[0m\u001b[0m\n\u001b[0m\u001b[0;32m    513\u001b[0m             \u001b[0mclose\u001b[0m \u001b[1;33m=\u001b[0m \u001b[1;32mTrue\u001b[0m\u001b[1;33m\u001b[0m\u001b[0m\n\u001b[0;32m    514\u001b[0m         \u001b[1;32melse\u001b[0m\u001b[1;33m:\u001b[0m\u001b[1;33m\u001b[0m\u001b[0m\n",
      "\u001b[1;31mFileNotFoundError\u001b[0m: [Errno 2] No such file or directory: 'C:/Users/PeterBakke/Documents/git/ML_fall2018/Figures/pgg45_vs_lpsa.png'"
     ]
    },
    {
     "data": {
      "image/png": "[encoded data removed]",
      "text/plain": [
       "<matplotlib.figure.Figure at 0x234638dc940>"
      ]
     },
     "metadata": {},
     "output_type": "display_data"
    }
   ],
   "source": [
    "# Data attributes to be plotted\n",
    "i = 6\n",
    "j = 7\n",
    "\n",
    "# Plotting the data set (different attributes to be specified)\n",
    "f = plt.figure()\n",
    "plt.title('Prostate data of attributes: ' + str(attributeNames[i]) + ' vs. ' + str(attributeNames[j]))\n",
    "\n",
    "for c in range(C):\n",
    "    # select indices belonging to class c:\n",
    "    class_mask = y==c\n",
    "    plt.plot(X[class_mask,i], X[class_mask,j], 'o')\n",
    "\n",
    "#plt.legend(classNames)\n",
    "gleason_legend = ['Gleason Score 6', 'Gleason Score 7', 'Gleason Score 8', 'Gleason Score 9']\n",
    "plt.legend(gleason_legend)\n",
    "plt.xlabel(attributeNames[i])\n",
    "plt.ylabel(attributeNames[j])\n",
    "\n",
    "plt.savefig(\"C:/Users/PeterBakke/Documents/git/ML_fall2018/Figures/\" + attributeNames[i] +  \"_vs_lpsa.png\")\n",
    "\n",
    "# Output result to screen\n",
    "plt.show()"
   ]
  },
  {
   "cell_type": "markdown",
   "metadata": {},
   "source": [
    "## Principal Component Analysis\n",
    "In the following section of the notebook a PCA is performed"
   ]
  },
  {
   "cell_type": "code",
   "execution_count": null,
   "metadata": {},
   "outputs": [],
   "source": [
    "# Normalize data with mean and std\n",
    "Y = (X - np.ones((N,1))*X.mean(axis=0)) / X.std(axis=0)\n",
    "\n",
    "# PCA by computing SVD of Y\n",
    "U,S,V = svd(Y,full_matrices=False)\n",
    "\n",
    "Z = np.dot(Y, V.T)\n",
    "\n",
    "# Compute variance explained by principal components\n",
    "rho = (S*S) / (S*S).sum()\n",
    "\n",
    "print(\"The variance explained by each PCA is: \\n \" + str(rho))\n",
    "print(\"Fast check to ensure that we sum over the right axis: \" + str(rho.sum()))\n",
    "\n",
    "print(\"The first eigenvector is: \\n\" + str(V.T[0,:]))\n",
    "print(\"The second eigenvector is: \\n\" + str(V.T[1,:]))\n",
    "print(\"The third eigenvector is: \\n\" + str(V.T[2,:]))"
   ]
  },
  {
   "cell_type": "code",
   "execution_count": null,
   "metadata": {},
   "outputs": [],
   "source": [
    "# Plot variance explained\n",
    "plt.figure()\n",
    "plt.plot(range(1,len(rho)+1),rho,'o-')\n",
    "plt.title('Variance explained by principal components');\n",
    "plt.xlabel('Principal component');\n",
    "plt.ylabel('Variance explained');\n",
    "plt.savefig(\"C:/Users/PeterBakke/Documents/git/ML_fall2018/Figures/Variance_explained.png\")\n",
    "plt.show()"
   ]
  },
  {
   "cell_type": "code",
   "execution_count": null,
   "metadata": {},
   "outputs": [],
   "source": [
    "# Indices of the principal components to be plotted\n",
    "ii = 0\n",
    "jj = 1\n",
    "\n",
    "# Plot PCA of the data\n",
    "f = plt.figure()\n",
    "plt.title('Prostate data: PC' + str(ii+1) + ' vs. '+ 'PC' + str(jj+1))\n",
    "#Z = array(Z)\n",
    "for c in range(C):\n",
    "    # select indices belonging to class c:\n",
    "    class_mask = y==c\n",
    "    plt.plot(Z[class_mask,ii], Z[class_mask,jj], 'o')\n",
    "plt.legend(classNames)\n",
    "plt.xlabel('PC{0}'.format(ii+1))\n",
    "plt.ylabel('PC{0}'.format(jj+1))\n",
    "plt.savefig(\"C:/Users/PeterBakke/Documents/git/ML_fall2018/Figures/\" + 'PC{0}'.format(ii+1) +  \"_vs_\" + 'PC{0}'.format(jj+1) + \".png\")\n",
    "\n",
    "# Plot PCA_ii of the data against lpsa\n",
    "f = plt.figure()\n",
    "plt.title('Prostate data: PC' + str(ii+1) + ' against lPSA')\n",
    "#Z = array(Z)\n",
    "for c in range(C):\n",
    "    # select indices belonging to class c:\n",
    "    class_mask = y==c\n",
    "    plt.plot(Z[class_mask,ii], Y[class_mask,7], 'o')\n",
    "plt.legend(classNames)\n",
    "plt.xlabel('PC{0}'.format(ii+1))\n",
    "plt.ylabel('lPSA')\n",
    "plt.savefig(\"C:/Users/PeterBakke/Documents/git/ML_fall2018/Figures/\" + 'PC{0}'.format(ii+1) +  \"_vs_\" + \"lPSA.png\")\n",
    "\n",
    "# Plot PCA_ii+1 of the data against lpsa\n",
    "f = plt.figure()\n",
    "plt.title('Prostate data: PC' + str(ii+2) + ' against lPSA')\n",
    "#Z = array(Z)\n",
    "for c in range(C):\n",
    "    # select indices belonging to class c:\n",
    "    class_mask = y==c\n",
    "    plt.plot(Z[class_mask,ii+1], Y[class_mask,7], 'o')\n",
    "plt.legend(classNames)\n",
    "plt.xlabel('PC{0}'.format(ii+2))\n",
    "plt.ylabel('lPSA')\n",
    "plt.savefig(\"C:/Users/PeterBakke/Documents/git/ML_fall2018/Figures/\" + 'PC{0}'.format(ii+2) +  \"_vs_\" + \"lPSA.png\")\n",
    "\n",
    "\n",
    "# Plot PCA_ii+2 of the data against lpsa\n",
    "f = plt.figure()\n",
    "plt.title('Prostate data: PC' + str(ii+3) + ' against lPSA')\n",
    "#Z = array(Z)\n",
    "for c in range(C):\n",
    "    # select indices belonging to class c:\n",
    "    class_mask = y==c\n",
    "    plt.plot(Z[class_mask,ii+2], Y[class_mask,7], 'o')\n",
    "plt.legend(classNames)\n",
    "plt.xlabel('PC{0}'.format(ii+3))\n",
    "plt.ylabel('lPSA')\n",
    "plt.savefig(\"C:/Users/PeterBakke/Documents/git/ML_fall2018/Figures/\" + 'PC{0}'.format(ii+3) +  \"_vs_\" + \"lPSA.png\")\n",
    "\n",
    "\n",
    "\n",
    "# Plot PCA_ii of the data against Gleason\n",
    "f = plt.figure()\n",
    "plt.title('Prostate data: PC' + str(ii+1) + ' against PGG45')\n",
    "#Z = array(Z)\n",
    "for c in range(C):\n",
    "    # select indices belonging to class c:\n",
    "    class_mask = y==c\n",
    "    plt.plot(Z[class_mask,ii], Y[class_mask,6], 'o')\n",
    "plt.legend(classNames)\n",
    "plt.xlabel('PC{0}'.format(ii+1))\n",
    "plt.ylabel('PGG45')\n",
    "plt.savefig(\"C:/Users/PeterBakke/Documents/git/ML_fall2018/Figures/\" + 'PC{0}'.format(ii+1) +  \"_vs_\" + \"PGG45.png\")\n",
    "\n",
    "\n",
    "# Output result to screen\n",
    "plt.show()"
   ]
  },
  {
   "cell_type": "markdown",
   "metadata": {},
   "source": [
    "## The following section contains summary statistics and boxplots\n"
   ]
  },
  {
   "cell_type": "code",
   "execution_count": null,
   "metadata": {},
   "outputs": [],
   "source": [
    "# Make Boxplots\n",
    "plt.figure()\n",
    "plt.boxplot(Y)\n",
    "plt.title('Boxplots of demeaned data');\n",
    "plt.xticks([1,2,3,4,5,6,7,8],attributeNames)\n",
    "plt.grid(axis='y',linestyle='dashed')\n",
    "plt.savefig(\"C:/Users/PeterBakke/Documents/git/ML_fall2018/Figures/Boxplots.png\")\n",
    "plt.show()"
   ]
  },
  {
   "cell_type": "code",
   "execution_count": 7,
   "metadata": {},
   "outputs": [],
   "source": [
    "# Summary statistics\n",
    "# Create dict of attribute dictonaries using comprehensions\n",
    "keys = ['mean', 'std', 'median', 'range', 'Q_25', 'Q_75', 'min', 'max']\n",
    "\n",
    "statistics={name:{key:[] for key in keys} for name in attributeNames}\n",
    "\n",
    "for attribute in statistics:\n",
    "    k = attributeNames.index(attribute)\n",
    "    statistics[attribute]['mean'] = X[:,k].mean()\n",
    "    statistics[attribute]['std'] = X[:,k].std(ddof=1)\n",
    "    statistics[attribute]['median'] = np.median(X[:,k])\n",
    "    statistics[attribute]['range'] = X[:,k].max()-X[:,k].min()\n",
    "    statistics[attribute]['Q_25'] = np.percentile(X[:,k],25)\n",
    "    statistics[attribute]['Q_75'] = np.percentile(X[:,k],75)\n",
    "    statistics[attribute]['min'] = X[:,k].min()\n",
    "    statistics[attribute]['max'] = X[:,k].max()"
   ]
  },
  {
   "cell_type": "code",
   "execution_count": 14,
   "metadata": {},
   "outputs": [
    {
     "data": {
      "text/plain": [
       "{'Q_25': 0.0,\n",
       " 'Q_75': 40.0,\n",
       " 'max': 100.0,\n",
       " 'mean': 24.38144329896907,\n",
       " 'median': 15.0,\n",
       " 'min': 0.0,\n",
       " 'range': 100.0,\n",
       " 'std': 28.204034617914548}"
      ]
     },
     "execution_count": 14,
     "metadata": {},
     "output_type": "execute_result"
    }
   ],
   "source": [
    "statistics['pgg45']"
   ]
  },
  {
   "cell_type": "code",
   "execution_count": 11,
   "metadata": {},
   "outputs": [
    {
     "data": {
      "image/png": "[encoded data removed]",
      "text/plain": [
       "<matplotlib.figure.Figure at 0x259ac1bd978>"
      ]
     },
     "metadata": {},
     "output_type": "display_data"
    }
   ],
   "source": [
    "# Create Boxplot of raw data\n",
    "plt.figure()\n",
    "plt.boxplot(X)\n",
    "plt.title('Boxplots of raw data');\n",
    "plt.xticks([1,2,3,4,5,6,7,8],attributeNames)\n",
    "plt.grid(axis='y',linestyle='dashed')\n",
    "plt.show()    "
   ]
  },
  {
   "cell_type": "code",
   "execution_count": 12,
   "metadata": {},
   "outputs": [
    {
     "data": {
      "image/png": "[encoded data removed]",
      "text/plain": [
       "<matplotlib.figure.Figure at 0x259ac590198>"
      ]
     },
     "metadata": {},
     "output_type": "display_data"
    }
   ],
   "source": [
    "# Create Boxplot of raw data without Age, SVI and pgg45\n",
    "\n",
    "# Attribute to use as query\n",
    "\n",
    "selected_rows = [0,1,3,5,6,8]\n",
    "selected_names = []\n",
    "\n",
    "for i in selected_rows:\n",
    "    selected_names.append(attributeNames[i])\n",
    "\n",
    "# Create Boxplot of raw data with Age and pgg45\n",
    "selected_rows2 = [2,7]\n",
    "selected_names2 = []\n",
    "\n",
    "for i in selected_rows2:\n",
    "    selected_names2.append(attributeNames[i])\n",
    "\n",
    "#plot boxplots together\n",
    "plt.figure(figsize=(20,10))\n",
    "plt.rc('xtick', labelsize=20) \n",
    "plt.rc('ytick', labelsize=20)\n",
    "plt.subplot(1, 2, 1)\n",
    "plt.boxplot(X[:,selected_rows])\n",
    "#plt.title('Boxplots of raw data');\n",
    "plt.xticks([1,2,3,4,5,6], selected_names)\n",
    "plt.grid(axis='y',linestyle='dashed')\n",
    "\n",
    "plt.subplot(1, 2, 2)\n",
    "plt.boxplot(X[:,selected_rows2])\n",
    "#plt.title('Boxplots of raw data');\n",
    "plt.xticks([1,2],selected_names2)\n",
    "plt.grid(axis='y',linestyle='dashed')\n",
    "plt.show() \n"
   ]
  },
  {
   "cell_type": "code",
   "execution_count": null,
   "metadata": {},
   "outputs": [],
   "source": [
    "#Covariance and correlation\n",
    "\n",
    "# Covariance of X\n",
    "covariance_X = np.cov(X)\n",
    "print(covariance_X)\n",
    "\n",
    "#correlation of X\n",
    "correlation_X = np.corrcoef(X)\n",
    "print(correlation_X)"
   ]
  },
  {
   "cell_type": "code",
   "execution_count": null,
   "metadata": {},
   "outputs": [],
   "source": [
    "########## Similarity analysis ###########\n",
    "\n",
    "# Attribute to use as query\n",
    "\n",
    "# Similarity: 'SMC', 'Jaccard', 'ExtendedJaccard', 'Cosine', 'Correlation' \n",
    "similarity_measure = 'correlation'\n",
    "\n",
    "N, M = X.shape\n",
    "# Search for similar attributes\n",
    "# Index of all other attributes than i\n",
    "\n",
    "for i in range(8):\n",
    "    noti = list(range(0,i)) + list(range(i+1,M)) \n",
    "    # Compute similarity between attribute i and all others\n",
    "    sim = similarity(X[:,i], X[:,noti].T, similarity_measure)\n",
    "    sim = sim.tolist()[0]\n",
    "    # Tuples of sorted similarities and their attribute name\n",
    "    Name = []\n",
    "    for number in noti:\n",
    "        Name.append(attributeNames[number])\n",
    "    sim_to_index = sorted(zip(sim, Name))\n",
    "    print('Similarity of ', attributeNames[i], 'to:')\n",
    "    print(sim_to_index)\n",
    "    "
   ]
  },
  {
   "cell_type": "code",
   "execution_count": null,
   "metadata": {},
   "outputs": [],
   "source": [
    "# Z-scoring (standardizing) the data (X) in order to compute more meaningful similarity measures\n",
    "    \n",
    "X_zscore = zscore(X)\n",
    "\n",
    "for i in range(8):\n",
    "    noti = list(range(0,i)) + list(range(i+1,M)) \n",
    "    # Compute similarity between attribute i and all others\n",
    "    sim = similarity(X_zscore[:,i], X_zscore[:,noti].T, similarity_measure)\n",
    "    sim = sim.tolist()[0]\n",
    "    # Tuples of sorted similarities and their attribute name\n",
    "    Name = []\n",
    "    for number in noti:\n",
    "        Name.append(attributeNames[number])\n",
    "    sim_to_index = sorted(zip(sim, Name))\n",
    "    print('Similarity of', attributeNames[i], 'to:')\n",
    "    print(sim_to_index)\n",
    "    \n",
    "\n",
    "# Calculate projections of Y on Eqigenvector\n",
    "plt.figure()\n",
    "plt.boxplot(Y)\n",
    "plt.title('Boxplots of demeaned data');\n",
    "plt.xticks([1,2,3,4,5,6,7,8],attributeNames)\n",
    "plt.grid(axis='y',linestyle='dashed')\n",
    "plt.show()\n"
   ]
  },
  {
   "cell_type": "code",
   "execution_count": null,
   "metadata": {},
   "outputs": [],
   "source": [
    "\n",
    "print(V[:,1].T)\n",
    "## Projection of water class onto the 2nd principal component.\n",
    "\n",
    "# When Y and V have type numpy.array, then @ is matrix multiplication\n",
    "print( Y[y==4,:] @ V[:,1] )\n"
   ]
  },
  {
   "cell_type": "code",
   "execution_count": null,
   "metadata": {},
   "outputs": [],
   "source": []
  },
  {
   "cell_type": "code",
   "execution_count": null,
   "metadata": {},
   "outputs": [],
   "source": []
  },
  {
   "cell_type": "code",
   "execution_count": null,
   "metadata": {},
   "outputs": [],
   "source": []
  },
  {
   "cell_type": "code",
   "execution_count": null,
   "metadata": {},
   "outputs": [],
   "source": []
  },
  {
   "cell_type": "code",
   "execution_count": null,
   "metadata": {},
   "outputs": [],
   "source": []
  }
 ],
 "metadata": {
  "kernelspec": {
   "display_name": "Python 3",
   "language": "python",
   "name": "python3"
  },
  "language_info": {
   "codemirror_mode": {
    "name": "ipython",
    "version": 3
   },
   "file_extension": ".py",
   "mimetype": "text/x-python",
   "name": "python",
   "nbconvert_exporter": "python",
   "pygments_lexer": "ipython3",
   "version": "3.6.6"
  }
 },
 "nbformat": 4,
 "nbformat_minor": 2
}

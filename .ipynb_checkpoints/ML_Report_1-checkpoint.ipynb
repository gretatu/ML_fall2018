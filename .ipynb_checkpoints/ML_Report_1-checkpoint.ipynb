{
 "cells": [
  {
   "cell_type": "markdown",
   "metadata": {},
   "source": [
    "## Purpose\n",
    "The purpose of this application is to inspect the prostate dataset that we intend\n",
    "to use for the project in 02450 Intro to Machine Learning\n",
    "\n",
    "To-do:\n",
    "We need to fix the indexing of the columns - the way it is implemented right now something strange happens\n",
    "\n",
    "Author: Peter Bakke\n",
    "\n",
    "Reviewed by: Greta Tuckute \n",
    "\n",
    "Last modified: 24/09/18, 17.40\n",
    "\n",
    "#### Change-log\n",
    "2018-09-26: Converted to Jupyter Notebook"
   ]
  },
  {
   "cell_type": "markdown",
   "metadata": {},
   "source": [
    "Import required packages"
   ]
  },
  {
   "cell_type": "code",
   "execution_count": 1,
   "metadata": {},
   "outputs": [],
   "source": [
    "import matplotlib.pyplot as plt\n",
    "import numpy as np\n",
    "from scipy.stats import zscore\n",
    "from scipy.linalg import svd\n",
    "from similarity import similarity\n",
    "\n"
   ]
  },
  {
   "cell_type": "markdown",
   "metadata": {},
   "source": [
    "First we define a method for importing a spread_sheet using pandas"
   ]
  },
  {
   "cell_type": "code",
   "execution_count": 2,
   "metadata": {},
   "outputs": [],
   "source": [
    "def DataLoader(path, sheet):\n",
    "    \"\"\"\n",
    "    Method for importing data from a spreadsheet.\n",
    "\n",
    "    :param path: full path to the spreadsheet to load\n",
    "    :param sheet: name of the sheet in the workbook that is loaded\n",
    "    :return: pandas dataFrame with imported data\n",
    "    \"\"\"\n",
    "    import pandas as pd\n",
    "\n",
    "    out = pd.read_excel(path, sheet_name=sheet)\n",
    "\n",
    "    return out"
   ]
  },
  {
   "cell_type": "code",
   "execution_count": 3,
   "metadata": {},
   "outputs": [],
   "source": [
    "# Specify path and sheet name in the prostate workbook\n",
    "filePath = 'C:/Users/PeterBakke/Documents/git/ML_fall2018/Data/Prostate.xlsx'\n",
    "#filePath = 'C:/Users/Greta/Documents/Github/ML_fall2018/Data/Prostate.xlsx'\n",
    "#filePath = 'C:/Users/narisa/Documents/GitHub/ML_fall2018/Data/Prostate.xlsx'\n",
    "sheet = 'Sheet1'\n"
   ]
  },
  {
   "cell_type": "code",
   "execution_count": 4,
   "metadata": {},
   "outputs": [],
   "source": [
    "# load prostate data into dataFrame\n",
    "myData = DataLoader(path=filePath, sheet=sheet)\n",
    "\n",
    "# delete irrelevant columns\n",
    "del myData['ID']\n",
    "del myData['train']"
   ]
  },
  {
   "cell_type": "code",
   "execution_count": 5,
   "metadata": {},
   "outputs": [
    {
     "name": "stdout",
     "output_type": "stream",
     "text": [
      "['lCaVol', 'lWeight', 'Age', 'lBPH', 'SVI', 'lCP', 'pgg45', 'lPSA']\n",
      "{6: 0, 7: 1, 8: 2, 9: 3}\n"
     ]
    }
   ],
   "source": [
    "# extract class names and encode with integers (dict)\n",
    "\n",
    "classLabels = myData['Gleason'].values.tolist()\n",
    "classNames = sorted(set(classLabels))\n",
    "classDict = dict(zip(classNames, range(4)))\n",
    "\n",
    "del myData['Gleason']\n",
    "\n",
    "attributeNames = list(myData.columns.values)\n",
    "\n",
    "print(attributeNames)\n",
    "print(classDict)"
   ]
  },
  {
   "cell_type": "code",
   "execution_count": 6,
   "metadata": {},
   "outputs": [],
   "source": [
    "# Extract vector y, convert to NumPy array\n",
    "y = np.asarray([classDict[value] for value in classLabels])\n",
    "\n",
    "# Convert dataFrame to numpy array\n",
    "X = myData.values\n",
    "\n",
    "# Compute values of N, M and C\n",
    "N = len(y)\n",
    "M = len(attributeNames)\n",
    "C = len(classNames)"
   ]
  },
  {
   "cell_type": "code",
   "execution_count": 7,
   "metadata": {},
   "outputs": [
    {
     "data": {
      "image/png": "[encoded data removed]",
      "text/plain": [
       "<Figure size 432x288 with 1 Axes>"
      ]
     },
     "metadata": {},
     "output_type": "display_data"
    }
   ],
   "source": [
    "# Data attributes to be plotted\n",
    "i = 5\n",
    "j = 7\n",
    "\n",
    "# Plotting the data set (different attributes to be specified)\n",
    "f = plt.figure()\n",
    "#plt.title('Prostate data of attributes: ' + str(attributeNames[i]) + ' vs. ' + str(attributeNames[j]))\n",
    "\n",
    "for c in range(C):\n",
    "    # select indices belonging to class c:\n",
    "    class_mask = y==c\n",
    "    plt.plot(X[class_mask,i], X[class_mask,j], 'o')\n",
    "\n",
    "#plt.legend(classNames)\n",
    "gleason_legend = ['Gleason Score 6', 'Gleason Score 7', 'Gleason Score 8', 'Gleason Score 9']\n",
    "plt.legend(gleason_legend)\n",
    "plt.xlabel(attributeNames[i])\n",
    "plt.ylabel(attributeNames[j])\n",
    "\n",
    "# plt.savefig(\"C:/Users/PeterBakke/Documents/git/ML_fall2018/Figures/\" + attributeNames[i] +  \"_vs_\" + attributeNames[j]+\".png\")\n",
    "\n",
    "# Output result to screen\n",
    "plt.show()"
   ]
  },
  {
   "cell_type": "markdown",
   "metadata": {},
   "source": [
    "## Principal Component Analysis\n",
    "In the following section of the notebook a PCA is performed"
   ]
  },
  {
   "cell_type": "code",
   "execution_count": 8,
   "metadata": {},
   "outputs": [
    {
     "name": "stdout",
     "output_type": "stream",
     "text": [
      "The variance explained by each PCA is: \n",
      " [0.43903305 0.20535007 0.1072922  0.07579967 0.05861728 0.05352628\n",
      " 0.04043515 0.01994631]\n",
      "Fast check to ensure that we sum over the right axis: 0.9999999999999999\n",
      "The first eigenvector is: \n",
      "[ 0.44512589 -0.0964064   0.1980779  -0.23478474  0.56584709 -0.00908399\n",
      "  0.26172513 -0.55627738]\n",
      "The second eigenvector is: \n",
      "[ 0.24180931  0.51116273  0.39759632 -0.12904273 -0.46575046  0.50145242\n",
      "  0.16157167 -0.1049887 ]\n",
      "The third eigenvector is: \n",
      "[ 0.19990715  0.45116797 -0.58073803 -0.60062759  0.05205965 -0.15855467\n",
      " -0.02220796  0.17358411]\n"
     ]
    }
   ],
   "source": [
    "# Normalize data with mean and std\n",
    "Y = (X - np.ones((N,1))*X.mean(axis=0)) / X.std(axis=0)\n",
    "\n",
    "# PCA by computing SVD of Y\n",
    "U,S,V = svd(Y,full_matrices=False)\n",
    "\n",
    "Z = np.dot(Y, V.T)\n",
    "\n",
    "# Compute variance explained by principal components\n",
    "rho = (S*S) / (S*S).sum()\n",
    "\n",
    "print(\"The variance explained by each PCA is: \\n \" + str(rho))\n",
    "print(\"Fast check to ensure that we sum over the right axis: \" + str(rho.sum()))\n",
    "\n",
    "print(\"The first eigenvector is: \\n\" + str(V.T[0,:]))\n",
    "print(\"The second eigenvector is: \\n\" + str(V.T[1,:]))\n",
    "print(\"The third eigenvector is: \\n\" + str(V.T[2,:]))"
   ]
  },
  {
   "cell_type": "code",
   "execution_count": 9,
   "metadata": {},
   "outputs": [
    {
     "data": {
      "image/png": "[encoded data removed]",
      "text/plain": [
       "<Figure size 432x288 with 1 Axes>"
      ]
     },
     "metadata": {},
     "output_type": "display_data"
    }
   ],
   "source": [
    "# Plot variance explained\n",
    "plt.figure()\n",
    "plt.plot(range(1,len(rho)+1),rho,'o-')\n",
    "#plt.title('Variance explained by principal components');\n",
    "plt.xlabel('Principal component');\n",
    "plt.ylabel('Variance explained');\n",
    "plt.grid(axis='y',linestyle='dashed')\n",
    "plt.savefig(\"C:/Users/PeterBakke/Documents/git/ML_fall2018/Figures/Variance_explained.png\")\n",
    "plt.show()"
   ]
  },
  {
   "cell_type": "code",
   "execution_count": 11,
   "metadata": {},
   "outputs": [
    {
     "data": {
      "image/png": "[encoded data removed]",
      "text/plain": [
       "<Figure size 432x288 with 1 Axes>"
      ]
     },
     "metadata": {},
     "output_type": "display_data"
    },
    {
     "data": {
      "image/png": "[encoded data removed]",
      "text/plain": [
       "<Figure size 432x288 with 1 Axes>"
      ]
     },
     "metadata": {},
     "output_type": "display_data"
    },
    {
     "data": {
      "image/png": "[encoded data removed]",
      "text/plain": [
       "<Figure size 432x288 with 1 Axes>"
      ]
     },
     "metadata": {},
     "output_type": "display_data"
    },
    {
     "data": {
      "image/png": "[encoded data removed]",
      "text/plain": [
       "<Figure size 432x288 with 1 Axes>"
      ]
     },
     "metadata": {},
     "output_type": "display_data"
    },
    {
     "data": {
      "image/png": "[encoded data removed]",
      "text/plain": [
       "<Figure size 432x288 with 1 Axes>"
      ]
     },
     "metadata": {},
     "output_type": "display_data"
    }
   ],
   "source": [
    "# Indices of the principal components to be plotted\n",
    "ii = 1\n",
    "jj = 2\n",
    "\n",
    "# Plot PCA of the data\n",
    "f = plt.figure()\n",
    "#plt.title('Prostate data: PC' + str(ii+1) + ' vs. '+ 'PC' + str(jj+1))\n",
    "#Z = array(Z)\n",
    "for c in range(C):\n",
    "    # select indices belonging to class c:\n",
    "    class_mask = y==c\n",
    "    plt.plot(Z[class_mask,ii], Z[class_mask,jj], 'o')\n",
    "plt.legend(classNames)\n",
    "plt.xlabel('PC{0}'.format(ii+1))\n",
    "plt.ylabel('PC{0}'.format(jj+1))\n",
    "plt.savefig(\"C:/Users/PeterBakke/Documents/git/ML_fall2018/Figures/\" + 'PC{0}'.format(ii+1) +  \"_vs_\" + 'PC{0}'.format(jj+1) + \".png\")\n",
    "\n",
    "# Plot PCA_ii of the data against lpsa\n",
    "f = plt.figure()\n",
    "#plt.title('Prostate data: PC' + str(ii+1) + ' against lPSA')\n",
    "#Z = array(Z)\n",
    "for c in range(C):\n",
    "    # select indices belonging to class c:\n",
    "    class_mask = y==c\n",
    "    plt.plot(Z[class_mask,ii], Y[class_mask,7], 'o')\n",
    "plt.legend(classNames)\n",
    "plt.xlabel('PC{0}'.format(ii+1))\n",
    "plt.ylabel('lPSA')\n",
    "#plt.savefig(\"C:/Users/PeterBakke/Documents/git/ML_fall2018/Figures/\" + 'PC{0}'.format(ii+1) +  \"_vs_\" + \"lPSA.png\")\n",
    "\n",
    "# Plot PCA_ii+1 of the data against lpsa\n",
    "f = plt.figure()\n",
    "#plt.title('Prostate data: PC' + str(ii+2) + ' against lPSA')\n",
    "#Z = array(Z)\n",
    "for c in range(C):\n",
    "    # select indices belonging to class c:\n",
    "    class_mask = y==c\n",
    "    plt.plot(Z[class_mask,ii+1], Y[class_mask,7], 'o')\n",
    "plt.legend(classNames)\n",
    "plt.xlabel('PC{0}'.format(ii+2))\n",
    "plt.ylabel('lPSA')\n",
    "#plt.savefig(\"C:/Users/PeterBakke/Documents/git/ML_fall2018/Figures/\" + 'PC{0}'.format(ii+2) +  \"_vs_\" + \"lPSA.png\")\n",
    "\n",
    "\n",
    "# Plot PCA_ii+2 of the data against lpsa\n",
    "f = plt.figure()\n",
    "#plt.title('Prostate data: PC' + str(ii+3) + ' against lPSA')\n",
    "#Z = array(Z)\n",
    "for c in range(C):\n",
    "    # select indices belonging to class c:\n",
    "    class_mask = y==c\n",
    "    plt.plot(Z[class_mask,ii+2], Y[class_mask,7], 'o')\n",
    "plt.legend(classNames)\n",
    "plt.xlabel('PC{0}'.format(ii+3))\n",
    "plt.ylabel('lPSA')\n",
    "#plt.savefig(\"C:/Users/PeterBakke/Documents/git/ML_fall2018/Figures/\" + 'PC{0}'.format(ii+3) +  \"_vs_\" + \"lPSA.png\")\n",
    "\n",
    "\n",
    "\n",
    "# Plot PCA_ii of the data against Gleason\n",
    "f = plt.figure()\n",
    "#plt.title('Prostate data: PC' + str(ii+1) + ' against PGG45')\n",
    "#Z = array(Z)\n",
    "for c in range(C):\n",
    "    # select indices belonging to class c:\n",
    "    class_mask = y==c\n",
    "    plt.plot(Z[class_mask,ii], Y[class_mask,6], 'o')\n",
    "plt.legend(classNames)\n",
    "plt.xlabel('PC{0}'.format(ii+1))\n",
    "plt.ylabel('PGG45')\n",
    "#plt.savefig(\"C:/Users/PeterBakke/Documents/git/ML_fall2018/Figures/\" + 'PC{0}'.format(ii+1) +  \"_vs_\" + \"PGG45.png\")\n",
    "\n",
    "\n",
    "# Output result to screen\n",
    "plt.show()"
   ]
  },
  {
   "cell_type": "markdown",
   "metadata": {},
   "source": [
    "## The following section contains summary statistics and boxplots\n"
   ]
  },
  {
   "cell_type": "code",
   "execution_count": 21,
   "metadata": {},
   "outputs": [
    {
     "data": {
      "image/png": "[encoded data removed]",
      "text/plain": [
       "<Figure size 432x288 with 1 Axes>"
      ]
     },
     "metadata": {},
     "output_type": "display_data"
    }
   ],
   "source": [
    "# Make Boxplots\n",
    "plt.figure()\n",
    "plt.boxplot(Y)\n",
    "plt.title('Boxplots of demeaned data');\n",
    "plt.xticks([1,2,3,4,5,6,7,8],attributeNames)\n",
    "plt.grid(axis='y',linestyle='dashed')\n",
    "# plt.savefig(\"C:/Users/PeterBakke/Documents/git/ML_fall2018/Figures/Boxplots.png\")\n",
    "plt.show()"
   ]
  },
  {
   "cell_type": "code",
   "execution_count": 22,
   "metadata": {},
   "outputs": [],
   "source": [
    "# Summary statistics\n",
    "# Create dict of attribute dictonaries using comprehensions\n",
    "keys = ['mean', 'std', 'median', 'range', 'Q_25', 'Q_75', 'min', 'max']\n",
    "\n",
    "statistics={name:{key:[] for key in keys} for name in attributeNames}\n",
    "\n",
    "for attribute in statistics:\n",
    "    k = attributeNames.index(attribute)\n",
    "    statistics[attribute]['mean'] = X[:,k].mean()\n",
    "    statistics[attribute]['std'] = X[:,k].std(ddof=1)\n",
    "    statistics[attribute]['median'] = np.median(X[:,k])\n",
    "    statistics[attribute]['range'] = X[:,k].max()-X[:,k].min()\n",
    "    statistics[attribute]['Q_25'] = np.percentile(X[:,k],25)\n",
    "    statistics[attribute]['Q_75'] = np.percentile(X[:,k],75)\n",
    "    statistics[attribute]['min'] = X[:,k].min()\n",
    "    statistics[attribute]['max'] = X[:,k].max()"
   ]
  },
  {
   "cell_type": "code",
   "execution_count": 23,
   "metadata": {},
   "outputs": [
    {
     "data": {
      "text/plain": [
       "{'mean': 24.38144329896907,\n",
       " 'std': 28.204034617914548,\n",
       " 'median': 15.0,\n",
       " 'range': 100.0,\n",
       " 'Q_25': 0.0,\n",
       " 'Q_75': 40.0,\n",
       " 'min': 0.0,\n",
       " 'max': 100.0}"
      ]
     },
     "execution_count": 23,
     "metadata": {},
     "output_type": "execute_result"
    }
   ],
   "source": [
    "statistics['pgg45']"
   ]
  },
  {
   "cell_type": "code",
   "execution_count": 24,
   "metadata": {},
   "outputs": [
    {
     "data": {
      "image/png": "[encoded data removed]",
      "text/plain": [
       "<Figure size 432x288 with 1 Axes>"
      ]
     },
     "metadata": {},
     "output_type": "display_data"
    }
   ],
   "source": [
    "# Create Boxplot of raw data\n",
    "plt.figure()\n",
    "plt.boxplot(X)\n",
    "plt.title('Boxplots of raw data');\n",
    "plt.xticks([1,2,3,4,5,6,7,8],attributeNames)\n",
    "plt.grid(axis='y',linestyle='dashed')\n",
    "plt.show()    "
   ]
  },
  {
   "cell_type": "code",
   "execution_count": 20,
   "metadata": {},
   "outputs": [
    {
     "ename": "IndexError",
     "evalue": "list index out of range",
     "output_type": "error",
     "traceback": [
      "\u001b[1;31m---------------------------------------------------------------------------\u001b[0m",
      "\u001b[1;31mIndexError\u001b[0m                                Traceback (most recent call last)",
      "\u001b[1;32m<ipython-input-20-6d56d5fd24f2>\u001b[0m in \u001b[0;36m<module>\u001b[1;34m()\u001b[0m\n\u001b[0;32m      7\u001b[0m \u001b[1;33m\u001b[0m\u001b[0m\n\u001b[0;32m      8\u001b[0m \u001b[1;32mfor\u001b[0m \u001b[0mi\u001b[0m \u001b[1;32min\u001b[0m \u001b[0mselected_rows\u001b[0m\u001b[1;33m:\u001b[0m\u001b[1;33m\u001b[0m\u001b[0m\n\u001b[1;32m----> 9\u001b[1;33m     \u001b[0mselected_names\u001b[0m\u001b[1;33m.\u001b[0m\u001b[0mappend\u001b[0m\u001b[1;33m(\u001b[0m\u001b[0mattributeNames\u001b[0m\u001b[1;33m[\u001b[0m\u001b[0mi\u001b[0m\u001b[1;33m]\u001b[0m\u001b[1;33m)\u001b[0m\u001b[1;33m\u001b[0m\u001b[0m\n\u001b[0m\u001b[0;32m     10\u001b[0m \u001b[1;33m\u001b[0m\u001b[0m\n\u001b[0;32m     11\u001b[0m \u001b[1;31m# Create Boxplot of raw data with Age and pgg45\u001b[0m\u001b[1;33m\u001b[0m\u001b[1;33m\u001b[0m\u001b[0m\n",
      "\u001b[1;31mIndexError\u001b[0m: list index out of range"
     ]
    }
   ],
   "source": [
    "# Create Boxplot of raw data without Age, SVI and pgg45\n",
    "\n",
    "# Attribute to use as query\n",
    "\n",
    "selected_rows = [0,1,3,5,6,8]\n",
    "selected_names = []\n",
    "\n",
    "for i in selected_rows:\n",
    "    selected_names.append(attributeNames[i])\n",
    "\n",
    "# Create Boxplot of raw data with Age and pgg45\n",
    "selected_rows2 = [2,7]\n",
    "selected_names2 = []\n",
    "\n",
    "for i in selected_rows2:\n",
    "    selected_names2.append(attributeNames[i])\n",
    "\n",
    "#plot boxplots together\n",
    "plt.figure(figsize=(20,10))\n",
    "plt.rc('xtick', labelsize=20) \n",
    "plt.rc('ytick', labelsize=20)\n",
    "plt.subplot(1, 2, 1)\n",
    "plt.boxplot(X[:,selected_rows])\n",
    "#plt.title('Boxplots of raw data');\n",
    "plt.xticks([1,2,3,4,5,6], selected_names)\n",
    "plt.grid(axis='y',linestyle='dashed')\n",
    "\n",
    "plt.subplot(1, 2, 2)\n",
    "plt.boxplot(X[:,selected_rows2])\n",
    "#plt.title('Boxplots of raw data');\n",
    "plt.xticks([1,2],selected_names2)\n",
    "plt.grid(axis='y',linestyle='dashed')\n",
    "plt.show() \n"
   ]
  },
  {
   "cell_type": "code",
   "execution_count": 25,
   "metadata": {},
   "outputs": [
    {
     "name": "stdout",
     "output_type": "stream",
     "text": [
      "['lCaVol', 'lWeight', 'Age', 'lBPH', 'SVI', 'lCP', 'pgg45', 'lPSA']\n",
      "[[ 1.          0.28052138  0.22499988  0.0273497   0.538845    0.67531048\n",
      "   0.43365225  0.73446033]\n",
      " [ 0.28052138  1.          0.34796911  0.4422644   0.1553849   0.16453714\n",
      "   0.10735379  0.43331938]\n",
      " [ 0.22499988  0.34796911  1.          0.3501859   0.11765804  0.12766775\n",
      "   0.27611245  0.16959284]\n",
      " [ 0.0273497   0.4422644   0.3501859   1.         -0.08584324 -0.00699943\n",
      "   0.07846002  0.1798094 ]\n",
      " [ 0.538845    0.1553849   0.11765804 -0.08584324  1.          0.67311118\n",
      "   0.45764762  0.56621822]\n",
      " [ 0.67531048  0.16453714  0.12766775 -0.00699943  0.67311118  1.\n",
      "   0.63152825  0.54881317]\n",
      " [ 0.43365225  0.10735379  0.27611245  0.07846002  0.45764762  0.63152825\n",
      "   1.          0.42231586]\n",
      " [ 0.73446033  0.43331938  0.16959284  0.1798094   0.56621822  0.54881317\n",
      "   0.42231586  1.        ]]\n"
     ]
    }
   ],
   "source": [
    "#Covariance and correlation\n",
    "\n",
    "np.set_printoptions(threshold=np.nan)\n",
    "\n",
    "# Covariance of X\n",
    "covariance_X = np.cov(X)\n",
    "#print(covariance_X)\n",
    "\n",
    "#correlation of X\n",
    "correlation_X = np.corrcoef(X, rowvar=False)\n",
    "print(attributeNames)\n",
    "print(correlation_X)"
   ]
  },
  {
   "cell_type": "code",
   "execution_count": 26,
   "metadata": {},
   "outputs": [
    {
     "name": "stdout",
     "output_type": "stream",
     "text": [
      "Similarity of  lCaVol to:\n",
      "[(0.02734970330362531, 'lBPH'), (0.22499987914993155, 'Age'), (0.280521380009833, 'lWeight'), (0.43365224902809046, 'pgg45'), (0.5388450022638601, 'SVI'), (0.6753104840558688, 'lCP'), (0.7344603262136732, 'lPSA')]\n",
      "Similarity of  lWeight to:\n",
      "[(0.10735378533094626, 'pgg45'), (0.15538490280412495, 'SVI'), (0.16453714174666803, 'lCP'), (0.280521380009833, 'lCaVol'), (0.3479691120147088, 'Age'), (0.43331938249261986, 'lPSA'), (0.44226439926433353, 'lBPH')]\n",
      "Similarity of  Age to:\n",
      "[(0.11765803822258399, 'SVI'), (0.12766775223999327, 'lCP'), (0.16959283918685045, 'lPSA'), (0.22499987914993155, 'lCaVol'), (0.27611244500842985, 'pgg45'), (0.3479691120147088, 'lWeight'), (0.3501858961051843, 'lBPH')]\n",
      "Similarity of  lBPH to:\n",
      "[(-0.08584323800391731, 'SVI'), (-0.006999431214984304, 'lCP'), (0.02734970330362531, 'lCaVol'), (0.07846001781443268, 'pgg45'), (0.17980940394145728, 'lPSA'), (0.3501858961051843, 'Age'), (0.44226439926433353, 'lWeight')]\n",
      "Similarity of  SVI to:\n",
      "[(-0.08584323800391731, 'lBPH'), (0.11765803822258399, 'Age'), (0.15538490280412495, 'lWeight'), (0.45764761716285934, 'pgg45'), (0.5388450022638601, 'lCaVol'), (0.5662182224414465, 'lPSA'), (0.6731111847665793, 'lCP')]\n",
      "Similarity of  lCP to:\n",
      "[(-0.006999431214984304, 'lBPH'), (0.12766775223999327, 'Age'), (0.16453714174666803, 'lWeight'), (0.5488131747249599, 'lPSA'), (0.6315282455139501, 'pgg45'), (0.6731111847665793, 'SVI'), (0.6753104840558688, 'lCaVol')]\n",
      "Similarity of  pgg45 to:\n",
      "[(0.07846001781443268, 'lBPH'), (0.10735378533094626, 'lWeight'), (0.27611244500842985, 'Age'), (0.4223158578794975, 'lPSA'), (0.43365224902809046, 'lCaVol'), (0.45764761716285934, 'SVI'), (0.6315282455139501, 'lCP')]\n",
      "Similarity of  lPSA to:\n",
      "[(0.16959283918685045, 'Age'), (0.17980940394145728, 'lBPH'), (0.4223158578794975, 'pgg45'), (0.43331938249261986, 'lWeight'), (0.5488131747249599, 'lCP'), (0.5662182224414465, 'SVI'), (0.7344603262136732, 'lCaVol')]\n"
     ]
    }
   ],
   "source": [
    "########## Similarity analysis ###########\n",
    "\n",
    "# Attribute to use as query\n",
    "\n",
    "# Similarity: 'SMC', 'Jaccard', 'ExtendedJaccard', 'Cosine', 'Correlation' \n",
    "similarity_measure = 'correlation'\n",
    "\n",
    "N, M = X.shape\n",
    "# Search for similar attributes\n",
    "# Index of all other attributes than i\n",
    "\n",
    "for i in range(8):\n",
    "    noti = list(range(0,i)) + list(range(i+1,M)) \n",
    "    # Compute similarity between attribute i and all others\n",
    "    sim = similarity(X[:,i], X[:,noti].T, similarity_measure)\n",
    "    sim = sim.tolist()[0]\n",
    "    # Tuples of sorted similarities and their attribute name\n",
    "    Name = []\n",
    "    for number in noti:\n",
    "        Name.append(attributeNames[number])\n",
    "    sim_to_index = sorted(zip(sim, Name))\n",
    "    print('Similarity of ', attributeNames[i], 'to:')\n",
    "    print(sim_to_index)\n",
    "    "
   ]
  },
  {
   "cell_type": "code",
   "execution_count": 38,
   "metadata": {},
   "outputs": [
    {
     "name": "stdout",
     "output_type": "stream",
     "text": [
      "Similarity of lCaVol to:\n",
      "[(0.02734970330362529, 'lBPH'), (0.22499987914993147, 'Age'), (0.280521380009833, 'lWeight'), (0.43241705582585394, 'Gleason'), (0.43365224902809035, 'pgg45'), (0.5388450022638602, 'SVI'), (0.6753104840558688, 'lCP'), (0.734460326213673, 'lPSA')]\n",
      "Similarity of lWeight to:\n",
      "[(0.056882093361876974, 'Gleason'), (0.10735378533094632, 'pgg45'), (0.15538490280412506, 'SVI'), (0.16453714174666806, 'lCP'), (0.280521380009833, 'lCaVol'), (0.34796911201470887, 'Age'), (0.43331938249262, 'lPSA'), (0.44226439926433353, 'lBPH')]\n",
      "Similarity of Age to:\n",
      "[(0.11765803822258403, 'SVI'), (0.12766775223999327, 'lCP'), (0.16959283918685045, 'lPSA'), (0.22499987914993147, 'lCaVol'), (0.2688915985037052, 'Gleason'), (0.27611244500842985, 'pgg45'), (0.34796911201470887, 'lWeight'), (0.35018589610518425, 'lBPH')]\n",
      "Similarity of lBPH to:\n",
      "[(-0.08584323800391734, 'SVI'), (-0.0069994312149842626, 'lCP'), (0.02734970330362529, 'lCaVol'), (0.07782044719266018, 'Gleason'), (0.07846001781443265, 'pgg45'), (0.17980940394145717, 'lPSA'), (0.35018589610518425, 'Age'), (0.44226439926433353, 'lWeight')]\n",
      "Similarity of SVI to:\n",
      "[(-0.08584323800391734, 'lBPH'), (0.11765803822258403, 'Age'), (0.15538490280412506, 'lWeight'), (0.3204122206073364, 'Gleason'), (0.45764761716285945, 'pgg45'), (0.5388450022638602, 'lCaVol'), (0.5662182224414466, 'lPSA'), (0.6731111847665794, 'lCP')]\n",
      "Similarity of lCP to:\n",
      "[(-0.0069994312149842626, 'lBPH'), (0.12766775223999327, 'Age'), (0.16453714174666806, 'lWeight'), (0.5148300629281438, 'Gleason'), (0.5488131747249598, 'lPSA'), (0.6315282455139501, 'pgg45'), (0.6731111847665794, 'SVI'), (0.6753104840558688, 'lCaVol')]\n",
      "Similarity of Gleason to:\n",
      "[(0.056882093361876974, 'lWeight'), (0.07782044719266018, 'lBPH'), (0.2688915985037052, 'Age'), (0.3204122206073364, 'SVI'), (0.36898680628723096, 'lPSA'), (0.43241705582585394, 'lCaVol'), (0.5148300629281438, 'lCP'), (0.7519045124936884, 'pgg45')]\n",
      "Similarity of pgg45 to:\n",
      "[(0.07846001781443265, 'lBPH'), (0.10735378533094632, 'lWeight'), (0.27611244500842985, 'Age'), (0.4223158578794975, 'lPSA'), (0.43365224902809035, 'lCaVol'), (0.45764761716285945, 'SVI'), (0.6315282455139501, 'lCP'), (0.7519045124936884, 'Gleason')]\n"
     ]
    },
    {
     "data": {
      "image/png": "[encoded data removed]",
      "text/plain": [
       "<Figure size 432x288 with 1 Axes>"
      ]
     },
     "metadata": {},
     "output_type": "display_data"
    }
   ],
   "source": [
    "# Z-scoring (standardizing) the data (X) in order to compute more meaningful similarity measures\n",
    "    \n",
    "X_zscore = zscore(X)\n",
    "\n",
    "for i in range(8):\n",
    "    noti = list(range(0,i)) + list(range(i+1,M)) \n",
    "    # Compute similarity between attribute i and all others\n",
    "    sim = similarity(X_zscore[:,i], X_zscore[:,noti].T, similarity_measure)\n",
    "    sim = sim.tolist()[0]\n",
    "    # Tuples of sorted similarities and their attribute name\n",
    "    Name = []\n",
    "    for number in noti:\n",
    "        Name.append(attributeNames[number])\n",
    "    sim_to_index = sorted(zip(sim, Name))\n",
    "    print('Similarity of', attributeNames[i], 'to:')\n",
    "    print(sim_to_index)\n",
    "    \n",
    "\n",
    "# Calculate projections of Y on Eqigenvector\n",
    "plt.figure()\n",
    "plt.boxplot(Y)\n",
    "plt.title('Boxplots of demeaned data');\n",
    "plt.xticks([1,2,3,4,5,6,7,8],attributeNames)\n",
    "plt.grid(axis='y',linestyle='dashed')\n",
    "plt.show()\n"
   ]
  },
  {
   "cell_type": "code",
   "execution_count": 24,
   "metadata": {},
   "outputs": [
    {
     "name": "stdout",
     "output_type": "stream",
     "text": [
      "[ 0.24180931  0.51116273  0.39759632 -0.12904273 -0.46575046  0.50145242\n",
      "  0.16157167 -0.1049887 ]\n",
      "[]\n"
     ]
    }
   ],
   "source": [
    "\n"
   ]
  },
  {
   "cell_type": "code",
   "execution_count": null,
   "metadata": {},
   "outputs": [],
   "source": []
  },
  {
   "cell_type": "code",
   "execution_count": null,
   "metadata": {},
   "outputs": [],
   "source": []
  },
  {
   "cell_type": "code",
   "execution_count": null,
   "metadata": {},
   "outputs": [],
   "source": []
  },
  {
   "cell_type": "code",
   "execution_count": null,
   "metadata": {},
   "outputs": [],
   "source": []
  },
  {
   "cell_type": "code",
   "execution_count": null,
   "metadata": {},
   "outputs": [],
   "source": []
  }
 ],
 "metadata": {
  "kernelspec": {
   "display_name": "Python 3",
   "language": "python",
   "name": "python3"
  },
  "language_info": {
   "codemirror_mode": {
    "name": "ipython",
    "version": 3
   },
   "file_extension": ".py",
   "mimetype": "text/x-python",
   "name": "python",
   "nbconvert_exporter": "python",
   "pygments_lexer": "ipython3",
   "version": "3.6.5"
  }
 },
 "nbformat": 4,
 "nbformat_minor": 2
}

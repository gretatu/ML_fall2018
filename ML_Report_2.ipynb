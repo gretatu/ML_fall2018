{
 "cells": [
  {
   "cell_type": "markdown",
   "metadata": {},
   "source": [
    "## Purpose\n",
    "The purpose of this application is to inspect the prostate dataset that we intend\n",
    "to use for the project in 02450 Intro to Machine Learning\n",
    "\n",
    "Author: Greta Tuckute\n",
    "Reviewed by: \n",
    "Last modified: 28/010/18, 09.09\n",
    "\n",
    "#### Change-log\n"
   ]
  },
  {
   "cell_type": "markdown",
   "metadata": {},
   "source": [
    "Import required packages"
   ]
  },
  {
   "cell_type": "code",
   "execution_count": 206,
   "metadata": {},
   "outputs": [],
   "source": [
    "import matplotlib.pyplot as plt\n",
    "import numpy as np\n",
    "from scipy.stats import zscore\n",
    "from scipy.linalg import svd\n",
    "from matplotlib.pyplot import figure, plot, subplot, title, xlabel, ylabel, show, clim, hist\n",
    "import sklearn.linear_model as lm\n",
    "import os\n"
   ]
  },
  {
   "cell_type": "markdown",
   "metadata": {},
   "source": [
    "First we define a method for importing a spread_sheet using pandas"
   ]
  },
  {
   "cell_type": "code",
   "execution_count": 207,
   "metadata": {},
   "outputs": [],
   "source": [
    "def DataLoader(path, sheet):\n",
    "    \"\"\"\n",
    "    Method for importing data from a spreadsheet.\n",
    "\n",
    "    :param path: full path to the spreadsheet to load\n",
    "    :param sheet: name of the sheet in the workbook that is loaded\n",
    "    :return: pandas dataFrame with imported data\n",
    "    \"\"\"\n",
    "    import pandas as pd\n",
    "\n",
    "    out = pd.read_excel(path, sheet_name=sheet)\n",
    "\n",
    "    return out"
   ]
  },
  {
   "cell_type": "code",
   "execution_count": 208,
   "metadata": {},
   "outputs": [],
   "source": [
    "# Specify path and sheet name in the prostate workbook\n",
    "#filePath = 'C:/Users/PeterBakke/Documents/git/ML_fall2018/Data/Prostate.xlsx'\n",
    "filePath = 'C:/Users/Greta/Documents/Github/ML_fall2018/Data/Prostate.xlsx'\n",
    "#filePath = 'C:/Users/narisa/Documents/GitHub/ML_fall2018/Data/Prostate.xlsx'\n",
    "sheet = 'Sheet1'"
   ]
  },
  {
   "cell_type": "code",
   "execution_count": 209,
   "metadata": {},
   "outputs": [],
   "source": [
    "# Load prostate data into dataFrame\n",
    "myData = DataLoader(path=filePath, sheet=sheet)\n",
    "\n",
    "# delete irrelevant columns\n",
    "del myData['ID']\n",
    "del myData['train']\n"
   ]
  },
  {
   "cell_type": "markdown",
   "metadata": {},
   "source": [
    "### Data feature extraction and normalization"
   ]
  },
  {
   "cell_type": "code",
   "execution_count": 210,
   "metadata": {},
   "outputs": [],
   "source": [
    "# If we apply one out of K encoding to Gleason/PGG45, we assume that a higher value is not informative of disease result?\n",
    "\n",
    "# Usually done for ordinal (not often for nominal)\n",
    "\n",
    "# Do NOT normalise categorical data"
   ]
  },
  {
   "cell_type": "code",
   "execution_count": 211,
   "metadata": {},
   "outputs": [
    {
     "name": "stdout",
     "output_type": "stream",
     "text": [
      "['lCaVol', 'lWeight', 'Age', 'lBPH', 'SVI', 'lCP', 'Gleason', 'pgg45', 'lPSA']\n"
     ]
    }
   ],
   "source": [
    "# Extract class names \n",
    "attributeNames = list(myData.columns.values)\n",
    "\n",
    "# Convert dataFrame to numpy array\n",
    "X = myData.values\n",
    "\n",
    "# Compute values of N (observations) and M (features)\n",
    "M = len(attributeNames)\n",
    "N = X.shape[0]\n",
    "\n",
    "print(attributeNames)"
   ]
  },
  {
   "cell_type": "code",
   "execution_count": 212,
   "metadata": {},
   "outputs": [],
   "source": [
    "# Extracting and deleting PGG45 and Gleason from X, as well as SVI (to not normalize SVI)\n",
    "X_orig = np.copy(X)\n",
    "\n",
    "gleason = X_orig[:,6]\n",
    "pgg = X_orig[:,7]\n",
    "svi = X_orig[:,4]\n",
    "\n",
    "# print(X)"
   ]
  },
  {
   "cell_type": "code",
   "execution_count": 213,
   "metadata": {},
   "outputs": [],
   "source": [
    "# OBS - only run this once\n",
    "X = np.delete(X,6,1) # Deletes Gleason\n",
    "X = np.delete(X,6,1) # Deletes PGG\n",
    "X = np.delete(X,4,1) # Deletes SVI"
   ]
  },
  {
   "cell_type": "code",
   "execution_count": 214,
   "metadata": {},
   "outputs": [
    {
     "name": "stdout",
     "output_type": "stream",
     "text": [
      "(97, 6)\n",
      "[[-5.79818495e-01  2.76945900e+00  5.00000000e+01 -1.38629436e+00\n",
      "  -1.38629436e+00 -4.30782900e-01]\n",
      " [-9.94252273e-01  3.31962600e+00  5.80000000e+01 -1.38629436e+00\n",
      "  -1.38629436e+00 -1.62518900e-01]\n",
      " [-5.10825624e-01  2.69124300e+00  7.40000000e+01 -1.38629436e+00\n",
      "  -1.38629436e+00 -1.62518900e-01]\n",
      " [-1.20397280e+00  3.28278900e+00  5.80000000e+01 -1.38629436e+00\n",
      "  -1.38629436e+00 -1.62518900e-01]\n",
      " [ 7.51416089e-01  3.43237300e+00  6.20000000e+01 -1.38629436e+00\n",
      "  -1.38629436e+00  3.71563600e-01]\n",
      " [-1.04982212e+00  3.22882600e+00  5.00000000e+01 -1.38629436e+00\n",
      "  -1.38629436e+00  7.65467800e-01]\n",
      " [ 7.37164066e-01  3.47351800e+00  6.40000000e+01  6.15185640e-01\n",
      "  -1.38629436e+00  7.65467800e-01]\n",
      " [ 6.93147181e-01  3.53950900e+00  5.80000000e+01  1.53686722e+00\n",
      "  -1.38629436e+00  8.54415300e-01]\n",
      " [-7.76528789e-01  3.53950900e+00  4.70000000e+01 -1.38629436e+00\n",
      "  -1.38629436e+00  1.04731900e+00]\n",
      " [ 2.23143551e-01  3.24454400e+00  6.30000000e+01 -1.38629436e+00\n",
      "  -1.38629436e+00  1.04731900e+00]\n",
      " [ 2.54642218e-01  3.60413800e+00  6.50000000e+01 -1.38629436e+00\n",
      "  -1.38629436e+00  1.26694760e+00]\n",
      " [-1.34707365e+00  3.59868100e+00  6.30000000e+01  1.26694760e+00\n",
      "  -1.38629436e+00  1.26694760e+00]\n",
      " [ 1.61342993e+00  3.02286100e+00  6.30000000e+01 -1.38629436e+00\n",
      "  -5.97837000e-01  1.26694760e+00]\n",
      " [ 1.47704872e+00  2.99822900e+00  6.70000000e+01 -1.38629436e+00\n",
      "  -1.38629436e+00  1.34807310e+00]\n",
      " [ 1.20597081e+00  3.44201900e+00  5.70000000e+01 -1.38629436e+00\n",
      "  -4.30782920e-01  1.39871690e+00]\n",
      " [ 1.54115907e+00  3.06105200e+00  6.60000000e+01 -1.38629436e+00\n",
      "  -1.38629436e+00  1.44691900e+00]\n",
      " [-4.15515444e-01  3.51601300e+00  7.00000000e+01  1.24415459e+00\n",
      "  -5.97837000e-01  1.47017580e+00]\n",
      " [ 2.28848617e+00  3.64935900e+00  6.60000000e+01 -1.38629436e+00\n",
      "   3.71563560e-01  1.49290410e+00]\n",
      " [-5.62118918e-01  3.26766600e+00  4.10000000e+01 -1.38629436e+00\n",
      "  -1.38629436e+00  1.55814460e+00]\n",
      " [ 1.82321557e-01  3.82537500e+00  7.00000000e+01  1.65822808e+00\n",
      "  -1.38629436e+00  1.59938760e+00]\n",
      " [ 1.14740245e+00  3.41936500e+00  5.90000000e+01 -1.38629436e+00\n",
      "  -1.38629436e+00  1.63899670e+00]\n",
      " [ 2.05923883e+00  3.50104300e+00  6.00000000e+01  1.47476301e+00\n",
      "   1.34807315e+00  1.65822810e+00]\n",
      " [-5.44727175e-01  3.37588000e+00  5.90000000e+01 -7.98507700e-01\n",
      "  -1.38629436e+00  1.69561560e+00]\n",
      " [ 1.78170913e+00  3.45157400e+00  6.30000000e+01  4.38254930e-01\n",
      "   1.17865500e+00  1.71379790e+00]\n",
      " [ 3.85262401e-01  3.66740000e+00  6.90000000e+01  1.59938758e+00\n",
      "  -1.38629436e+00  1.73165550e+00]\n",
      " [ 1.44691898e+00  3.12456500e+00  6.80000000e+01  3.00104590e-01\n",
      "  -1.38629436e+00  1.76644170e+00]\n",
      " [ 5.12823626e-01  3.71965100e+00  6.50000000e+01 -1.38629436e+00\n",
      "  -7.98507700e-01  1.80005830e+00]\n",
      " [-4.00477567e-01  3.86597900e+00  6.70000000e+01  1.81645208e+00\n",
      "  -1.38629436e+00  1.81645210e+00]\n",
      " [ 1.04027671e+00  3.12895100e+00  6.70000000e+01  2.23143550e-01\n",
      "   4.87901600e-02  1.84845480e+00]\n",
      " [ 2.40964417e+00  3.37588000e+00  6.50000000e+01 -1.38629436e+00\n",
      "   1.61938824e+00  1.89461690e+00]\n",
      " [ 2.85178942e-01  4.09016900e+00  6.50000000e+01  1.96290773e+00\n",
      "  -7.98507700e-01  1.92424870e+00]\n",
      " [ 1.82321557e-01  3.80443800e+00  6.50000000e+01  1.70474809e+00\n",
      "  -1.38629436e+00  2.00821400e+00]\n",
      " [ 1.27536280e+00  3.03735400e+00  7.10000000e+01  1.26694760e+00\n",
      "  -1.38629436e+00  2.00821400e+00]\n",
      " [ 9.95033100e-03  3.26766600e+00  5.40000000e+01 -1.38629436e+00\n",
      "  -1.38629436e+00  2.02154760e+00]\n",
      " [-1.00503360e-02  3.21687400e+00  6.30000000e+01 -1.38629436e+00\n",
      "  -7.98507700e-01  2.04769280e+00]\n",
      " [ 1.30833282e+00  4.11985000e+00  6.40000000e+01  2.17133681e+00\n",
      "  -1.38629436e+00  2.08567210e+00]\n",
      " [ 1.42310833e+00  3.65713100e+00  7.30000000e+01 -5.79818500e-01\n",
      "   1.65822808e+00  2.15755930e+00]\n",
      " [ 4.57424847e-01  2.37490600e+00  6.40000000e+01 -1.38629436e+00\n",
      "  -1.38629436e+00  2.19165350e+00]\n",
      " [ 2.66095859e+00  4.08513600e+00  6.80000000e+01  1.37371558e+00\n",
      "   1.83258146e+00  2.21375390e+00]\n",
      " [ 7.97507196e-01  3.01308100e+00  5.60000000e+01  9.36093360e-01\n",
      "  -1.62518930e-01  2.27726730e+00]\n",
      " [ 6.20576488e-01  3.14199500e+00  6.00000000e+01 -1.38629436e+00\n",
      "  -1.38629436e+00  2.29757260e+00]\n",
      " [ 1.44220199e+00  3.68261000e+00  6.80000000e+01 -1.38629436e+00\n",
      "  -1.38629436e+00  2.30757260e+00]\n",
      " [ 5.82215620e-01  3.86597900e+00  6.20000000e+01  1.71379793e+00\n",
      "  -4.30782920e-01  2.32727770e+00]\n",
      " [ 1.77155676e+00  3.89690900e+00  6.10000000e+01 -1.38629436e+00\n",
      "   8.10930220e-01  2.37490580e+00]\n",
      " [ 1.48613970e+00  3.40949600e+00  6.60000000e+01  1.74919985e+00\n",
      "  -4.30782920e-01  2.52172060e+00]\n",
      " [ 1.66392610e+00  3.39282900e+00  6.10000000e+01  6.15185640e-01\n",
      "  -1.38629436e+00  2.55334380e+00]\n",
      " [ 2.72785283e+00  3.99544500e+00  7.90000000e+01  1.87946505e+00\n",
      "   2.65675691e+00  2.56878810e+00]\n",
      " [ 1.16315081e+00  4.03512500e+00  6.80000000e+01  1.71379793e+00\n",
      "  -4.30782920e-01  2.56878810e+00]\n",
      " [ 1.74571553e+00  3.49802200e+00  4.30000000e+01 -1.38629436e+00\n",
      "  -1.38629436e+00  2.59151640e+00]\n",
      " [ 1.22082992e+00  3.56812300e+00  7.00000000e+01  1.37371558e+00\n",
      "  -7.98507700e-01  2.59151640e+00]\n",
      " [ 1.09192330e+00  3.99360300e+00  6.80000000e+01 -1.38629436e+00\n",
      "  -1.38629436e+00  2.65675690e+00]\n",
      " [ 1.66013103e+00  4.23483100e+00  6.40000000e+01  2.07317193e+00\n",
      "  -1.38629436e+00  2.67759100e+00]\n",
      " [ 5.12823626e-01  3.63363100e+00  6.40000000e+01  1.49290410e+00\n",
      "   4.87901600e-02  2.68444030e+00]\n",
      " [ 2.12704052e+00  4.12147300e+00  6.80000000e+01  1.76644166e+00\n",
      "   1.44691898e+00  2.69124310e+00]\n",
      " [ 3.15359036e+00  3.51601300e+00  5.90000000e+01 -1.38629436e+00\n",
      "  -1.38629436e+00  2.70471130e+00]\n",
      " [ 1.26694760e+00  4.28013200e+00  6.60000000e+01  2.12226154e+00\n",
      "  -1.38629436e+00  2.71800050e+00]\n",
      " [ 9.74559640e-01  2.86505400e+00  4.70000000e+01 -1.38629436e+00\n",
      "   5.00775290e-01  2.78809290e+00]\n",
      " [ 4.63734016e-01  3.76468200e+00  4.90000000e+01  1.42310833e+00\n",
      "  -1.38629436e+00  2.79422790e+00]\n",
      " [ 5.42324291e-01  4.17822600e+00  7.00000000e+01  4.38254930e-01\n",
      "  -1.38629436e+00  2.80638610e+00]\n",
      " [ 1.06125650e+00  3.85121100e+00  6.10000000e+01  1.29472717e+00\n",
      "  -1.38629436e+00  2.81241020e+00]\n",
      " [ 4.57424847e-01  4.52450200e+00  7.30000000e+01  2.32630162e+00\n",
      "  -1.38629436e+00  2.84199820e+00]\n",
      " [ 1.99741771e+00  3.71965100e+00  6.30000000e+01  1.61938824e+00\n",
      "   1.90954250e+00  2.85359250e+00]\n",
      " [ 2.77570885e+00  3.52488900e+00  7.20000000e+01 -1.38629436e+00\n",
      "   1.55814462e+00  2.85359250e+00]\n",
      " [ 2.03470565e+00  3.91701100e+00  6.60000000e+01  2.00821403e+00\n",
      "   2.11021320e+00  2.88200350e+00]\n",
      " [ 2.07317193e+00  3.62300700e+00  6.40000000e+01 -1.38629436e+00\n",
      "  -1.38629436e+00  2.88200350e+00]\n",
      " [ 1.45861502e+00  3.83622100e+00  6.10000000e+01  1.32175584e+00\n",
      "  -4.30782920e-01  2.88759010e+00]\n",
      " [ 2.02287119e+00  3.87846600e+00  6.80000000e+01  1.78339122e+00\n",
      "   1.32175584e+00  2.92046980e+00]\n",
      " [ 2.19833507e+00  4.05091500e+00  7.20000000e+01  2.30757263e+00\n",
      "  -4.30782920e-01  2.96269240e+00]\n",
      " [-4.46287103e-01  4.40854700e+00  6.90000000e+01 -1.38629436e+00\n",
      "  -1.38629436e+00  2.96269240e+00]\n",
      " [ 1.19392247e+00  4.78038300e+00  7.20000000e+01  2.32630162e+00\n",
      "  -7.98507700e-01  2.97297530e+00]\n",
      " [ 1.86408013e+00  3.59319400e+00  6.00000000e+01 -1.38629436e+00\n",
      "   1.32175584e+00  3.01308090e+00]\n",
      " [ 1.16002092e+00  3.34109300e+00  7.70000000e+01  1.74919985e+00\n",
      "  -1.38629436e+00  3.03735390e+00]\n",
      " [ 1.21491274e+00  3.82537500e+00  6.90000000e+01 -1.38629436e+00\n",
      "   2.23143550e-01  3.05635690e+00]\n",
      " [ 1.83896107e+00  3.23671600e+00  6.00000000e+01  4.38254930e-01\n",
      "   1.17865500e+00  3.07500550e+00]\n",
      " [ 2.99922616e+00  3.84908300e+00  6.90000000e+01 -1.38629436e+00\n",
      "   1.90954250e+00  3.27525620e+00]\n",
      " [ 3.14113048e+00  3.26384900e+00  6.80000000e+01 -5.12932900e-02\n",
      "   2.42036813e+00  3.33754740e+00]\n",
      " [ 2.01089500e+00  4.43378900e+00  7.20000000e+01  2.12226154e+00\n",
      "   5.00775290e-01  3.39282910e+00]\n",
      " [ 2.53765721e+00  4.35478400e+00  7.80000000e+01  2.32630162e+00\n",
      "  -1.38629436e+00  3.43559880e+00]\n",
      " [ 2.64830020e+00  3.58212900e+00  6.90000000e+01 -1.38629436e+00\n",
      "   2.58399755e+00  3.45789270e+00]\n",
      " [ 2.77944020e+00  3.82319200e+00  6.30000000e+01 -1.38629436e+00\n",
      "   3.71563560e-01  3.51303690e+00]\n",
      " [ 1.46787435e+00  3.07037600e+00  6.60000000e+01  5.59615790e-01\n",
      "   2.23143550e-01  3.51601310e+00]\n",
      " [ 2.51365606e+00  3.47351800e+00  5.70000000e+01  4.38254930e-01\n",
      "   2.32727771e+00  3.53076260e+00]\n",
      " [ 2.61300665e+00  3.88875400e+00  7.70000000e+01 -5.27632740e-01\n",
      "   5.59615790e-01  3.56529840e+00]\n",
      " [ 2.67759099e+00  3.83837600e+00  6.50000000e+01  1.11514159e+00\n",
      "   1.74919985e+00  3.57094020e+00]\n",
      " [ 1.56234630e+00  3.70990700e+00  6.00000000e+01  1.69561561e+00\n",
      "   8.10930220e-01  3.58767690e+00]\n",
      " [ 3.30284926e+00  3.51898000e+00  6.40000000e+01 -1.38629436e+00\n",
      "   2.32727771e+00  3.63098550e+00]\n",
      " [ 2.02419307e+00  3.73169900e+00  5.80000000e+01  1.63899671e+00\n",
      "  -1.38629436e+00  3.68009090e+00]\n",
      " [ 1.73165554e+00  3.36901800e+00  6.20000000e+01 -1.38629436e+00\n",
      "   3.00104590e-01  3.71235180e+00]\n",
      " [ 2.80759383e+00  4.71805200e+00  6.50000000e+01 -1.38629436e+00\n",
      "   2.46385324e+00  3.98434370e+00]\n",
      " [ 1.56234630e+00  3.69511000e+00  7.60000000e+01  9.36093360e-01\n",
      "   8.10930220e-01  3.99360300e+00]\n",
      " [ 3.24649099e+00  4.10181700e+00  6.80000000e+01 -1.38629436e+00\n",
      "  -1.38629436e+00  4.02980600e+00]\n",
      " [ 2.53290285e+00  3.67756600e+00  6.10000000e+01  1.34807315e+00\n",
      "  -1.38629436e+00  4.12955080e+00]\n",
      " [ 2.83026783e+00  3.87639600e+00  6.80000000e+01 -1.38629436e+00\n",
      "   1.32175584e+00  4.38514680e+00]\n",
      " [ 3.82100361e+00  3.89690900e+00  4.40000000e+01 -1.38629436e+00\n",
      "   2.16905370e+00  4.68444340e+00]\n",
      " [ 2.90744736e+00  3.39618500e+00  5.20000000e+01 -1.38629436e+00\n",
      "   2.46385324e+00  5.14312450e+00]\n",
      " [ 2.88256357e+00  3.77391000e+00  6.80000000e+01  1.55814462e+00\n",
      "   1.55814462e+00  5.47750900e+00]\n",
      " [ 3.47196645e+00  3.97499800e+00  6.80000000e+01  4.38254930e-01\n",
      "   2.90416508e+00  5.58293220e+00]]\n"
     ]
    }
   ],
   "source": [
    "print(X.shape)\n",
    "print(X)"
   ]
  },
  {
   "cell_type": "code",
   "execution_count": 215,
   "metadata": {},
   "outputs": [],
   "source": [
    "# Z score all other variables \n",
    "X_z = zscore(X)\n",
    "# print(X_z)\n",
    "\n",
    "# Current order: lCavol, lWeight, Age, lBPH, lCP, lPSA"
   ]
  },
  {
   "cell_type": "code",
   "execution_count": 216,
   "metadata": {},
   "outputs": [],
   "source": [
    "# One out of K coding for PGG and Gleason\n",
    "\n",
    "from categoric2numeric import *\n",
    "\n",
    "[X_Gleason, attribute_names_Gleason]=categoric2numeric(gleason)\n",
    "[X_PGG45, attribute_names_PGG45]=categoric2numeric(pgg)\n",
    "\n",
    "#print(X_Gleason)"
   ]
  },
  {
   "cell_type": "code",
   "execution_count": 217,
   "metadata": {},
   "outputs": [
    {
     "name": "stdout",
     "output_type": "stream",
     "text": [
      "(97, 19)\n",
      "[  0.   4.   5.   6.  10.  15.  20.  25.  30.  35.  40.  50.  60.  70.\n",
      "  75.  80.  90.  95. 100.]\n",
      "(97,)\n",
      "(97, 4)\n"
     ]
    }
   ],
   "source": [
    "print(X_PGG45.shape)\n",
    "print(np.unique(pgg))\n",
    "print(svi.shape)\n",
    "print(X_Gleason.shape)\n",
    "\n",
    "# 97*30"
   ]
  },
  {
   "cell_type": "code",
   "execution_count": 218,
   "metadata": {},
   "outputs": [
    {
     "name": "stdout",
     "output_type": "stream",
     "text": [
      "(97, 1)\n",
      "(97, 11)\n",
      "[-1.58702059 -2.20015441  1.36823439 -1.03002898 -0.86765522 -2.29971238\n",
      "  0.          1.          0.          0.          0.        ]\n"
     ]
    }
   ],
   "source": [
    "# Add one out of K coded Gleason and PGG columns, as well as SVI \n",
    "svi = np.reshape(svi,[97,1])\n",
    "print(svi.shape)\n",
    "# X_k = np.concatenate((X,X_Gleason,X_PGG45,svi),axis=1)\n",
    "X_k = np.concatenate((X_z,X_Gleason,svi),axis=1)\n",
    "\n",
    "print(X_k.shape)\n",
    "print(X_k[2])\n",
    "\n",
    "# Order: lCavol, lWeight, Age, lBPH, lCP, lPSA, Gleason (4 columns), (PGG (19 columns)), SVI (1 column)\n"
   ]
  },
  {
   "cell_type": "code",
   "execution_count": null,
   "metadata": {},
   "outputs": [],
   "source": []
  },
  {
   "cell_type": "code",
   "execution_count": null,
   "metadata": {},
   "outputs": [],
   "source": []
  },
  {
   "cell_type": "markdown",
   "metadata": {},
   "source": [
    "### Regression section"
   ]
  },
  {
   "cell_type": "code",
   "execution_count": 219,
   "metadata": {},
   "outputs": [
    {
     "name": "stdout",
     "output_type": "stream",
     "text": [
      "[-2.53331785 -2.29971238 -2.29971238 -2.29971238 -1.83463099 -1.49161747\n",
      " -1.49161747 -1.4141616  -1.24618021 -1.24618021 -1.05492666 -1.05492666\n",
      " -1.05492666 -0.98428221 -0.94018137 -0.89820677 -0.87795465 -0.85816274\n",
      " -0.80135103 -0.76543644 -0.73094466 -0.71419787 -0.68164068 -0.66580745\n",
      " -0.65025697 -0.619965   -0.59069151 -0.57641572 -0.54854763 -0.50834947\n",
      " -0.48254597 -0.40942861 -0.40942861 -0.39781765 -0.3750503  -0.34197776\n",
      " -0.27937807 -0.24968869 -0.23044356 -0.17513581 -0.15745387 -0.14874583\n",
      " -0.13158654 -0.09011178  0.0377352   0.06527282  0.07872178  0.07872178\n",
      "  0.09851369  0.09851369  0.1553254   0.17346783  0.17943223  0.18535613\n",
      "  0.1970843   0.2086566   0.26969337  0.27503575  0.28562317  0.29086898\n",
      "  0.31663434  0.32673071  0.32673071  0.35147113  0.35147113  0.35633597\n",
      "  0.38496775  0.42173538  0.42173538  0.43068977  0.46561391  0.48675094\n",
      "  0.50329884  0.51953812  0.69391731  0.74816076  0.79630031  0.83354436\n",
      "  0.85295798  0.90097779  0.90356948  0.91641341  0.94648734  0.95140024\n",
      "  0.96597463  1.00368795  1.04644915  1.07454209  1.31139383  1.31945687\n",
      "  1.3509826   1.43784081  1.66041493  1.92104373  2.32046525  2.61164875\n",
      "  2.70345173]\n"
     ]
    }
   ],
   "source": [
    "# Split dataset into features and target vector\n",
    "lPSA_idx = 5\n",
    "# Test lPSA idx:\n",
    "print(X_k[:,5])"
   ]
  },
  {
   "cell_type": "code",
   "execution_count": null,
   "metadata": {},
   "outputs": [],
   "source": []
  },
  {
   "cell_type": "code",
   "execution_count": 220,
   "metadata": {},
   "outputs": [
    {
     "name": "stdout",
     "output_type": "stream",
     "text": [
      "(97, 10)\n",
      "[-1.64586143 -2.01663373 -1.87210098 -1.03002898 -0.86765522  1.\n",
      "  0.          0.          0.          0.        ]\n"
     ]
    }
   ],
   "source": [
    "y = X_k[:,lPSA_idx] # Extracting the y-label (lPSA)\n",
    "\n",
    "X_cols = list(range(0,lPSA_idx)) + list(range(lPSA_idx+1,(X_k.shape[1])))\n",
    "X1 = X_k[:,X_cols] # The new data array without lPSA\n",
    "\n",
    "print(X1.shape)\n",
    "print(X1[0])\n"
   ]
  },
  {
   "cell_type": "code",
   "execution_count": 221,
   "metadata": {},
   "outputs": [
    {
     "name": "stdout",
     "output_type": "stream",
     "text": [
      "['6.0', '7.0', '8.0', '9.0']\n",
      "['0.0', '4.0', '5.0', '6.0', '10.0', '15.0', '20.0', '25.0', '30.0', '35.0', '40.0', '50.0', '60.0', '70.0', '75.0', '80.0', '90.0', '95.0', '100.0']\n"
     ]
    }
   ],
   "source": [
    "# Creating a new, manual attributeNames for later use\n",
    "print(attribute_names_Gleason)\n",
    "print(attribute_names_PGG45)\n",
    "\n",
    "attributeNamesNew = ['lCaVol', 'lWeight', 'Age', 'lBPH', 'lCP','Gleason 6.0', 'Gleason 7.0', 'Gleason 8.0', 'Gleason 9.0','SVI']\n"
   ]
  },
  {
   "cell_type": "code",
   "execution_count": null,
   "metadata": {},
   "outputs": [],
   "source": []
  },
  {
   "cell_type": "code",
   "execution_count": 222,
   "metadata": {},
   "outputs": [
    {
     "name": "stdout",
     "output_type": "stream",
     "text": [
      "Mean squared error: 0.331133591774021\n"
     ]
    },
    {
     "data": {
      "image/png": "[encoded data removed]",
      "text/plain": [
       "<Figure size 432x288 with 1 Axes>"
      ]
     },
     "metadata": {},
     "output_type": "display_data"
    },
    {
     "data": {
      "image/png": "[encoded data removed]",
      "text/plain": [
       "<Figure size 432x288 with 1 Axes>"
      ]
     },
     "metadata": {},
     "output_type": "display_data"
    },
    {
     "data": {
      "text/plain": [
       "<matplotlib.collections.PathCollection at 0x1ee2ceef1d0>"
      ]
     },
     "execution_count": 222,
     "metadata": {},
     "output_type": "execute_result"
    },
    {
     "data": {
      "image/png": "[encoded data removed]",
      "text/plain": [
       "<Figure size 432x288 with 1 Axes>"
      ]
     },
     "metadata": {},
     "output_type": "display_data"
    }
   ],
   "source": [
    "# Fit ordinary least squares regression model - NOT NORMALIZED/FEATURE ENCODED DATA\n",
    "model = lm.LinearRegression()\n",
    "model.fit(X1,y)\n",
    "\n",
    "# Predict lPSA \n",
    "y_est = model.predict(X1)\n",
    "residual = y_est-y\n",
    "\n",
    "# Mean squared error\n",
    "mse = (sum(residual**2))/len(residual)\n",
    "print('Mean squared error: ' + str(mse))\n",
    "\n",
    "# Display scatter plot\n",
    "figure(1)\n",
    "subplot(2,1,1)\n",
    "plot(y, y_est, '.')\n",
    "xlabel('lPSA value (true)'); ylabel('lPSA value (estimated)');\n",
    "\n",
    "figure(2)\n",
    "subplot(2,1,2)\n",
    "hist(residual,40)\n",
    "xlabel('x'); ylabel('Residuals');\n",
    "\n",
    "show()\n",
    "\n",
    "lWeight = X1[:,1]\n",
    "\n",
    "plt.scatter(residual,lWeight)"
   ]
  },
  {
   "cell_type": "code",
   "execution_count": 223,
   "metadata": {},
   "outputs": [],
   "source": [
    "# We observe that it does not seem necessary to add a term with higher polynomials (based on the true vs estimated plot?)\n"
   ]
  },
  {
   "cell_type": "code",
   "execution_count": 224,
   "metadata": {},
   "outputs": [],
   "source": [
    "# Should we add more terms on the linear regression model? Ex 5.2.3"
   ]
  },
  {
   "cell_type": "code",
   "execution_count": 225,
   "metadata": {},
   "outputs": [],
   "source": [
    "# Parameters\n",
    "# Km = 2  # no of terms for regression model\n",
    "\n",
    "# # Fit ordinary least squares regression model\n",
    "# Xm = np.power(X1, range(1,Km+1))\n",
    "# model2 = lm.LinearRegression()\n",
    "# model2 = model2.fit(Xm,y)\n",
    "\n",
    "# # Predict values\n",
    "# Xme = np.power(Xe, range(1,Km+1))\n",
    "# y_est = model.predict(Xme)"
   ]
  },
  {
   "cell_type": "code",
   "execution_count": null,
   "metadata": {},
   "outputs": [],
   "source": []
  },
  {
   "cell_type": "markdown",
   "metadata": {},
   "source": [
    "### Forward selection"
   ]
  },
  {
   "cell_type": "code",
   "execution_count": 237,
   "metadata": {},
   "outputs": [
    {
     "name": "stdout",
     "output_type": "stream",
     "text": [
      "C:\\Users\\Greta\\Documents\\GitHub\\ML_fall2018\n",
      "Cross validation fold 1/5\n",
      "Train indices: [ 0  1  3  4  5  6  7  8  9 12 13 14 16 18 19 20 21 22 23 24 26 27 28 29\n",
      " 30 33 34 35 37 38 39 41 42 43 44 46 47 49 51 54 55 56 57 59 60 61 62 63\n",
      " 64 65 66 67 68 69 70 71 72 73 75 76 77 78 79 80 82 84 85 86 88 89 90 91\n",
      " 92 93 94 95 96]\n",
      "Test indices: [ 2 10 11 15 17 25 31 32 36 40 45 48 50 52 53 58 74 81 83 87]\n",
      "Features no: 4\n",
      "\n",
      "\n",
      "\n",
      "Linear regression without feature selection:\n",
      "\n",
      "- Training error: 3.9736469660603517\n",
      "- Test error:     0.30845231327046835\n",
      "- R^2 train:     -5.501968654297376\n",
      "- R^2 test:     0.6568445770429616\n",
      "Linear regression with feature selection:\n",
      "\n",
      "- Training error: 0.41081898803534\n",
      "- Test error:     0.32361149956663976\n",
      "- R^2 train:     0.32778824953233643\n",
      "- R^2 test:     0.6399798729660436\n",
      "Cross validation fold 2/5\n",
      "Train indices: [ 1  2  3  4  6  7  8  9 10 11 13 14 15 17 18 19 20 22 23 24 25 26 27 28\n",
      " 29 31 32 34 35 36 38 39 40 41 42 45 46 47 48 50 51 52 53 54 55 57 58 59\n",
      " 60 61 63 65 66 67 68 69 70 72 74 75 77 79 81 82 83 84 85 86 87 88 89 90\n",
      " 92 93 94 95 96]\n",
      "Test indices: [ 0  5 12 16 21 30 33 37 43 44 49 56 62 64 71 73 76 78 80 91]\n",
      "Features no: 4\n",
      "\n",
      "\n",
      "\n",
      "Linear regression without feature selection:\n",
      "\n",
      "- Training error: 3.63719448246096\n",
      "- Test error:     0.31555763067563963\n",
      "- R^2 train:     -3.5902715679781316\n",
      "- R^2 test:     0.6254731942083379\n",
      "Linear regression with feature selection:\n",
      "\n",
      "- Training error: 0.45868673466945104\n",
      "- Test error:     0.3286942848607482\n",
      "- R^2 train:     0.42112067778753715\n",
      "- R^2 test:     0.6098816551281258\n",
      "Cross validation fold 3/5\n",
      "Train indices: [ 0  1  2  3  5  6  8  9 10 11 12 15 16 17 18 19 20 21 22 23 24 25 26 27\n",
      " 30 31 32 33 36 37 39 40 43 44 45 46 48 49 50 51 52 53 54 55 56 57 58 60\n",
      " 61 62 64 65 66 67 69 71 72 73 74 75 76 78 79 80 81 82 83 84 85 86 87 89\n",
      " 90 91 92 93 95 96]\n",
      "Test indices: [ 4  7 13 14 28 29 34 35 38 41 42 47 59 63 68 70 77 88 94]\n",
      "Features no: 6\n",
      "\n",
      "\n",
      "\n",
      "Linear regression without feature selection:\n",
      "\n",
      "- Training error: 3.1887070008116862\n",
      "- Test error:     0.39377842056419576\n",
      "- R^2 train:     -2.6740474888718793\n",
      "- R^2 test:     0.5348663261960915\n",
      "Linear regression with feature selection:\n",
      "\n",
      "- Training error: 0.40725851984745337\n",
      "- Test error:     0.3914361224995866\n",
      "- R^2 train:     0.5307542706851603\n",
      "- R^2 test:     0.5376330641559179\n",
      "Cross validation fold 4/5\n",
      "Train indices: [ 0  1  2  4  5  6  7  9 10 11 12 13 14 15 16 17 21 22 23 24 25 27 28 29\n",
      " 30 31 32 33 34 35 36 37 38 39 40 41 42 43 44 45 47 48 49 50 52 53 54 56\n",
      " 58 59 61 62 63 64 68 70 71 72 73 74 76 77 78 80 81 82 83 84 85 87 88 89\n",
      " 90 91 92 93 94 96]\n",
      "Test indices: [ 3  8 18 19 20 26 46 51 55 57 60 65 66 67 69 75 79 86 95]\n",
      "Features no: 6\n",
      "\n",
      "\n",
      "\n",
      "Linear regression without feature selection:\n",
      "\n",
      "- Training error: 2.2577245776163286\n",
      "- Test error:     0.4000358529935797\n",
      "- R^2 train:     -1.4024985113571922\n",
      "- R^2 test:     0.5217700753506553\n",
      "Linear regression with feature selection:\n",
      "\n",
      "- Training error: 0.3681026935682778\n",
      "- Test error:     0.4051297685940628\n",
      "- R^2 train:     0.608293154048905\n",
      "- R^2 test:     0.5156804639931747\n",
      "Cross validation fold 5/5\n",
      "Train indices: [ 0  2  3  4  5  7  8 10 11 12 13 14 15 16 17 18 19 20 21 25 26 28 29 30\n",
      " 31 32 33 34 35 36 37 38 40 41 42 43 44 45 46 47 48 49 50 51 52 53 55 56\n",
      " 57 58 59 60 62 63 64 65 66 67 68 69 70 71 73 74 75 76 77 78 79 80 81 83\n",
      " 86 87 88 91 94 95]\n",
      "Test indices: [ 1  6  9 22 23 24 27 39 54 61 72 82 84 85 89 90 92 93 96]\n",
      "Features no: 4\n",
      "\n",
      "\n",
      "\n",
      "Linear regression without feature selection:\n",
      "\n",
      "- Training error: 0.3229395005055597\n",
      "- Test error:     0.41500508694806754\n",
      "- R^2 train:     0.6766808932529939\n",
      "- R^2 test:     0.576912923354504\n",
      "Linear regression with feature selection:\n",
      "\n",
      "- Training error: 0.3437034870412911\n",
      "- Test error:     0.4100826865466602\n",
      "- R^2 train:     0.6558924992388526\n",
      "- R^2 test:     0.5819311847238414\n"
     ]
    },
    {
     "data": {
      "image/png": "[encoded data removed]",
      "text/plain": [
       "<Figure size 432x288 with 2 Axes>"
      ]
     },
     "metadata": {},
     "output_type": "display_data"
    },
    {
     "data": {
      "image/png": "[encoded data removed]",
      "text/plain": [
       "<Figure size 432x288 with 2 Axes>"
      ]
     },
     "metadata": {},
     "output_type": "display_data"
    },
    {
     "data": {
      "image/png": "[encoded data removed]",
      "text/plain": [
       "<Figure size 432x288 with 2 Axes>"
      ]
     },
     "metadata": {},
     "output_type": "display_data"
    },
    {
     "data": {
      "image/png": "[encoded data removed]",
      "text/plain": [
       "<Figure size 432x288 with 2 Axes>"
      ]
     },
     "metadata": {},
     "output_type": "display_data"
    },
    {
     "data": {
      "image/png": "[encoded data removed]",
      "text/plain": [
       "<Figure size 432x288 with 2 Axes>"
      ]
     },
     "metadata": {},
     "output_type": "display_data"
    },
    {
     "data": {
      "image/png": "[encoded data removed]",
      "text/plain": [
       "<Figure size 432x288 with 1 Axes>"
      ]
     },
     "metadata": {},
     "output_type": "display_data"
    },
    {
     "data": {
      "image/png": "[encoded data removed]",
      "text/plain": [
       "<Figure size 864x432 with 4 Axes>"
      ]
     },
     "metadata": {},
     "output_type": "display_data"
    }
   ],
   "source": [
    "# Forward selection imports\n",
    "print(os.getcwd())\n",
    "#os.chdir('C:/Users/Greta/Documents/Github/ML_fall2018/Data/Prostate.xlsx'\n",
    "\n",
    "from sklearn import model_selection\n",
    "from toolbox_02450 import feature_selector_lr, bmplot\n",
    "\n",
    "N, M = X1.shape\n",
    "\n",
    "## Crossvalidation\n",
    "# Create crossvalidation partition for evaluation\n",
    "K = 5\n",
    "seed = 1337\n",
    "#seed2 = np.random.randomstate(0)\n",
    "CV = model_selection.KFold(n_splits=K,shuffle=True, random_state=seed)\n",
    "\n",
    "# Initialize variables\n",
    "Features = np.zeros((M,K))\n",
    "Error_train = np.empty((K,1))\n",
    "Error_test = np.empty((K,1))\n",
    "Error_train_fs = np.empty((K,1))\n",
    "Error_test_fs = np.empty((K,1))\n",
    "Error_train_nofeatures = np.empty((K,1))\n",
    "Error_test_nofeatures = np.empty((K,1))\n",
    "\n",
    "k=0\n",
    "for train_index, test_index in CV.split(X1):\n",
    "    \n",
    "    # extract training and test set for current CV fold\n",
    "    X_train = X1[train_index,:]\n",
    "    y_train = y[train_index]\n",
    "    X_test = X1[test_index,:]\n",
    "    y_test = y[test_index]\n",
    "    internal_cross_validation = 10\n",
    "    \n",
    "    # Compute squared error without using the input data at all\n",
    "    Error_train_nofeatures[k] = np.square(y_train-y_train.mean()).sum()/y_train.shape[0]\n",
    "    Error_test_nofeatures[k] = np.square(y_test-y_test.mean()).sum()/y_test.shape[0]\n",
    "\n",
    "    # Compute squared error with all features selected (no feature selection)\n",
    "    m = lm.LinearRegression(fit_intercept=True).fit(X_train, y_train)\n",
    "    Error_train[k] = np.square(y_train-m.predict(X_train)).sum()/y_train.shape[0]\n",
    "    Error_test[k] = np.square(y_test-m.predict(X_test)).sum()/y_test.shape[0]\n",
    "\n",
    "    # Compute squared error with feature subset selection\n",
    "    #textout = 'verbose';\n",
    "    textout = '';\n",
    "    selected_features, features_record, loss_record = feature_selector_lr(X_train, y_train, internal_cross_validation,display=textout)\n",
    "    \n",
    "    Features[selected_features,k]=1\n",
    "    # .. alternatively you could use module sklearn.feature_selection\n",
    "    if len(selected_features) is 0:\n",
    "        print('No features were selected, i.e. the data (X) in the fold cannot describe the outcomes (y).' )\n",
    "    else:\n",
    "        m = lm.LinearRegression(fit_intercept=True).fit(X_train[:,selected_features], y_train)\n",
    "        Error_train_fs[k] = np.square(y_train-m.predict(X_train[:,selected_features])).sum()/y_train.shape[0]\n",
    "        Error_test_fs[k] = np.square(y_test-m.predict(X_test[:,selected_features])).sum()/y_test.shape[0]\n",
    "    \n",
    "        figure(k)\n",
    "        subplot(1,2,1)\n",
    "        plot(range(1,len(loss_record)), loss_record[1:])\n",
    "        xlabel('Iteration')\n",
    "        ylabel('Squared error (crossvalidation)')    \n",
    "        \n",
    "        subplot(1,3,3)\n",
    "        bmplot(attributeNamesNew, range(1,features_record.shape[1]), -features_record[:,1:])\n",
    "        clim(-1.5,0)\n",
    "        xlabel('Iteration')\n",
    "\n",
    "    print('Cross validation fold {0}/{1}'.format(k+1,K))\n",
    "    print('Train indices: {0}'.format(train_index))\n",
    "    print('Test indices: {0}'.format(test_index))\n",
    "    print('Features no: {0}\\n'.format(selected_features.size))\n",
    "    k += 1\n",
    "    \n",
    "    # Display results\n",
    "    print('\\n')\n",
    "    print('Linear regression without feature selection:\\n')\n",
    "    print('- Training error: {0}'.format(Error_train.mean()))\n",
    "    print('- Test error:     {0}'.format(Error_test.mean()))\n",
    "    print('- R^2 train:     {0}'.format((Error_train_nofeatures.sum()-Error_train.sum())/Error_train_nofeatures.sum()))\n",
    "    print('- R^2 test:     {0}'.format((Error_test_nofeatures.sum()-Error_test.sum())/Error_test_nofeatures.sum()))\n",
    "    print('Linear regression with feature selection:\\n')\n",
    "    print('- Training error: {0}'.format(Error_train_fs.mean()))\n",
    "    print('- Test error:     {0}'.format(Error_test_fs.mean()))\n",
    "    print('- R^2 train:     {0}'.format((Error_train_nofeatures.sum()-Error_train_fs.sum())/Error_train_nofeatures.sum()))\n",
    "    print('- R^2 test:     {0}'.format((Error_test_nofeatures.sum()-Error_test_fs.sum())/Error_test_nofeatures.sum()))\n",
    "\n",
    "    figure(k)\n",
    "    subplot(1,3,2)\n",
    "    bmplot(attributeNamesNew, range(1,Features.shape[1]+1), -Features)\n",
    "    clim(-1.5,0)\n",
    "    xlabel('Crossvalidation fold')\n",
    "    ylabel('Attribute')\n",
    "\n",
    "\n",
    "# Inspect selected feature coefficients effect on the entire dataset and\n",
    "# plot the fitted model residual error as function of each attribute to\n",
    "# inspect for systematic structure in the residual\n",
    "\n",
    "f=2 # cross-validation fold to inspect\n",
    "ff=Features[:,f-1].nonzero()[0]\n",
    "if len(ff) is 0:\n",
    "    print('\\nNo features were selected, i.e. the data (X) in the fold cannot describe the outcomes (y).' )\n",
    "else:\n",
    "    m = lm.LinearRegression(fit_intercept=True).fit(X1[:,ff], y)\n",
    "    \n",
    "    y_est= m.predict(X1[:,ff])\n",
    "    residual=y-y_est\n",
    "    \n",
    "    figure(k+1, figsize=(12,6))\n",
    "    title('Residual error vs. Attributes for features selected in cross-validation fold {0}'.format(f))\n",
    "    for i in range(0,len(ff)):\n",
    "       subplot(2,np.ceil(len(ff)/2.0),i+1)\n",
    "       plot(X1[:,ff[i]],residual,'.')\n",
    "       xlabel(attributeNamesNew[ff[i]])\n",
    "       ylabel('residual error')\n",
    "    \n",
    "    \n",
    "    show()\n",
    "    "
   ]
  },
  {
   "cell_type": "markdown",
   "metadata": {},
   "source": [
    "### Fit a linear model based on the forward selection above and predict data"
   ]
  },
  {
   "cell_type": "code",
   "execution_count": 227,
   "metadata": {},
   "outputs": [
    {
     "name": "stdout",
     "output_type": "stream",
     "text": [
      "(97, 1)\n",
      "(97, 3)\n",
      "[[-2.01663373 -1.87210098  0.        ]\n",
      " [-0.72575948 -0.79198919  0.        ]\n",
      " [-2.20015441  1.36823439  0.        ]\n",
      " [-0.8121913  -0.79198919  0.        ]\n",
      " [-0.46121762 -0.25193329  0.        ]\n",
      " [-0.93880639 -1.87210098  0.        ]\n",
      " [-0.3646778   0.01809466  0.        ]\n",
      " [-0.20984103 -0.79198919  0.        ]\n",
      " [-0.20984103 -2.2771429   0.        ]\n",
      " [-0.90192675 -0.11691932  0.        ]\n",
      " [-0.05819996  0.15310863  0.        ]\n",
      " [-0.07100389 -0.11691932  0.        ]\n",
      " [-1.4220686  -0.11691932  0.        ]\n",
      " [-1.47986344  0.42313658  0.        ]\n",
      " [-0.4385849  -0.92700316  0.        ]\n",
      " [-1.33245984  0.2881226   0.        ]\n",
      " [-0.26497044  0.8281785   0.        ]\n",
      " [ 0.04790351  0.2881226   0.        ]\n",
      " [-0.84767487 -3.08722674  0.        ]\n",
      " [ 0.46089542  0.8281785   0.        ]\n",
      " [-0.4917387  -0.65697521  0.        ]\n",
      " [-0.30009502 -0.52196124  0.        ]\n",
      " [-0.59376893 -0.65697521  0.        ]\n",
      " [-0.4161657  -0.11691932  0.        ]\n",
      " [ 0.09023368  0.69316453  0.        ]\n",
      " [-1.18343728  0.55815055  0.        ]\n",
      " [ 0.21283185  0.15310863  0.        ]\n",
      " [ 0.55616587  0.42313658  0.        ]\n",
      " [-1.17314627  0.42313658  0.        ]\n",
      " [-0.59376893  0.15310863  0.        ]\n",
      " [ 1.08218997  0.15310863  0.        ]\n",
      " [ 0.41177028  0.15310863  0.        ]\n",
      " [-1.38806321  0.96319247  0.        ]\n",
      " [-0.84767487 -1.33204508  0.        ]\n",
      " [-0.96684975 -0.11691932  0.        ]\n",
      " [ 1.15183144  0.01809466  0.        ]\n",
      " [ 0.0661392   1.23322042  0.        ]\n",
      " [-2.94238594  0.01809466  0.        ]\n",
      " [ 1.07038088  0.55815055  1.        ]\n",
      " [-1.44501572 -1.06201713  0.        ]\n",
      " [-1.14254072 -0.52196124  0.        ]\n",
      " [ 0.12592138  0.55815055  0.        ]\n",
      " [ 0.55616587 -0.25193329  0.        ]\n",
      " [ 0.62873791 -0.38694727  0.        ]\n",
      " [-0.51489465  0.2881226   0.        ]\n",
      " [-0.55400096 -0.38694727  0.        ]\n",
      " [ 0.85993605  2.04330426  1.        ]\n",
      " [ 0.95303849  0.55815055  0.        ]\n",
      " [-0.30718329 -2.81719879  0.        ]\n",
      " [-0.14270309  0.8281785   0.        ]\n",
      " [ 0.85561411  0.55815055  0.        ]\n",
      " [ 1.421615    0.01809466  0.        ]\n",
      " [ 0.0110004   0.01809466  0.        ]\n",
      " [ 1.15563954  0.55815055  0.        ]\n",
      " [-0.26497044 -0.65697521  0.        ]\n",
      " [ 1.52790617  0.2881226   0.        ]\n",
      " [-1.79233616 -2.2771429   0.        ]\n",
      " [ 0.31848951 -2.00711495  0.        ]\n",
      " [ 1.2888009   0.8281785   0.        ]\n",
      " [ 0.52151525 -0.38694727  0.        ]\n",
      " [ 2.10127925  1.23322042  0.        ]\n",
      " [ 0.21283185 -0.11691932  1.        ]\n",
      " [-0.2441444   1.09820645  0.        ]\n",
      " [ 0.67590387  0.2881226   1.        ]\n",
      " [-0.01392703  0.01809466  0.        ]\n",
      " [ 0.48634373 -0.38694727  0.        ]\n",
      " [ 0.58546452  0.55815055  0.        ]\n",
      " [ 0.99008707  1.09820645  0.        ]\n",
      " [ 1.82921036  0.69316453  0.        ]\n",
      " [ 2.70166094  1.09820645  0.        ]\n",
      " [-0.08387821 -0.52196124  1.        ]\n",
      " [-0.67539077  1.77327632  0.        ]\n",
      " [ 0.46089542  0.69316453  1.        ]\n",
      " [-0.92029384 -0.52196124  1.        ]\n",
      " [ 0.51652225  0.69316453  1.        ]\n",
      " [-0.85663082  0.55815055  1.        ]\n",
      " [ 1.88843646  1.09820645  0.        ]\n",
      " [ 1.70306453  1.90829029  0.        ]\n",
      " [-0.10984037  0.69316453  1.        ]\n",
      " [ 0.45577338 -0.11691932  0.        ]\n",
      " [-1.31058265  0.2881226   0.        ]\n",
      " [-0.3646778  -0.92700316  0.        ]\n",
      " [ 0.60960358  1.77327632  1.        ]\n",
      " [ 0.49140008  0.15310863  0.        ]\n",
      " [ 0.1899692  -0.52196124  0.        ]\n",
      " [-0.25800887  0.01809466  1.        ]\n",
      " [ 0.24110046 -0.79198919  0.        ]\n",
      " [-0.60986946 -0.25193329  1.        ]\n",
      " [ 2.55541174  0.15310863  1.        ]\n",
      " [ 0.15525053  1.63826234  1.        ]\n",
      " [ 1.10952004  0.55815055  0.        ]\n",
      " [ 0.11408648 -0.38694727  1.        ]\n",
      " [ 0.58060761  0.55815055  1.        ]\n",
      " [ 0.62873791 -2.68218482  1.        ]\n",
      " [-0.54612667 -1.60207303  1.        ]\n",
      " [ 0.34014146  0.55815055  1.        ]\n",
      " [ 0.81196061  0.55815055  1.        ]]\n",
      "[[-1.64586143 -2.01663373 -1.87210098 -1.03002898 -0.86765522  1.\n",
      "   0.          0.          0.          0.        ]\n",
      " [-1.9993129  -0.72575948 -0.79198919 -1.03002898 -0.86765522  1.\n",
      "   0.          0.          0.          0.        ]\n",
      " [-1.58702059 -2.20015441  1.36823439 -1.03002898 -0.86765522  0.\n",
      "   1.          0.          0.          0.        ]\n",
      " [-2.17817387 -0.8121913  -0.79198919 -1.03002898 -0.86765522  1.\n",
      "   0.          0.          0.          0.        ]\n",
      " [-0.5105128  -0.46121762 -0.25193329 -1.03002898 -0.86765522  1.\n",
      "   0.          0.          0.          0.        ]\n",
      " [-2.04670586 -0.93880639 -1.87210098 -1.03002898 -0.86765522  1.\n",
      "   0.          0.          0.          0.        ]\n",
      " [-0.5226677  -0.3646778   0.01809466  0.35670122 -0.86765522  1.\n",
      "   0.          0.          0.          0.        ]\n",
      " [-0.56020767 -0.20984103 -0.79198919  0.99529051 -0.86765522  1.\n",
      "   0.          0.          0.          0.        ]\n",
      " [-1.81362657 -0.20984103 -2.2771429  -1.03002898 -0.86765522  1.\n",
      "   0.          0.          0.          0.        ]\n",
      " [-0.9610521  -0.90192675 -0.11691932 -1.03002898 -0.86765522  1.\n",
      "   0.          0.          0.          0.        ]\n",
      " [-0.93418834 -0.05819996  0.15310863 -1.03002898 -0.86765522  1.\n",
      "   0.          0.          0.          0.        ]\n",
      " [-2.30021799 -0.07100389 -0.11691932  0.80827605 -0.86765522  1.\n",
      "   0.          0.          0.          0.        ]\n",
      " [ 0.22465908 -1.4220686  -0.11691932 -1.03002898 -0.30083707  0.\n",
      "   1.          0.          0.          0.        ]\n",
      " [ 0.10834583 -1.47986344  0.42313658 -1.03002898 -0.86765522  0.\n",
      "   1.          0.          0.          0.        ]\n",
      " [-0.12284403 -0.4385849  -0.92700316 -1.03002898 -0.1807427   0.\n",
      "   1.          0.          0.          0.        ]\n",
      " [ 0.16302259 -1.33245984  0.2881226  -1.03002898 -0.86765522  1.\n",
      "   0.          0.          0.          0.        ]\n",
      " [-1.50573493 -0.26497044  0.8281785   0.79248386 -0.30083707  0.\n",
      "   1.          0.          0.          0.        ]\n",
      " [ 0.80038343  0.04790351  0.2881226  -1.03002898  0.39606027  1.\n",
      "   0.          0.          0.          0.        ]\n",
      " [-1.63076627 -0.84767487 -3.08722674 -1.03002898 -0.86765522  1.\n",
      "   0.          0.          0.          0.        ]\n",
      " [-0.9958673   0.46089542  0.8281785   1.07937567 -0.86765522  1.\n",
      "   0.          0.          0.          0.        ]\n",
      " [-0.17279428 -0.4917387  -0.65697521 -1.03002898 -0.86765522  1.\n",
      "   0.          0.          0.          0.        ]\n",
      " [ 0.60486894 -0.30009502 -0.52196124  0.95226146  1.09806826  0.\n",
      "   1.          0.          0.          0.        ]\n",
      " [-1.61593366 -0.59376893 -0.65697521 -0.62277959 -0.86765522  1.\n",
      "   0.          0.          0.          0.        ]\n",
      " [ 0.36817665 -0.4161657  -0.11691932  0.23411435  0.97627438  0.\n",
      "   1.          0.          0.          0.        ]\n",
      " [-0.82278841  0.09023368  0.69316453  1.03860789 -0.86765522  1.\n",
      "   0.          0.          0.          0.        ]\n",
      " [ 0.08264956 -1.18343728  0.55815055  0.13839656 -0.86765522  1.\n",
      "   0.          0.          0.          0.        ]\n",
      " [-0.71399732  0.21283185  0.15310863 -1.03002898 -0.44509826  0.\n",
      "   1.          0.          0.          0.        ]\n",
      " [-1.49290981  0.55616587  0.42313658  1.18900155 -0.86765522  0.\n",
      "   1.          0.          0.          0.        ]\n",
      " [-0.26415689 -1.17314627  0.42313658  0.08507392  0.16402005  0.\n",
      "   1.          0.          0.          0.        ]\n",
      " [ 0.9037135  -0.59376893  0.15310863 -1.03002898  1.29311536  1.\n",
      "   0.          0.          0.          0.        ]\n",
      " [-0.90814498  1.08218997  0.15310863  1.29047369 -0.44509826  1.\n",
      "   0.          0.          0.          0.        ]\n",
      " [-0.9958673   0.41177028  0.15310863  1.11160717 -0.86765522  1.\n",
      "   0.          0.          0.          0.        ]\n",
      " [-0.0636628  -1.38806321  0.96319247  0.80827605 -0.86765522  1.\n",
      "   0.          0.          0.          0.        ]\n",
      " [-1.14287478 -0.84767487 -1.33204508 -1.03002898 -0.86765522  1.\n",
      "   0.          0.          0.          0.        ]\n",
      " [-1.15993242 -0.96684975 -0.11691932 -1.03002898 -0.44509826  1.\n",
      "   0.          0.          0.          0.        ]\n",
      " [-0.03554419  1.15183144  0.01809466  1.43488428 -0.86765522  0.\n",
      "   1.          0.          0.          0.        ]\n",
      " [ 0.06234256  0.0661392   1.23322042 -0.47126026  1.32103713  0.\n",
      "   0.          1.          0.          0.        ]\n",
      " [-0.76124438 -2.94238594  0.01809466 -1.03002898 -0.86765522  0.\n",
      "   1.          0.          0.          0.        ]\n",
      " [ 1.118048    1.07038088  0.55815055  0.8822505   1.44637892  0.\n",
      "   1.          0.          0.          1.        ]\n",
      " [-0.47120382 -1.44501572 -1.06201713  0.5790429   0.01211097  0.\n",
      "   1.          0.          0.          0.        ]\n",
      " [-0.62209987 -1.14254072 -0.52196124 -1.03002898 -0.86765522  0.\n",
      "   0.          0.          1.          0.        ]\n",
      " [ 0.07862666  0.12592138  0.55815055 -1.03002898 -0.86765522  0.\n",
      "   1.          0.          0.          0.        ]\n",
      " [-0.65481608  0.55616587 -0.25193329  1.11787737 -0.1807427   1.\n",
      "   0.          0.          0.          0.        ]\n",
      " [ 0.35951816  0.62873791 -0.38694727 -1.03002898  0.71191882  0.\n",
      "   1.          0.          0.          0.        ]\n",
      " [ 0.1160991  -0.51489465  0.2881226   1.14240568 -0.1807427   0.\n",
      "   1.          0.          0.          0.        ]\n",
      " [ 0.26772493 -0.55400096 -0.38694727  0.35670122 -0.86765522  0.\n",
      "   1.          0.          0.          0.        ]\n",
      " [ 1.17509901  0.85993605  2.04330426  1.23266023  2.03887464  0.\n",
      "   0.          0.          1.          1.        ]\n",
      " [-0.15936323  0.95303849  0.55815055  1.11787737 -0.1807427   0.\n",
      "   1.          0.          0.          0.        ]\n",
      " [ 0.33747937 -0.30718329 -2.81719879 -1.03002898 -0.86765522  1.\n",
      "   0.          0.          0.          0.        ]\n",
      " [-0.11017138 -0.14270309  0.8281785   0.8822505  -0.44509826  1.\n",
      "   0.          0.          0.          0.        ]\n",
      " [-0.22010989  0.85561411  0.55815055 -1.03002898 -0.86765522  0.\n",
      "   1.          0.          0.          0.        ]\n",
      " [ 0.26448829  1.421615    0.01809466  1.36687051 -0.86765522  1.\n",
      "   0.          0.          0.          0.        ]\n",
      " [-0.71399732  0.0110004   0.01809466  0.96483055  0.16402005  0.\n",
      "   1.          0.          0.          0.        ]\n",
      " [ 0.66269388  1.15563954  0.55815055  1.15435171  1.16912805  0.\n",
      "   1.          0.          0.          0.        ]\n",
      " [ 1.53819093 -0.26497044 -0.65697521 -1.03002898 -0.86765522  0.\n",
      "   1.          0.          0.          0.        ]\n",
      " [-0.07083973  1.52790617  0.2881226   1.40088236 -0.86765522  0.\n",
      "   1.          0.          0.          0.        ]\n",
      " [-0.32020395 -1.79233616 -2.2771429  -1.03002898  0.48894996  0.\n",
      "   1.          0.          0.          0.        ]\n",
      " [-0.75586358  0.31848951 -2.00711495  0.91647239 -0.86765522  1.\n",
      "   0.          0.          0.          0.        ]\n",
      " [-0.68883756  1.2888009   0.8281785   0.23411435 -0.86765522  0.\n",
      "   1.          0.          0.          0.        ]\n",
      " [-0.24626419  0.52151525 -0.38694727  0.82752319 -0.86765522  0.\n",
      "   1.          0.          0.          0.        ]\n",
      " [-0.76124438  2.10127925  1.23322042  1.54225202 -0.86765522  1.\n",
      "   0.          0.          0.          0.        ]\n",
      " [ 0.55214455  0.21283185 -0.11691932  1.05246539  1.50170584  0.\n",
      "   1.          0.          0.          1.        ]\n",
      " [ 1.2159132  -0.2441444   1.09820645 -1.03002898  1.24908762  0.\n",
      "   0.          0.          1.          0.        ]\n",
      " [ 0.58394572  0.67590387  0.2881226   1.32186427  1.64596703  0.\n",
      "   1.          0.          0.          1.        ]\n",
      " [ 0.61675184 -0.01392703  0.01809466 -1.03002898 -0.86765522  1.\n",
      "   0.          0.          0.          0.        ]\n",
      " [ 0.09262458  0.48634373 -0.38694727  0.84625007 -0.1807427   0.\n",
      "   1.          0.          0.          0.        ]\n",
      " [ 0.57385266  0.58546452  0.55815055  1.16609525  1.07914887  0.\n",
      "   1.          0.          0.          0.        ]\n",
      " [ 0.72349772  0.99008707  1.09820645  1.52927559 -0.1807427   0.\n",
      "   1.          0.          0.          0.        ]\n",
      " [-1.53197866  1.82921036  0.69316453 -1.03002898 -0.86765522  1.\n",
      "   0.          0.          0.          0.        ]\n",
      " [-0.1331195   2.70166094  1.09820645  1.54225202 -0.44509826  0.\n",
      "   1.          0.          0.          0.        ]\n",
      " [ 0.43842708 -0.08387821 -0.52196124 -1.03002898  1.07914887  0.\n",
      "   1.          0.          0.          1.        ]\n",
      " [-0.16203258 -0.67539077  1.77327632  1.14240568 -0.86765522  0.\n",
      "   1.          0.          0.          0.        ]\n",
      " [-0.11521787  0.46089542  0.69316453 -1.03002898  0.28936185  0.\n",
      "   1.          0.          0.          1.        ]\n",
      " [ 0.41700419 -0.92029384 -0.52196124  0.23411435  0.97627438  0.\n",
      "   0.          0.          1.          1.        ]\n",
      " [ 1.40654082  0.51652225  0.69316453 -1.03002898  1.50170584  0.\n",
      "   1.          0.          0.          1.        ]\n",
      " [ 1.52756447 -0.85663082  0.55815055 -0.1050703   1.8689359   0.\n",
      "   1.          0.          0.          1.        ]\n",
      " [ 0.56363872  1.88843646  1.09820645  1.40088236  0.48894996  0.\n",
      "   1.          0.          0.          0.        ]\n",
      " [ 1.01288993  1.70306453  1.90829029  1.54225202 -0.86765522  0.\n",
      "   1.          0.          0.          0.        ]\n",
      " [ 1.10725223 -0.10984037  0.69316453 -1.03002898  1.98656829  0.\n",
      "   1.          0.          0.          1.        ]\n",
      " [ 1.2190955   0.45577338 -0.11691932 -1.03002898  0.39606027  0.\n",
      "   1.          0.          0.          0.        ]\n",
      " [ 0.10052143 -1.31058265  0.2881226   0.31819952  0.28936185  0.\n",
      "   1.          0.          0.          0.        ]\n",
      " [ 0.99242046 -0.3646778  -0.92700316  0.23411435  1.80201365  0.\n",
      "   1.          0.          0.          0.        ]\n",
      " [ 1.077152    0.60960358  1.77327632 -0.43510323  0.5312501   0.\n",
      "   1.          0.          0.          1.        ]\n",
      " [ 1.132233    0.49140008  0.15310863  0.7030969   1.38643629  0.\n",
      "   0.          0.          1.          0.        ]\n",
      " [ 0.18109221  0.1899692  -0.52196124  1.10527971  0.71191882  0.\n",
      "   1.          0.          0.          0.        ]\n",
      " [ 1.66548696 -0.25800887  0.01809466 -1.03002898  1.80201365  0.\n",
      "   1.          0.          0.          1.        ]\n",
      " [ 0.57498003  0.24110046 -0.79198919  1.06605117 -0.86765522  1.\n",
      "   0.          0.          0.          0.        ]\n",
      " [ 0.32548825 -0.60986946 -0.25193329 -1.03002898  0.34468877  0.\n",
      "   1.          0.          0.          1.        ]\n",
      " [ 1.24310643  2.55541174  0.15310863 -1.03002898  1.90019713  0.\n",
      "   1.          0.          0.          1.        ]\n",
      " [ 0.18109221  0.15525053  1.63826234  0.5790429   0.71191882  0.\n",
      "   1.          0.          0.          1.        ]\n",
      " [ 1.61742159  1.10952004  0.55815055 -1.03002898 -0.86765522  1.\n",
      "   0.          0.          0.          0.        ]\n",
      " [ 1.00883515  0.11408648 -0.38694727  0.86448408 -0.86765522  0.\n",
      "   1.          0.          0.          1.        ]\n",
      " [ 1.26244405  0.58060761  0.55815055 -1.03002898  1.07914887  0.\n",
      "   1.          0.          0.          1.        ]\n",
      " [ 2.10739693  0.62873791 -2.68218482 -1.03002898  1.68826718  0.\n",
      "   1.          0.          0.          1.        ]\n",
      " [ 1.3282669  -0.54612667 -1.60207303 -1.03002898  1.90019713  0.\n",
      "   1.          0.          0.          1.        ]\n",
      " [ 1.30704467  0.34014146  0.55815055  1.0100326   1.24908762  0.\n",
      "   1.          0.          0.          1.        ]\n",
      " [ 1.80971922  0.81196061  0.55815055  0.23411435  2.21673517  0.\n",
      "   1.          0.          0.          1.        ]]\n",
      "[-2.53331785 -2.29971238 -2.29971238 -2.29971238 -1.83463099 -1.49161747\n",
      " -1.49161747 -1.4141616  -1.24618021 -1.24618021 -1.05492666 -1.05492666\n",
      " -1.05492666 -0.98428221 -0.94018137 -0.89820677 -0.87795465 -0.85816274\n",
      " -0.80135103 -0.76543644 -0.73094466 -0.71419787 -0.68164068 -0.66580745\n",
      " -0.65025697 -0.619965   -0.59069151 -0.57641572 -0.54854763 -0.50834947\n",
      " -0.48254597 -0.40942861 -0.40942861 -0.39781765 -0.3750503  -0.34197776\n",
      " -0.27937807 -0.24968869 -0.23044356 -0.17513581 -0.15745387 -0.14874583\n",
      " -0.13158654 -0.09011178  0.0377352   0.06527282  0.07872178  0.07872178\n",
      "  0.09851369  0.09851369  0.1553254   0.17346783  0.17943223  0.18535613\n",
      "  0.1970843   0.2086566   0.26969337  0.27503575  0.28562317  0.29086898\n",
      "  0.31663434  0.32673071  0.32673071  0.35147113  0.35147113  0.35633597\n",
      "  0.38496775  0.42173538  0.42173538  0.43068977  0.46561391  0.48675094\n",
      "  0.50329884  0.51953812  0.69391731  0.74816076  0.79630031  0.83354436\n",
      "  0.85295798  0.90097779  0.90356948  0.91641341  0.94648734  0.95140024\n",
      "  0.96597463  1.00368795  1.04644915  1.07454209  1.31139383  1.31945687\n",
      "  1.3509826   1.43784081  1.66041493  1.92104373  2.32046525  2.61164875\n",
      "  2.70345173]\n"
     ]
    }
   ],
   "source": [
    "# Fit ordinary least squares regression model \n",
    "\n",
    "attributeNamesNew = ['lCaVol', 'lWeight', 'Age', 'lBPH', 'lCP','Gleason 6.0', 'Gleason 7.0', 'Gleason 8.0', 'Gleason 9.0','SVI']\n",
    "lCaVol = X1[:,1]\n",
    "lCaVol = np.reshape(lCaVol,[97,1])\n",
    "lWeight = X1[:,2]\n",
    "lWeight = np.reshape(lWeight,[97,1])\n",
    "SVI = X1[:,9]\n",
    "SVI = np.reshape(SVI,[97,1])\n",
    "\n",
    "print(np.shape(lCaVol))\n",
    "\n",
    "X_r = np.concatenate((lCaVol,lWeight,SVI),axis=1)\n",
    "\n",
    "print(np.shape(X_r))\n",
    "print(X_r)\n",
    "print(X1)\n",
    "print(y)"
   ]
  },
  {
   "cell_type": "code",
   "execution_count": 228,
   "metadata": {},
   "outputs": [
    {
     "name": "stdout",
     "output_type": "stream",
     "text": [
      "Mean squared error: 0.5569737088290707\n"
     ]
    },
    {
     "data": {
      "image/png": "[encoded data removed]",
      "text/plain": [
       "<Figure size 432x288 with 1 Axes>"
      ]
     },
     "metadata": {},
     "output_type": "display_data"
    },
    {
     "data": {
      "image/png": "[encoded data removed]",
      "text/plain": [
       "<Figure size 432x288 with 1 Axes>"
      ]
     },
     "metadata": {},
     "output_type": "display_data"
    }
   ],
   "source": [
    "model = lm.LinearRegression()\n",
    "model.fit(X_r,y)\n",
    "\n",
    "# Predict lPSA \n",
    "y_est = model.predict(X_r)\n",
    "residual = y_est-y\n",
    "\n",
    "# Mean squared error\n",
    "mse = (sum(residual**2))/len(residual)\n",
    "print('Mean squared error: ' + str(mse))\n",
    "\n",
    "# Display scatter plot\n",
    "figure(1)\n",
    "subplot(2,1,1)\n",
    "plot(y, y_est, '.')\n",
    "xlabel('lPSA value (true)'); ylabel('lPSA value (estimated)');\n",
    "\n",
    "figure(2)\n",
    "subplot(2,1,2)\n",
    "hist(residual,40)\n",
    "xlabel('x'); ylabel('Residuals');\n",
    "\n",
    "show()\n",
    "\n"
   ]
  },
  {
   "cell_type": "code",
   "execution_count": 229,
   "metadata": {},
   "outputs": [
    {
     "data": {
      "text/plain": [
       "array([ 0.35917198, -0.01565832,  1.2437635 ])"
      ]
     },
     "execution_count": 229,
     "metadata": {},
     "output_type": "execute_result"
    }
   ],
   "source": [
    "model.coef_"
   ]
  },
  {
   "cell_type": "code",
   "execution_count": 230,
   "metadata": {},
   "outputs": [
    {
     "data": {
      "text/plain": [
       "-0.26926838576385825"
      ]
     },
     "execution_count": 230,
     "metadata": {},
     "output_type": "execute_result"
    }
   ],
   "source": [
    "model.intercept_"
   ]
  },
  {
   "cell_type": "code",
   "execution_count": null,
   "metadata": {},
   "outputs": [],
   "source": []
  },
  {
   "cell_type": "code",
   "execution_count": null,
   "metadata": {},
   "outputs": [],
   "source": []
  },
  {
   "cell_type": "code",
   "execution_count": null,
   "metadata": {},
   "outputs": [],
   "source": []
  }
 ],
 "metadata": {
  "kernelspec": {
   "display_name": "Python 3",
   "language": "python",
   "name": "python3"
  },
  "language_info": {
   "codemirror_mode": {
    "name": "ipython",
    "version": 3
   },
   "file_extension": ".py",
   "mimetype": "text/x-python",
   "name": "python",
   "nbconvert_exporter": "python",
   "pygments_lexer": "ipython3",
   "version": "3.6.5"
  }
 },
 "nbformat": 4,
 "nbformat_minor": 2
}

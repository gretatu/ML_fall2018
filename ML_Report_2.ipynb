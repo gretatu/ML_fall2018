{
 "cells": [
  {
   "cell_type": "markdown",
   "metadata": {},
   "source": [
    "## Purpose\n",
    "The purpose of this application is to inspect the prostate dataset that we intend\n",
    "to use for the project in 02450 Intro to Machine Learning\n",
    "\n",
    "Author: Greta Tuckute\n",
    "Reviewed by: \n",
    "Last modified: 28/010/18, 09.09\n",
    "\n",
    "#### Change-log\n"
   ]
  },
  {
   "cell_type": "markdown",
   "metadata": {},
   "source": [
    "Import required packages"
   ]
  },
  {
   "cell_type": "code",
   "execution_count": 41,
   "metadata": {},
   "outputs": [],
   "source": [
    "import matplotlib.pyplot as plt\n",
    "import numpy as np\n",
    "from scipy.stats import zscore\n",
    "from scipy.linalg import svd\n",
    "from matplotlib.pyplot import figure, plot, subplot, title, xlabel, ylabel, show, clim, hist, savefig\n",
    "import sklearn.linear_model as lm\n",
    "import os\n",
    "import neurolab as nl\n"
   ]
  },
  {
   "cell_type": "markdown",
   "metadata": {},
   "source": [
    "First we define a method for importing a spread_sheet using pandas"
   ]
  },
  {
   "cell_type": "code",
   "execution_count": 42,
   "metadata": {},
   "outputs": [],
   "source": [
    "def DataLoader(path, sheet):\n",
    "    \"\"\"\n",
    "    Method for importing data from a spreadsheet.\n",
    "\n",
    "    :param path: full path to the spreadsheet to load\n",
    "    :param sheet: name of the sheet in the workbook that is loaded\n",
    "    :return: pandas dataFrame with imported data\n",
    "    \"\"\"\n",
    "    import pandas as pd\n",
    "\n",
    "    out = pd.read_excel(path, sheet_name=sheet)\n",
    "\n",
    "    return out"
   ]
  },
  {
   "cell_type": "code",
   "execution_count": 43,
   "metadata": {},
   "outputs": [],
   "source": [
    "# Specify path and sheet name in the prostate workbook\n",
    "\n",
    "base_dir = os.getcwd()\n",
    "filePath = base_dir + '/Data/Prostate.xlsx'\n",
    "#filePath = 'C:/Users/PeterBakke/Documents/git/ML_fall2018/Data/Prostate.xlsx'\n",
    "#filePath = 'C:/Users/Greta/Documents/Github/ML_fall2018/Data/Prostate.xlsx'\n",
    "#filePath = 'C:/Users/narisa/Documents/GitHub/ML_fall2018/Data/Prostate.xlsx'\n",
    "sheet = 'Sheet1'"
   ]
  },
  {
   "cell_type": "code",
   "execution_count": 44,
   "metadata": {},
   "outputs": [],
   "source": [
    "# Load prostate data into dataFrame\n",
    "myData = DataLoader(path=filePath, sheet=sheet)\n",
    "\n",
    "# delete irrelevant columns\n",
    "del myData['ID']\n",
    "del myData['train']\n"
   ]
  },
  {
   "cell_type": "markdown",
   "metadata": {},
   "source": [
    "### Data feature extraction and normalization"
   ]
  },
  {
   "cell_type": "code",
   "execution_count": 45,
   "metadata": {},
   "outputs": [],
   "source": [
    "# If we apply one out of K encoding to Gleason/PGG45, we assume that a higher value is not informative of disease result?\n",
    "\n",
    "# Usually done for ordinal (not often for nominal)\n",
    "\n",
    "# Do NOT normalise categorical data"
   ]
  },
  {
   "cell_type": "code",
   "execution_count": 46,
   "metadata": {},
   "outputs": [
    {
     "name": "stdout",
     "output_type": "stream",
     "text": [
      "['lCaVol', 'lWeight', 'Age', 'lBPH', 'SVI', 'lCP', 'Gleason', 'pgg45', 'lPSA']\n"
     ]
    }
   ],
   "source": [
    "# Extract class names \n",
    "attributeNames = list(myData.columns.values)\n",
    "\n",
    "# Convert dataFrame to numpy array\n",
    "X = myData.values\n",
    "\n",
    "# Compute values of N (observations) and M (features)\n",
    "M = len(attributeNames)\n",
    "N = X.shape[0]\n",
    "\n",
    "print(attributeNames)"
   ]
  },
  {
   "cell_type": "code",
   "execution_count": 47,
   "metadata": {},
   "outputs": [],
   "source": [
    "# Extracting and deleting PGG45 and Gleason from X, as well as SVI (to not normalize SVI)\n",
    "X_orig = np.copy(X)\n",
    "\n",
    "gleason = X_orig[:,6]\n",
    "pgg = X_orig[:,7]\n",
    "svi = X_orig[:,4]\n",
    "\n",
    "# print(X)"
   ]
  },
  {
   "cell_type": "code",
   "execution_count": 48,
   "metadata": {},
   "outputs": [],
   "source": [
    "# OBS - only run this once\n",
    "X = np.delete(X,6,1) # Deletes Gleason\n",
    "X = np.delete(X,6,1) # Deletes PGG\n",
    "X = np.delete(X,4,1) # Deletes SVI"
   ]
  },
  {
   "cell_type": "code",
   "execution_count": 49,
   "metadata": {},
   "outputs": [
    {
     "name": "stdout",
     "output_type": "stream",
     "text": [
      "(97, 6)\n",
      "[[-5.79818495e-01  2.76945900e+00  5.00000000e+01 -1.38629436e+00\n",
      "  -1.38629436e+00 -4.30782900e-01]\n",
      " [-9.94252273e-01  3.31962600e+00  5.80000000e+01 -1.38629436e+00\n",
      "  -1.38629436e+00 -1.62518900e-01]\n",
      " [-5.10825624e-01  2.69124300e+00  7.40000000e+01 -1.38629436e+00\n",
      "  -1.38629436e+00 -1.62518900e-01]\n",
      " [-1.20397280e+00  3.28278900e+00  5.80000000e+01 -1.38629436e+00\n",
      "  -1.38629436e+00 -1.62518900e-01]\n",
      " [ 7.51416089e-01  3.43237300e+00  6.20000000e+01 -1.38629436e+00\n",
      "  -1.38629436e+00  3.71563600e-01]\n",
      " [-1.04982212e+00  3.22882600e+00  5.00000000e+01 -1.38629436e+00\n",
      "  -1.38629436e+00  7.65467800e-01]\n",
      " [ 7.37164066e-01  3.47351800e+00  6.40000000e+01  6.15185640e-01\n",
      "  -1.38629436e+00  7.65467800e-01]\n",
      " [ 6.93147181e-01  3.53950900e+00  5.80000000e+01  1.53686722e+00\n",
      "  -1.38629436e+00  8.54415300e-01]\n",
      " [-7.76528789e-01  3.53950900e+00  4.70000000e+01 -1.38629436e+00\n",
      "  -1.38629436e+00  1.04731900e+00]\n",
      " [ 2.23143551e-01  3.24454400e+00  6.30000000e+01 -1.38629436e+00\n",
      "  -1.38629436e+00  1.04731900e+00]\n",
      " [ 2.54642218e-01  3.60413800e+00  6.50000000e+01 -1.38629436e+00\n",
      "  -1.38629436e+00  1.26694760e+00]\n",
      " [-1.34707365e+00  3.59868100e+00  6.30000000e+01  1.26694760e+00\n",
      "  -1.38629436e+00  1.26694760e+00]\n",
      " [ 1.61342993e+00  3.02286100e+00  6.30000000e+01 -1.38629436e+00\n",
      "  -5.97837000e-01  1.26694760e+00]\n",
      " [ 1.47704872e+00  2.99822900e+00  6.70000000e+01 -1.38629436e+00\n",
      "  -1.38629436e+00  1.34807310e+00]\n",
      " [ 1.20597081e+00  3.44201900e+00  5.70000000e+01 -1.38629436e+00\n",
      "  -4.30782920e-01  1.39871690e+00]\n",
      " [ 1.54115907e+00  3.06105200e+00  6.60000000e+01 -1.38629436e+00\n",
      "  -1.38629436e+00  1.44691900e+00]\n",
      " [-4.15515444e-01  3.51601300e+00  7.00000000e+01  1.24415459e+00\n",
      "  -5.97837000e-01  1.47017580e+00]\n",
      " [ 2.28848617e+00  3.64935900e+00  6.60000000e+01 -1.38629436e+00\n",
      "   3.71563560e-01  1.49290410e+00]\n",
      " [-5.62118918e-01  3.26766600e+00  4.10000000e+01 -1.38629436e+00\n",
      "  -1.38629436e+00  1.55814460e+00]\n",
      " [ 1.82321557e-01  3.82537500e+00  7.00000000e+01  1.65822808e+00\n",
      "  -1.38629436e+00  1.59938760e+00]\n",
      " [ 1.14740245e+00  3.41936500e+00  5.90000000e+01 -1.38629436e+00\n",
      "  -1.38629436e+00  1.63899670e+00]\n",
      " [ 2.05923883e+00  3.50104300e+00  6.00000000e+01  1.47476301e+00\n",
      "   1.34807315e+00  1.65822810e+00]\n",
      " [-5.44727175e-01  3.37588000e+00  5.90000000e+01 -7.98507700e-01\n",
      "  -1.38629436e+00  1.69561560e+00]\n",
      " [ 1.78170913e+00  3.45157400e+00  6.30000000e+01  4.38254930e-01\n",
      "   1.17865500e+00  1.71379790e+00]\n",
      " [ 3.85262401e-01  3.66740000e+00  6.90000000e+01  1.59938758e+00\n",
      "  -1.38629436e+00  1.73165550e+00]\n",
      " [ 1.44691898e+00  3.12456500e+00  6.80000000e+01  3.00104590e-01\n",
      "  -1.38629436e+00  1.76644170e+00]\n",
      " [ 5.12823626e-01  3.71965100e+00  6.50000000e+01 -1.38629436e+00\n",
      "  -7.98507700e-01  1.80005830e+00]\n",
      " [-4.00477567e-01  3.86597900e+00  6.70000000e+01  1.81645208e+00\n",
      "  -1.38629436e+00  1.81645210e+00]\n",
      " [ 1.04027671e+00  3.12895100e+00  6.70000000e+01  2.23143550e-01\n",
      "   4.87901600e-02  1.84845480e+00]\n",
      " [ 2.40964417e+00  3.37588000e+00  6.50000000e+01 -1.38629436e+00\n",
      "   1.61938824e+00  1.89461690e+00]\n",
      " [ 2.85178942e-01  4.09016900e+00  6.50000000e+01  1.96290773e+00\n",
      "  -7.98507700e-01  1.92424870e+00]\n",
      " [ 1.82321557e-01  3.80443800e+00  6.50000000e+01  1.70474809e+00\n",
      "  -1.38629436e+00  2.00821400e+00]\n",
      " [ 1.27536280e+00  3.03735400e+00  7.10000000e+01  1.26694760e+00\n",
      "  -1.38629436e+00  2.00821400e+00]\n",
      " [ 9.95033100e-03  3.26766600e+00  5.40000000e+01 -1.38629436e+00\n",
      "  -1.38629436e+00  2.02154760e+00]\n",
      " [-1.00503360e-02  3.21687400e+00  6.30000000e+01 -1.38629436e+00\n",
      "  -7.98507700e-01  2.04769280e+00]\n",
      " [ 1.30833282e+00  4.11985000e+00  6.40000000e+01  2.17133681e+00\n",
      "  -1.38629436e+00  2.08567210e+00]\n",
      " [ 1.42310833e+00  3.65713100e+00  7.30000000e+01 -5.79818500e-01\n",
      "   1.65822808e+00  2.15755930e+00]\n",
      " [ 4.57424847e-01  2.37490600e+00  6.40000000e+01 -1.38629436e+00\n",
      "  -1.38629436e+00  2.19165350e+00]\n",
      " [ 2.66095859e+00  4.08513600e+00  6.80000000e+01  1.37371558e+00\n",
      "   1.83258146e+00  2.21375390e+00]\n",
      " [ 7.97507196e-01  3.01308100e+00  5.60000000e+01  9.36093360e-01\n",
      "  -1.62518930e-01  2.27726730e+00]\n",
      " [ 6.20576488e-01  3.14199500e+00  6.00000000e+01 -1.38629436e+00\n",
      "  -1.38629436e+00  2.29757260e+00]\n",
      " [ 1.44220199e+00  3.68261000e+00  6.80000000e+01 -1.38629436e+00\n",
      "  -1.38629436e+00  2.30757260e+00]\n",
      " [ 5.82215620e-01  3.86597900e+00  6.20000000e+01  1.71379793e+00\n",
      "  -4.30782920e-01  2.32727770e+00]\n",
      " [ 1.77155676e+00  3.89690900e+00  6.10000000e+01 -1.38629436e+00\n",
      "   8.10930220e-01  2.37490580e+00]\n",
      " [ 1.48613970e+00  3.40949600e+00  6.60000000e+01  1.74919985e+00\n",
      "  -4.30782920e-01  2.52172060e+00]\n",
      " [ 1.66392610e+00  3.39282900e+00  6.10000000e+01  6.15185640e-01\n",
      "  -1.38629436e+00  2.55334380e+00]\n",
      " [ 2.72785283e+00  3.99544500e+00  7.90000000e+01  1.87946505e+00\n",
      "   2.65675691e+00  2.56878810e+00]\n",
      " [ 1.16315081e+00  4.03512500e+00  6.80000000e+01  1.71379793e+00\n",
      "  -4.30782920e-01  2.56878810e+00]\n",
      " [ 1.74571553e+00  3.49802200e+00  4.30000000e+01 -1.38629436e+00\n",
      "  -1.38629436e+00  2.59151640e+00]\n",
      " [ 1.22082992e+00  3.56812300e+00  7.00000000e+01  1.37371558e+00\n",
      "  -7.98507700e-01  2.59151640e+00]\n",
      " [ 1.09192330e+00  3.99360300e+00  6.80000000e+01 -1.38629436e+00\n",
      "  -1.38629436e+00  2.65675690e+00]\n",
      " [ 1.66013103e+00  4.23483100e+00  6.40000000e+01  2.07317193e+00\n",
      "  -1.38629436e+00  2.67759100e+00]\n",
      " [ 5.12823626e-01  3.63363100e+00  6.40000000e+01  1.49290410e+00\n",
      "   4.87901600e-02  2.68444030e+00]\n",
      " [ 2.12704052e+00  4.12147300e+00  6.80000000e+01  1.76644166e+00\n",
      "   1.44691898e+00  2.69124310e+00]\n",
      " [ 3.15359036e+00  3.51601300e+00  5.90000000e+01 -1.38629436e+00\n",
      "  -1.38629436e+00  2.70471130e+00]\n",
      " [ 1.26694760e+00  4.28013200e+00  6.60000000e+01  2.12226154e+00\n",
      "  -1.38629436e+00  2.71800050e+00]\n",
      " [ 9.74559640e-01  2.86505400e+00  4.70000000e+01 -1.38629436e+00\n",
      "   5.00775290e-01  2.78809290e+00]\n",
      " [ 4.63734016e-01  3.76468200e+00  4.90000000e+01  1.42310833e+00\n",
      "  -1.38629436e+00  2.79422790e+00]\n",
      " [ 5.42324291e-01  4.17822600e+00  7.00000000e+01  4.38254930e-01\n",
      "  -1.38629436e+00  2.80638610e+00]\n",
      " [ 1.06125650e+00  3.85121100e+00  6.10000000e+01  1.29472717e+00\n",
      "  -1.38629436e+00  2.81241020e+00]\n",
      " [ 4.57424847e-01  4.52450200e+00  7.30000000e+01  2.32630162e+00\n",
      "  -1.38629436e+00  2.84199820e+00]\n",
      " [ 1.99741771e+00  3.71965100e+00  6.30000000e+01  1.61938824e+00\n",
      "   1.90954250e+00  2.85359250e+00]\n",
      " [ 2.77570885e+00  3.52488900e+00  7.20000000e+01 -1.38629436e+00\n",
      "   1.55814462e+00  2.85359250e+00]\n",
      " [ 2.03470565e+00  3.91701100e+00  6.60000000e+01  2.00821403e+00\n",
      "   2.11021320e+00  2.88200350e+00]\n",
      " [ 2.07317193e+00  3.62300700e+00  6.40000000e+01 -1.38629436e+00\n",
      "  -1.38629436e+00  2.88200350e+00]\n",
      " [ 1.45861502e+00  3.83622100e+00  6.10000000e+01  1.32175584e+00\n",
      "  -4.30782920e-01  2.88759010e+00]\n",
      " [ 2.02287119e+00  3.87846600e+00  6.80000000e+01  1.78339122e+00\n",
      "   1.32175584e+00  2.92046980e+00]\n",
      " [ 2.19833507e+00  4.05091500e+00  7.20000000e+01  2.30757263e+00\n",
      "  -4.30782920e-01  2.96269240e+00]\n",
      " [-4.46287103e-01  4.40854700e+00  6.90000000e+01 -1.38629436e+00\n",
      "  -1.38629436e+00  2.96269240e+00]\n",
      " [ 1.19392247e+00  4.78038300e+00  7.20000000e+01  2.32630162e+00\n",
      "  -7.98507700e-01  2.97297530e+00]\n",
      " [ 1.86408013e+00  3.59319400e+00  6.00000000e+01 -1.38629436e+00\n",
      "   1.32175584e+00  3.01308090e+00]\n",
      " [ 1.16002092e+00  3.34109300e+00  7.70000000e+01  1.74919985e+00\n",
      "  -1.38629436e+00  3.03735390e+00]\n",
      " [ 1.21491274e+00  3.82537500e+00  6.90000000e+01 -1.38629436e+00\n",
      "   2.23143550e-01  3.05635690e+00]\n",
      " [ 1.83896107e+00  3.23671600e+00  6.00000000e+01  4.38254930e-01\n",
      "   1.17865500e+00  3.07500550e+00]\n",
      " [ 2.99922616e+00  3.84908300e+00  6.90000000e+01 -1.38629436e+00\n",
      "   1.90954250e+00  3.27525620e+00]\n",
      " [ 3.14113048e+00  3.26384900e+00  6.80000000e+01 -5.12932900e-02\n",
      "   2.42036813e+00  3.33754740e+00]\n",
      " [ 2.01089500e+00  4.43378900e+00  7.20000000e+01  2.12226154e+00\n",
      "   5.00775290e-01  3.39282910e+00]\n",
      " [ 2.53765721e+00  4.35478400e+00  7.80000000e+01  2.32630162e+00\n",
      "  -1.38629436e+00  3.43559880e+00]\n",
      " [ 2.64830020e+00  3.58212900e+00  6.90000000e+01 -1.38629436e+00\n",
      "   2.58399755e+00  3.45789270e+00]\n",
      " [ 2.77944020e+00  3.82319200e+00  6.30000000e+01 -1.38629436e+00\n",
      "   3.71563560e-01  3.51303690e+00]\n",
      " [ 1.46787435e+00  3.07037600e+00  6.60000000e+01  5.59615790e-01\n",
      "   2.23143550e-01  3.51601310e+00]\n",
      " [ 2.51365606e+00  3.47351800e+00  5.70000000e+01  4.38254930e-01\n",
      "   2.32727771e+00  3.53076260e+00]\n",
      " [ 2.61300665e+00  3.88875400e+00  7.70000000e+01 -5.27632740e-01\n",
      "   5.59615790e-01  3.56529840e+00]\n",
      " [ 2.67759099e+00  3.83837600e+00  6.50000000e+01  1.11514159e+00\n",
      "   1.74919985e+00  3.57094020e+00]\n",
      " [ 1.56234630e+00  3.70990700e+00  6.00000000e+01  1.69561561e+00\n",
      "   8.10930220e-01  3.58767690e+00]\n",
      " [ 3.30284926e+00  3.51898000e+00  6.40000000e+01 -1.38629436e+00\n",
      "   2.32727771e+00  3.63098550e+00]\n",
      " [ 2.02419307e+00  3.73169900e+00  5.80000000e+01  1.63899671e+00\n",
      "  -1.38629436e+00  3.68009090e+00]\n",
      " [ 1.73165554e+00  3.36901800e+00  6.20000000e+01 -1.38629436e+00\n",
      "   3.00104590e-01  3.71235180e+00]\n",
      " [ 2.80759383e+00  4.71805200e+00  6.50000000e+01 -1.38629436e+00\n",
      "   2.46385324e+00  3.98434370e+00]\n",
      " [ 1.56234630e+00  3.69511000e+00  7.60000000e+01  9.36093360e-01\n",
      "   8.10930220e-01  3.99360300e+00]\n",
      " [ 3.24649099e+00  4.10181700e+00  6.80000000e+01 -1.38629436e+00\n",
      "  -1.38629436e+00  4.02980600e+00]\n",
      " [ 2.53290285e+00  3.67756600e+00  6.10000000e+01  1.34807315e+00\n",
      "  -1.38629436e+00  4.12955080e+00]\n",
      " [ 2.83026783e+00  3.87639600e+00  6.80000000e+01 -1.38629436e+00\n",
      "   1.32175584e+00  4.38514680e+00]\n",
      " [ 3.82100361e+00  3.89690900e+00  4.40000000e+01 -1.38629436e+00\n",
      "   2.16905370e+00  4.68444340e+00]\n",
      " [ 2.90744736e+00  3.39618500e+00  5.20000000e+01 -1.38629436e+00\n",
      "   2.46385324e+00  5.14312450e+00]\n",
      " [ 2.88256357e+00  3.77391000e+00  6.80000000e+01  1.55814462e+00\n",
      "   1.55814462e+00  5.47750900e+00]\n",
      " [ 3.47196645e+00  3.97499800e+00  6.80000000e+01  4.38254930e-01\n",
      "   2.90416508e+00  5.58293220e+00]]\n"
     ]
    }
   ],
   "source": [
    "print(X.shape)\n",
    "print(X)"
   ]
  },
  {
   "cell_type": "code",
   "execution_count": 50,
   "metadata": {},
   "outputs": [],
   "source": [
    "# Z score all other variables \n",
    "X_z = zscore(X)\n",
    "# print(X_z)\n",
    "\n",
    "# Current order: lCavol, lWeight, Age, lBPH, lCP, lPSA"
   ]
  },
  {
   "cell_type": "code",
   "execution_count": 51,
   "metadata": {},
   "outputs": [],
   "source": [
    "# One out of K coding for PGG and Gleason\n",
    "\n",
    "from categoric2numeric import *\n",
    "\n",
    "[X_Gleason, attribute_names_Gleason]=categoric2numeric(gleason)\n",
    "[X_PGG45, attribute_names_PGG45]=categoric2numeric(pgg)\n",
    "\n",
    "#print(X_Gleason)"
   ]
  },
  {
   "cell_type": "code",
   "execution_count": 52,
   "metadata": {},
   "outputs": [
    {
     "name": "stdout",
     "output_type": "stream",
     "text": [
      "(97, 19)\n",
      "[  0.   4.   5.   6.  10.  15.  20.  25.  30.  35.  40.  50.  60.  70.\n",
      "  75.  80.  90.  95. 100.]\n",
      "(97,)\n",
      "(97, 4)\n"
     ]
    }
   ],
   "source": [
    "print(X_PGG45.shape)\n",
    "print(np.unique(pgg))\n",
    "print(svi.shape)\n",
    "print(X_Gleason.shape)\n",
    "\n",
    "# 97*30"
   ]
  },
  {
   "cell_type": "code",
   "execution_count": 53,
   "metadata": {},
   "outputs": [
    {
     "name": "stdout",
     "output_type": "stream",
     "text": [
      "(97, 1)\n",
      "(97, 11)\n",
      "[-1.58702059 -2.20015441  1.36823439 -1.03002898 -0.86765522 -2.29971238\n",
      "  0.          1.          0.          0.          0.        ]\n"
     ]
    }
   ],
   "source": [
    "# Add one out of K coded Gleason and PGG columns, as well as SVI \n",
    "svi = np.reshape(svi,[97,1])\n",
    "print(svi.shape)\n",
    "# X_k = np.concatenate((X,X_Gleason,X_PGG45,svi),axis=1)\n",
    "X_k = np.concatenate((X_z,X_Gleason,svi),axis=1)\n",
    "\n",
    "print(X_k.shape)\n",
    "print(X_k[2])\n",
    "\n",
    "# Order: lCavol, lWeight, Age, lBPH, lCP, lPSA, Gleason (4 columns), (PGG (19 columns)), SVI (1 column)\n"
   ]
  },
  {
   "cell_type": "code",
   "execution_count": null,
   "metadata": {},
   "outputs": [],
   "source": []
  },
  {
   "cell_type": "code",
   "execution_count": null,
   "metadata": {},
   "outputs": [],
   "source": []
  },
  {
   "cell_type": "markdown",
   "metadata": {},
   "source": [
    "### Regression section"
   ]
  },
  {
   "cell_type": "code",
   "execution_count": 54,
   "metadata": {},
   "outputs": [
    {
     "name": "stdout",
     "output_type": "stream",
     "text": [
      "[-2.53331785 -2.29971238 -2.29971238 -2.29971238 -1.83463099 -1.49161747\n",
      " -1.49161747 -1.4141616  -1.24618021 -1.24618021 -1.05492666 -1.05492666\n",
      " -1.05492666 -0.98428221 -0.94018137 -0.89820677 -0.87795465 -0.85816274\n",
      " -0.80135103 -0.76543644 -0.73094466 -0.71419787 -0.68164068 -0.66580745\n",
      " -0.65025697 -0.619965   -0.59069151 -0.57641572 -0.54854763 -0.50834947\n",
      " -0.48254597 -0.40942861 -0.40942861 -0.39781765 -0.3750503  -0.34197776\n",
      " -0.27937807 -0.24968869 -0.23044356 -0.17513581 -0.15745387 -0.14874583\n",
      " -0.13158654 -0.09011178  0.0377352   0.06527282  0.07872178  0.07872178\n",
      "  0.09851369  0.09851369  0.1553254   0.17346783  0.17943223  0.18535613\n",
      "  0.1970843   0.2086566   0.26969337  0.27503575  0.28562317  0.29086898\n",
      "  0.31663434  0.32673071  0.32673071  0.35147113  0.35147113  0.35633597\n",
      "  0.38496775  0.42173538  0.42173538  0.43068977  0.46561391  0.48675094\n",
      "  0.50329884  0.51953812  0.69391731  0.74816076  0.79630031  0.83354436\n",
      "  0.85295798  0.90097779  0.90356948  0.91641341  0.94648734  0.95140024\n",
      "  0.96597463  1.00368795  1.04644915  1.07454209  1.31139383  1.31945687\n",
      "  1.3509826   1.43784081  1.66041493  1.92104373  2.32046525  2.61164875\n",
      "  2.70345173]\n"
     ]
    }
   ],
   "source": [
    "# Split dataset into features and target vector\n",
    "lPSA_idx = 5\n",
    "# Test lPSA idx:\n",
    "print(X_k[:,5])"
   ]
  },
  {
   "cell_type": "code",
   "execution_count": null,
   "metadata": {},
   "outputs": [],
   "source": []
  },
  {
   "cell_type": "code",
   "execution_count": 55,
   "metadata": {},
   "outputs": [
    {
     "name": "stdout",
     "output_type": "stream",
     "text": [
      "(97, 10)\n",
      "[-1.64586143 -2.01663373 -1.87210098 -1.03002898 -0.86765522  1.\n",
      "  0.          0.          0.          0.        ]\n"
     ]
    }
   ],
   "source": [
    "y = X_k[:,lPSA_idx] # Extracting the y-label (lPSA)\n",
    "\n",
    "X_cols = list(range(0,lPSA_idx)) + list(range(lPSA_idx+1,(X_k.shape[1])))\n",
    "X1 = X_k[:,X_cols] # The new data array without lPSA\n",
    "\n",
    "print(X1.shape)\n",
    "print(X1[0])\n"
   ]
  },
  {
   "cell_type": "code",
   "execution_count": 56,
   "metadata": {},
   "outputs": [
    {
     "name": "stdout",
     "output_type": "stream",
     "text": [
      "['6.0', '7.0', '8.0', '9.0']\n",
      "['0.0', '4.0', '5.0', '6.0', '10.0', '15.0', '20.0', '25.0', '30.0', '35.0', '40.0', '50.0', '60.0', '70.0', '75.0', '80.0', '90.0', '95.0', '100.0']\n"
     ]
    }
   ],
   "source": [
    "# Creating a new, manual attributeNames for later use\n",
    "print(attribute_names_Gleason)\n",
    "print(attribute_names_PGG45)\n",
    "\n",
    "attributeNamesNew = ['lCaVol', 'lWeight', 'Age', 'lBPH', 'lCP','Gleason 6.0', 'Gleason 7.0', 'Gleason 8.0', 'Gleason 9.0','SVI']\n"
   ]
  },
  {
   "cell_type": "code",
   "execution_count": null,
   "metadata": {},
   "outputs": [],
   "source": []
  },
  {
   "cell_type": "markdown",
   "metadata": {},
   "source": [
    "### Forward selection"
   ]
  },
  {
   "cell_type": "code",
   "execution_count": 57,
   "metadata": {},
   "outputs": [],
   "source": [
    "b = dummy.DummyRegressor(strategy='mean')\n",
    "\n",
    "\n",
    "\n"
   ]
  },
  {
   "cell_type": "code",
   "execution_count": 73,
   "metadata": {},
   "outputs": [
    {
     "name": "stdout",
     "output_type": "stream",
     "text": [
      "C:\\Users\\Greta\\Documents\\GitHub\\ML_fall2018\n",
      "Cross validation fold 1/5\n",
      "Train indices: [ 0  1  3  4  5  6  7  8  9 12 13 14 16 18 19 20 21 22 23 24 26 27 28 29\n",
      " 30 33 34 35 37 38 39 41 42 43 44 46 47 49 51 54 55 56 57 59 60 61 62 63\n",
      " 64 65 66 67 68 69 70 71 72 73 75 76 77 78 79 80 82 84 85 86 88 89 90 91\n",
      " 92 93 94 95 96]\n",
      "Test indices: [ 2 10 11 15 17 25 31 32 36 40 45 48 50 52 53 58 74 81 83 87]\n",
      "Features no: 4\n",
      "\n",
      "\n",
      "\n",
      "Linear regression without feature selection:\n",
      "\n",
      "- Training error: 0.12136471156011697\n",
      "- Test error:     0.5451943142798582\n",
      "- DUMMY Training error: 0.742885242949402\n",
      "- DUMMY Test error:     0.956409023995931\n",
      "\n",
      "Linear regression with feature selection:\n",
      "- Training error: 0.953578011767158\n",
      "- Test error:     0.5622726418714514\n",
      "Cross validation fold 2/5\n",
      "Train indices: [ 1  2  3  4  6  7  8  9 10 11 13 14 15 17 18 19 20 22 23 24 25 26 27 28\n",
      " 29 31 32 34 35 36 38 39 40 41 42 45 46 47 48 50 51 52 53 54 55 57 58 59\n",
      " 60 61 63 65 66 67 68 69 70 72 74 75 77 79 81 82 83 84 85 86 87 88 89 90\n",
      " 92 93 94 95 96]\n",
      "Test indices: [ 0  5 12 16 21 30 33 37 43 44 49 56 62 64 71 73 76 78 80 91]\n",
      "Features no: 4\n",
      "\n",
      "\n",
      "\n",
      "Linear regression without feature selection:\n",
      "\n",
      "- Training error: 0.23410114435857654\n",
      "- Test error:     0.5632531585299491\n",
      "- DUMMY Training error: 0.816448961376126\n",
      "- DUMMY Test error:     0.9345913033954268\n",
      "\n",
      "Linear regression with feature selection:\n",
      "- Training error: 0.8871581292317583\n",
      "- Test error:     0.5896198959016006\n",
      "Cross validation fold 3/5\n",
      "Train indices: [ 0  1  2  3  5  6  8  9 10 11 12 15 16 17 18 19 20 21 22 23 24 25 26 27\n",
      " 30 31 32 33 36 37 39 40 43 44 45 46 48 49 50 51 52 53 54 55 56 57 58 60\n",
      " 61 62 64 65 66 67 69 71 72 73 74 75 76 78 79 80 81 82 83 84 85 86 87 89\n",
      " 90 91 92 93 95 96]\n",
      "Test indices: [ 4  7 13 14 28 29 34 35 38 41 42 47 59 63 68 70 77 88 94]\n",
      "Features no: 5\n",
      "\n",
      "\n",
      "\n",
      "Linear regression without feature selection:\n",
      "\n",
      "- Training error: 0.33560239395751124\n",
      "- Test error:     0.6290533701892149\n",
      "- DUMMY Training error: 0.8522508360005665\n",
      "- DUMMY Test error:     0.9183803567389706\n",
      "\n",
      "Linear regression with feature selection:\n",
      "- Training error: 0.8095843431249996\n",
      "- Test error:     0.640829432559288\n",
      "Cross validation fold 4/5\n",
      "Train indices: [ 0  1  2  4  5  6  7  9 10 11 12 13 14 15 16 17 21 22 23 24 25 27 28 29\n",
      " 30 31 32 33 34 35 36 37 38 39 40 41 42 43 44 45 47 48 49 50 52 53 54 56\n",
      " 58 59 61 62 63 64 68 70 71 72 73 74 76 77 78 80 81 82 83 84 85 87 88 89\n",
      " 90 91 92 93 94 96]\n",
      "Test indices: [ 3  8 18 19 20 26 46 51 55 57 60 65 66 67 69 75 79 86 95]\n",
      "Features no: 3\n",
      "\n",
      "\n",
      "\n",
      "Linear regression without feature selection:\n",
      "\n",
      "- Training error: 0.45309075661921716\n",
      "- Test error:     0.6248518728371325\n",
      "- DUMMY Training error: 0.9387535891730556\n",
      "- DUMMY Test error:     0.9196448372963303\n",
      "\n",
      "Linear regression with feature selection:\n",
      "- Training error: 0.7309223537643312\n",
      "- Test error:     0.6328966798338964\n",
      "Cross validation fold 5/5\n",
      "Train indices: [ 0  2  3  4  5  7  8 10 11 12 13 14 15 16 17 18 19 20 21 25 26 28 29 30\n",
      " 31 32 33 34 35 36 37 38 40 41 42 43 44 45 46 47 48 49 50 51 52 53 55 56\n",
      " 57 58 59 60 62 63 64 65 66 67 68 69 70 71 73 74 75 76 77 78 79 80 81 83\n",
      " 86 87 88 91 94 95]\n",
      "Test indices: [ 1  6  9 22 23 24 27 39 54 61 72 82 84 85 89 90 92 93 96]\n",
      "Features no: 3\n",
      "\n",
      "\n",
      "\n",
      "Linear regression without feature selection:\n",
      "\n",
      "- Training error: 0.5672966434107753\n",
      "- Test error:     0.6340027837304841\n",
      "- DUMMY Training error: 0.9984581223239732\n",
      "- DUMMY Test error:     0.9964186324228251\n",
      "\n",
      "Linear regression with feature selection:\n",
      "- Training error: 0.5940824227478012\n",
      "- Test error:     0.6471556579587021\n"
     ]
    },
    {
     "data": {
      "image/png": "[encoded data removed]",
      "text/plain": [
       "<Figure size 432x288 with 2 Axes>"
      ]
     },
     "metadata": {},
     "output_type": "display_data"
    },
    {
     "data": {
      "image/png": "[encoded data removed]",
      "text/plain": [
       "<Figure size 432x288 with 2 Axes>"
      ]
     },
     "metadata": {},
     "output_type": "display_data"
    },
    {
     "data": {
      "image/png": "[encoded data removed]",
      "text/plain": [
       "<Figure size 432x288 with 2 Axes>"
      ]
     },
     "metadata": {},
     "output_type": "display_data"
    },
    {
     "data": {
      "image/png": "[encoded data removed]",
      "text/plain": [
       "<Figure size 432x288 with 2 Axes>"
      ]
     },
     "metadata": {},
     "output_type": "display_data"
    },
    {
     "data": {
      "image/png": "[encoded data removed]",
      "text/plain": [
       "<Figure size 432x288 with 2 Axes>"
      ]
     },
     "metadata": {},
     "output_type": "display_data"
    },
    {
     "data": {
      "image/png": "[encoded data removed]",
      "text/plain": [
       "<Figure size 432x288 with 1 Axes>"
      ]
     },
     "metadata": {},
     "output_type": "display_data"
    },
    {
     "data": {
      "image/png": "[encoded data removed]",
      "text/plain": [
       "<Figure size 864x432 with 3 Axes>"
      ]
     },
     "metadata": {},
     "output_type": "display_data"
    }
   ],
   "source": [
    "# Forward selection imports\n",
    "print(os.getcwd())\n",
    "#os.chdir('C:/Users/Greta/Documents/Github/ML_fall2018/Data/Prostate.xlsx'\n",
    "\n",
    "from sklearn import model_selection, dummy\n",
    "from toolbox_02450 import feature_selector_lr, bmplot\n",
    "\n",
    "N, M = X1.shape\n",
    "\n",
    "## Crossvalidation\n",
    "# Create crossvalidation partition for evaluation\n",
    "K = 5\n",
    "seed = 1337\n",
    "#seed2 = np.random.randomstate(0)\n",
    "CV = model_selection.KFold(n_splits=K,shuffle=True, random_state=seed)\n",
    "\n",
    "# Initialize variables\n",
    "Features = np.zeros((M,K))\n",
    "Error_train = np.empty((K,1))\n",
    "Error_test = np.empty((K,1))\n",
    "\n",
    "Error_train_b = np.empty((K,1))\n",
    "Error_test_b = np.empty((K,1))\n",
    "\n",
    "Error_train_fs = np.empty((K,1))\n",
    "Error_test_fs = np.empty((K,1))\n",
    "Error_train_nofeatures = np.empty((K,1))\n",
    "Error_test_nofeatures = np.empty((K,1))\n",
    "\n",
    "k=0\n",
    "for train_index, test_index in CV.split(X1):\n",
    "    \n",
    "    # extract training and test set for current CV fold\n",
    "    X_train = X1[train_index,:]\n",
    "    y_train = y[train_index]\n",
    "    X_test = X1[test_index,:]\n",
    "    y_test = y[test_index]\n",
    "    internal_cross_validation = 10\n",
    "    \n",
    "    # Compute squared error without using the input data at all\n",
    "#     Error_train_nofeatures[k] = np.square(y_train-y_train.mean()).sum()/y_train.shape[0]\n",
    "#     Error_test_nofeatures[k] = np.square(y_test-y_test.mean()).sum()/y_test.shape[0]\n",
    "    Error_train_nofeatures[k] = np.sqrt(np.square(y_train-y_train.mean()).sum()/y_train.shape[0])\n",
    "    Error_test_nofeatures[k] = np.sqrt(np.square(y_test-y_test.mean()).sum()/y_test.shape[0])\n",
    "\n",
    "    # Compute squared error with all features selected (no feature selection)\n",
    "    m = lm.LinearRegression(fit_intercept=True).fit(X_train, y_train)\n",
    "    \n",
    "    # DUMMY\n",
    "    b = dummy.DummyRegressor(strategy='mean').fit(X_train,y_train)\n",
    "    \n",
    "    Error_train_b[k] = np.sqrt(np.square(y_train-b.predict(X_train)).sum()/y_train.shape[0])\n",
    "    Error_test_b[k] = np.sqrt(np.square(y_test-b.predict(X_test)).sum()/y_test.shape[0])\n",
    "    \n",
    "#     Error_train[k] = np.square(y_train-m.predict(X_train)).sum()/y_train.shape[0]\n",
    "#     Error_test[k] = np.square(y_test-m.predict(X_test)).sum()/y_test.shape[0]\n",
    "    Error_train[k] = np.sqrt(np.square(y_train-m.predict(X_train)).sum()/y_train.shape[0])\n",
    "    Error_test[k] = np.sqrt(np.square(y_test-m.predict(X_test)).sum()/y_test.shape[0])\n",
    "\n",
    "    # Compute squared error with feature subset selection\n",
    "    #textout = 'verbose';\n",
    "    textout = '';\n",
    "    selected_features, features_record, loss_record = feature_selector_lr(X_train, y_train, internal_cross_validation,display=textout)\n",
    "    \n",
    "    Features[selected_features,k]=1\n",
    "    # .. alternatively you could use module sklearn.feature_selection\n",
    "    if len(selected_features) is 0:\n",
    "        print('No features were selected, i.e. the data (X) in the fold cannot describe the outcomes (y).' )\n",
    "    else:\n",
    "        m = lm.LinearRegression(fit_intercept=True).fit(X_train[:,selected_features], y_train)\n",
    "#         Error_train_fs[k] = np.square(y_train-m.predict(X_train[:,selected_features])).sum()/y_train.shape[0]\n",
    "#         Error_test_fs[k] = np.square(y_test-m.predict(X_test[:,selected_features])).sum()/y_test.shape[0]\n",
    "        Error_train_fs[k] = np.sqrt(np.square(y_train-m.predict(X_train[:,selected_features])).sum()/y_train.shape[0])\n",
    "        Error_test_fs[k] = np.sqrt(np.square(y_test-m.predict(X_test[:,selected_features])).sum()/y_test.shape[0])\n",
    "    \n",
    "        figure(k)\n",
    "        subplot(1,2,1)\n",
    "        plot(range(1,len(loss_record)), loss_record[1:])\n",
    "        xlabel('Iteration')\n",
    "        ylabel('Squared error (crossvalidation)')    \n",
    "        \n",
    "        subplot(1,3,3)\n",
    "        bmplot(attributeNamesNew, range(1,features_record.shape[1]), -features_record[:,1:])\n",
    "        clim(-1.5,0)\n",
    "        xlabel('Iteration')\n",
    "\n",
    "    print('Cross validation fold {0}/{1}'.format(k+1,K))\n",
    "    print('Train indices: {0}'.format(train_index))\n",
    "    print('Test indices: {0}'.format(test_index))\n",
    "    print('Features no: {0}\\n'.format(selected_features.size))\n",
    "    k += 1\n",
    "    \n",
    "# Display results\n",
    "    print('\\n')\n",
    "    print('Linear regression without feature selection:\\n')\n",
    "    print('- Training error: {0}'.format(Error_train.mean()))\n",
    "    print('- Test error:     {0}'.format(Error_test.mean()))\n",
    "    \n",
    "    print('- DUMMY Training error: {0}'.format(Error_train_b.mean()))\n",
    "    print('- DUMMY Test error:     {0}'.format(Error_test_b.mean()))\n",
    "    \n",
    "    #print('- R^2 train:     {0}'.format((Error_train_nofeatures.sum()-Error_train.sum())/Error_train_nofeatures.sum()))\n",
    "    #print('- R^2 test:     {0}'.format((Error_test_nofeatures.sum()-Error_test.sum())/Error_test_nofeatures.sum()))\n",
    "    \n",
    "    print('\\nLinear regression with feature selection:')\n",
    "    print('- Training error: {0}'.format(Error_train_fs.mean()))\n",
    "    print('- Test error:     {0}'.format(Error_test_fs.mean()))\n",
    "    #print('- R^2 train:     {0}'.format((Error_train_nofeatures.sum()-Error_train_fs.sum())/Error_train_nofeatures.sum()))\n",
    "    #print('- R^2 test:     {0}'.format((Error_test_nofeatures.sum()-Error_test_fs.sum())/Error_test_nofeatures.sum()))\n",
    "\n",
    "    figure(k)\n",
    "    subplot(1,3,2)\n",
    "    bmplot(attributeNamesNew, range(1,Features.shape[1]+1), -Features)\n",
    "    clim(-1.5,0)\n",
    "    xlabel('Crossvalidation fold') #the internal cross validation fold?\n",
    "    ylabel('Attribute')\n",
    "    if k == 5:\n",
    "        savefig('forward_selection' + str(k) + '.png',dpi=120) #bbox_inches = 'tight'\n",
    "\n",
    "\n",
    "\n",
    "# Inspect selected feature coefficients effect on the entire dataset and\n",
    "# plot the fitted model residual error as function of each attribute to\n",
    "# inspect for systematic structure in the residual\n",
    "\n",
    "f=5 # cross-validation fold to inspect, overall\n",
    "ff=Features[:,f-1].nonzero()[0]\n",
    "if len(ff) is 0:\n",
    "    print('\\nNo features were selected, i.e. the data (X) in the fold cannot describe the outcomes (y).' )\n",
    "else:\n",
    "    m = lm.LinearRegression(fit_intercept=True).fit(X1[:,ff], y)\n",
    "    \n",
    "    y_est= m.predict(X1[:,ff])\n",
    "    residual=y-y_est\n",
    "    \n",
    "    figure(k+1, figsize=(12,6))\n",
    "    title('Residual error vs. Attributes for features selected in cross-validation fold {0}'.format(f))\n",
    "    for i in range(0,len(ff)):\n",
    "       subplot(2,np.ceil(len(ff)/2.0),i+1)\n",
    "       plot(X1[:,ff[i]],residual,'.')\n",
    "       xlabel(attributeNamesNew[ff[i]])\n",
    "       ylabel('residual error')\n",
    "        \n",
    "    savefig('forward_selection_residuals.png',dpi=120) #bbox_inches = 'tight'\n",
    "    \n",
    "    \n",
    "show()\n",
    "\n",
    "#print(os.getcwd)"
   ]
  },
  {
   "cell_type": "code",
   "execution_count": 79,
   "metadata": {},
   "outputs": [
    {
     "name": "stdout",
     "output_type": "stream",
     "text": [
      "[[0.83047872]\n",
      " [0.91270637]\n",
      " [0.93446195]\n",
      " [1.0052705 ]\n",
      " [1.29917563]]\n",
      "[[0.4972446 ]\n",
      " [0.70678108]\n",
      " [0.79087056]\n",
      " [0.57229678]\n",
      " [0.66858527]]\n"
     ]
    }
   ],
   "source": [
    "print(Error_test_b)\n",
    "print(Error_test_fs)"
   ]
  },
  {
   "cell_type": "code",
   "execution_count": null,
   "metadata": {},
   "outputs": [],
   "source": []
  },
  {
   "cell_type": "markdown",
   "metadata": {},
   "source": [
    "### Fit a linear model based on the forward selection above and predict data"
   ]
  },
  {
   "cell_type": "code",
   "execution_count": 59,
   "metadata": {},
   "outputs": [
    {
     "name": "stdout",
     "output_type": "stream",
     "text": [
      "(97, 1)\n",
      "(97, 3)\n",
      "[-2.53331785 -2.29971238 -2.29971238 -2.29971238 -1.83463099 -1.49161747\n",
      " -1.49161747 -1.4141616  -1.24618021 -1.24618021 -1.05492666 -1.05492666\n",
      " -1.05492666 -0.98428221 -0.94018137 -0.89820677 -0.87795465 -0.85816274\n",
      " -0.80135103 -0.76543644 -0.73094466 -0.71419787 -0.68164068 -0.66580745\n",
      " -0.65025697 -0.619965   -0.59069151 -0.57641572 -0.54854763 -0.50834947\n",
      " -0.48254597 -0.40942861 -0.40942861 -0.39781765 -0.3750503  -0.34197776\n",
      " -0.27937807 -0.24968869 -0.23044356 -0.17513581 -0.15745387 -0.14874583\n",
      " -0.13158654 -0.09011178  0.0377352   0.06527282  0.07872178  0.07872178\n",
      "  0.09851369  0.09851369  0.1553254   0.17346783  0.17943223  0.18535613\n",
      "  0.1970843   0.2086566   0.26969337  0.27503575  0.28562317  0.29086898\n",
      "  0.31663434  0.32673071  0.32673071  0.35147113  0.35147113  0.35633597\n",
      "  0.38496775  0.42173538  0.42173538  0.43068977  0.46561391  0.48675094\n",
      "  0.50329884  0.51953812  0.69391731  0.74816076  0.79630031  0.83354436\n",
      "  0.85295798  0.90097779  0.90356948  0.91641341  0.94648734  0.95140024\n",
      "  0.96597463  1.00368795  1.04644915  1.07454209  1.31139383  1.31945687\n",
      "  1.3509826   1.43784081  1.66041493  1.92104373  2.32046525  2.61164875\n",
      "  2.70345173]\n"
     ]
    }
   ],
   "source": [
    "# Fit ordinary least squares regression model \n",
    "\n",
    "attributeNamesNew = ['lCaVol', 'lWeight', 'Age', 'lBPH', 'lCP','Gleason 6.0', 'Gleason 7.0', 'Gleason 8.0', 'Gleason 9.0','SVI']\n",
    "lCaVol = X1[:,1]\n",
    "lCaVol = np.reshape(lCaVol,[97,1])\n",
    "lWeight = X1[:,2]\n",
    "lWeight = np.reshape(lWeight,[97,1])\n",
    "SVI = X1[:,9]\n",
    "SVI = np.reshape(SVI,[97,1])\n",
    "\n",
    "print(np.shape(lCaVol))\n",
    "\n",
    "X_r = np.concatenate((lCaVol,lWeight,SVI),axis=1)\n",
    "\n",
    "print(np.shape(X_r))\n",
    "#print(X_r)\n",
    "print(y)"
   ]
  },
  {
   "cell_type": "code",
   "execution_count": 60,
   "metadata": {},
   "outputs": [
    {
     "name": "stdout",
     "output_type": "stream",
     "text": [
      "Mean squared error: 0.5569737088290707\n"
     ]
    },
    {
     "data": {
      "image/png": "[encoded data removed]",
      "text/plain": [
       "<Figure size 432x288 with 1 Axes>"
      ]
     },
     "metadata": {},
     "output_type": "display_data"
    },
    {
     "name": "stdout",
     "output_type": "stream",
     "text": [
      "[ 0.35917198 -0.01565832  1.2437635 ]\n",
      "-0.26926838576385825\n"
     ]
    }
   ],
   "source": [
    "from matplotlib.pyplot import figure, plot, xlabel, ylabel, legend, show, xlim, ylim\n",
    "\n",
    "model = lm.LinearRegression()\n",
    "model.fit(X_r,y)\n",
    "\n",
    "# Predict lPSA \n",
    "y_est = model.predict(X_r)\n",
    "residual = y_est-y\n",
    "\n",
    "# Mean squared error\n",
    "mse = (sum(residual**2))/len(residual)\n",
    "print('Mean squared error: ' + str(mse))\n",
    "\n",
    "# Display scatter plot\n",
    "figure(1)\n",
    "plot(y, y_est, '.')\n",
    "xlim([-3,3]);\n",
    "ylim([-3,3]);\n",
    "xlabel('lPSA value (true)'); ylabel('lPSA value (estimated)');\n",
    "show()\n",
    "\n",
    "# figure(2)\n",
    "# plot(X_r,y_est,'-')\n",
    "# subplot(2,1,2)\n",
    "# hist(residual,40)\n",
    "# xlabel('x'); ylabel('Residuals');\n",
    "\n",
    "# show()\n",
    "\n",
    "print(model.coef_)\n",
    "print(model.intercept_)\n"
   ]
  },
  {
   "cell_type": "code",
   "execution_count": 61,
   "metadata": {},
   "outputs": [
    {
     "data": {
      "text/plain": [
       "array([ 0.35917198, -0.01565832,  1.2437635 ])"
      ]
     },
     "execution_count": 61,
     "metadata": {},
     "output_type": "execute_result"
    }
   ],
   "source": [
    "model.coef_"
   ]
  },
  {
   "cell_type": "code",
   "execution_count": 62,
   "metadata": {},
   "outputs": [
    {
     "data": {
      "text/plain": [
       "-0.26926838576385825"
      ]
     },
     "execution_count": 62,
     "metadata": {},
     "output_type": "execute_result"
    }
   ],
   "source": [
    "model.intercept_"
   ]
  },
  {
   "cell_type": "code",
   "execution_count": null,
   "metadata": {},
   "outputs": [],
   "source": []
  },
  {
   "cell_type": "code",
   "execution_count": null,
   "metadata": {},
   "outputs": [],
   "source": []
  },
  {
   "cell_type": "code",
   "execution_count": null,
   "metadata": {},
   "outputs": [],
   "source": []
  },
  {
   "cell_type": "code",
   "execution_count": null,
   "metadata": {},
   "outputs": [],
   "source": []
  },
  {
   "cell_type": "markdown",
   "metadata": {},
   "source": [
    "# ANN for regression"
   ]
  },
  {
   "cell_type": "code",
   "execution_count": 63,
   "metadata": {},
   "outputs": [],
   "source": [
    "# Parameters for neural network classifier\n",
    "n_hidden_units = [2,4,6,8,10,15]      # number of hidden units\n",
    "n_train = 6             # number of networks trained in each k-fold\n",
    "learning_goal = 0.0001     # stop criterion 1 (train mse to be reached)\n",
    "max_epochs = 512         # stop criterion 2 (max epochs in training)\n",
    "show_error_freq = 100     # frequency of training status updates\n",
    "\n"
   ]
  },
  {
   "cell_type": "code",
   "execution_count": 64,
   "metadata": {},
   "outputs": [],
   "source": [
    "# K-fold crossvalidation\n",
    "K = 5                   # only three folds to speed up this example\n",
    "CV = model_selection.KFold(K,shuffle=True, random_state=seed)"
   ]
  },
  {
   "cell_type": "code",
   "execution_count": 65,
   "metadata": {},
   "outputs": [],
   "source": [
    "# Baseline model"
   ]
  },
  {
   "cell_type": "code",
   "execution_count": 66,
   "metadata": {},
   "outputs": [],
   "source": [
    "# Baseline model\n",
    "# def reg_baseline(y_train, y_test):\n",
    "#     predicted = [int(prediction) for i in range(len(y_test))]\n",
    "#     return predicted"
   ]
  },
  {
   "cell_type": "code",
   "execution_count": null,
   "metadata": {},
   "outputs": [],
   "source": []
  },
  {
   "cell_type": "code",
   "execution_count": null,
   "metadata": {},
   "outputs": [],
   "source": []
  },
  {
   "cell_type": "code",
   "execution_count": 67,
   "metadata": {},
   "outputs": [
    {
     "name": "stdout",
     "output_type": "stream",
     "text": [
      "\n",
      "Crossvalidation fold: 1/5\n",
      "Training network 1/6...\n",
      "Training network 2/6...\n",
      "Training network 3/6...\n",
      "Training network 4/6...\n",
      "Training network 5/6...\n",
      "Training network 6/6...\n",
      "Best train error: 2.8923571472892...\n",
      "Optimal number of hidden neurons: 15...\n",
      "-21.973852738272434\n",
      "\n",
      "Crossvalidation fold: 2/5\n",
      "Training network 1/6...\n",
      "Training network 2/6...\n",
      "Training network 3/6...\n",
      "Training network 4/6...\n",
      "Training network 5/6...\n",
      "Training network 6/6...\n",
      "Best train error: 3.122767796218375...\n",
      "Optimal number of hidden neurons: 10...\n",
      "-13.90118630274281\n",
      "\n",
      "Crossvalidation fold: 3/5\n",
      "Training network 1/6...\n",
      "Training network 2/6...\n",
      "Training network 3/6...\n",
      "Training network 4/6...\n",
      "Training network 5/6...\n",
      "Training network 6/6...\n",
      "Best train error: 2.503560414851308...\n",
      "Optimal number of hidden neurons: 10...\n",
      "14.276436042396767\n",
      "\n",
      "Crossvalidation fold: 4/5\n",
      "Training network 1/6...\n",
      "Training network 2/6...\n",
      "Training network 3/6...\n",
      "Training network 4/6...\n",
      "Training network 5/6...\n",
      "Training network 6/6...\n",
      "Epoch: 100; Error: 2.636905534963934;\n",
      "Best train error: 2.6159866001278553...\n",
      "Optimal number of hidden neurons: 15...\n",
      "-23.297136062232433\n",
      "\n",
      "Crossvalidation fold: 5/5\n",
      "Training network 1/6...\n",
      "Training network 2/6...\n",
      "Training network 3/6...\n",
      "Training network 4/6...\n",
      "Training network 5/6...\n",
      "Training network 6/6...\n",
      "Best train error: 2.111421019874604...\n",
      "Optimal number of hidden neurons: 15...\n",
      "-11.526454565023762\n"
     ]
    }
   ],
   "source": [
    "# Variable for regresson error\n",
    "errors = np.zeros(K)*np.nan\n",
    "gen_error = np.zeros(K)*np.nan\n",
    "error_hist = np.zeros((max_epochs,K))*np.nan\n",
    "bestnet = list()\n",
    "k=0\n",
    "for train_index, test_index in CV.split(X1,y):\n",
    "    print('\\nCrossvalidation fold: {0}/{1}'.format(k+1,K))    \n",
    "    \n",
    "    # extract training and test set for current CV fold\n",
    "    X_train = X1[train_index,:]\n",
    "    y_train = y[train_index]\n",
    "    X_test = X1[test_index,:]\n",
    "    y_test = y[test_index]\n",
    "    \n",
    "    best_train_error = np.inf\n",
    "    for i in range(n_train):\n",
    "        print('Training network {0}/{1}...'.format(i+1,n_train))\n",
    "        # Create randomly initialized network with 2 layers\n",
    "        ann = nl.net.newff([[-3,3]]*M, [n_hidden_units[i], 1], [nl.trans.TanSig(),nl.trans.PureLin()])\n",
    "        if i==0:\n",
    "            bestnet.append(ann)\n",
    "        # train network\n",
    "        train_error = ann.train(X_train, y_train.reshape(-1,1), goal=learning_goal, epochs=max_epochs, show=show_error_freq, rr=0.3)\n",
    "        \n",
    "        if train_error[-1]<best_train_error:\n",
    "            bestnet[k]=ann\n",
    "            best_train_error = train_error[-1]\n",
    "            error_hist[range(len(train_error)),k] = train_error\n",
    "            best_no_neurons = n_hidden_units[i]\n",
    "\n",
    "    print('Best train error: {0}...'.format(best_train_error))\n",
    "    print('Optimal number of hidden neurons: {0}...'.format(best_no_neurons))\n",
    "    y_est = bestnet[k].sim(X_test).squeeze()\n",
    "    #y_est = (y_est>.5).astype(int)\n",
    "    errors[k] = np.power(y_est-y_test,2).sum().astype(float)/y_test.shape[0]\n",
    "    #errors[k] = 100*(y_est!=y_test).sum().astype(float)/y_test.shape[0]\n",
    "    gen_error[k] = 100 * (y_est-y_test).sum().astype(float)/y_test.shape[0]\n",
    "    #errors[k] = - y_test * np.log(y_est) - (1 - y_test) * np.log (1 - y_est)\n",
    "    print(gen_error[k])\n",
    "    k+=1\n",
    "    #break\n",
    "    "
   ]
  },
  {
   "cell_type": "code",
   "execution_count": 35,
   "metadata": {},
   "outputs": [
    {
     "name": "stdout",
     "output_type": "stream",
     "text": [
      "Mean-square error: 0.6118168837723534\n"
     ]
    },
    {
     "data": {
      "image/png": "[encoded data removed]",
      "text/plain": [
       "<Figure size 432x504 with 2 Axes>"
      ]
     },
     "metadata": {},
     "output_type": "display_data"
    },
    {
     "data": {
      "image/png": "[encoded data removed]",
      "text/plain": [
       "<Figure size 432x504 with 2 Axes>"
      ]
     },
     "metadata": {},
     "output_type": "display_data"
    },
    {
     "data": {
      "image/png": "[encoded data removed]",
      "text/plain": [
       "<Figure size 432x288 with 1 Axes>"
      ]
     },
     "metadata": {},
     "output_type": "display_data"
    }
   ],
   "source": [
    "# Print the average least squares error\n",
    "print('Mean-square error: {0}'.format(np.mean(errors)))\n",
    "\n",
    "plt.figure(figsize=(6,7));\n",
    "subplot(2,1,1); plt.bar(range(0,K),errors); title('Mean-square errors');\n",
    "subplot(2,1,2); plt.plot(error_hist); title('Training error as function of BP iterations');\n",
    "figure(figsize=(6,7));\n",
    "subplot(2,1,1); plt.plot(y_est); plot(y_test); title('Last CV-fold: est_y vs. test_y'); \n",
    "subplot(2,1,2); plt.plot((y_est-y_test)); title('Last CV-fold: prediction error (est_y-test_y)'); \n",
    "plt.show()\n",
    "\n",
    "\n",
    "# Display scatter plot\n",
    "figure(1)\n",
    "#subplot(2,1,1)\n",
    "plot(y_test, y_est, '.')\n",
    "#plot(X_r, model.predict(X_r),color='k')\n",
    "#plot(X_r, y_est, color='blue', linewidth=1)\n",
    "xlabel('lPSA value (true)'); ylabel('lPSA value (estimated)');\n",
    "show()"
   ]
  },
  {
   "cell_type": "code",
   "execution_count": 36,
   "metadata": {},
   "outputs": [
    {
     "name": "stdout",
     "output_type": "stream",
     "text": [
      "[6.16984899e-03 2.98069151e-03 1.76526010e-02 9.96185879e-04\n",
      " 6.72159024e-03 1.86792072e-04 1.13161615e-03 2.46915880e-04\n",
      " 1.83490326e-04 1.09276370e-09 2.40321646e-04 1.35355055e-02\n",
      " 8.47757727e-04 3.96872031e-04 3.38637722e-04 4.50752890e-03\n",
      " 1.34467625e-05 1.28084791e-03 1.91599565e-05 6.48448258e-05\n",
      " 4.63916042e-04 4.07532471e-03 1.13753317e-02 3.76865290e-05\n",
      " 2.32199793e-04 3.77669741e-03 2.16963119e-08 3.39244142e-04\n",
      " 2.16142056e-03 3.72116820e-05 1.35479629e-03 1.55956720e-03\n",
      " 5.47301736e-03 3.54166583e-03 3.52521122e-03 4.91912725e-04\n",
      " 1.36352554e-02 1.34519618e-05 6.72817197e-03 1.55877775e-08\n",
      " 2.60128368e-02 7.49345603e-05 1.55283013e-05 1.55261268e-04\n",
      " 4.11608310e-06 6.82751625e-04 2.53535813e-04 5.69197322e-05\n",
      " 3.04664905e-05 5.15547509e-05 3.22977057e-03 8.56777528e-04\n",
      " 2.63314625e-03 2.44871132e-05 7.41358654e-06 6.66706871e-04\n",
      " 4.36708007e-04 3.74652589e-04 2.67055021e-03 1.27848548e-03\n",
      " 1.95942407e-03 7.72986822e-04 3.28777711e-05 1.25584869e-05\n",
      " 1.02793117e-03 3.17302593e-04 7.28526112e-06 7.11909153e-04\n",
      " 9.95079428e-08 6.24419244e-04 2.32409484e-04 1.80789754e-04\n",
      " 3.93399237e-04 1.68012116e-07 2.08935367e-02 1.73570575e-05\n",
      " 7.39317146e-04 6.76642673e-05 1.24709523e-05 1.04263054e-05\n",
      " 3.91950603e-03 4.28381727e-03 7.46090530e-04 6.44014247e-03\n",
      " 5.05604418e-03 3.46424605e-04 2.76640912e-04 3.03833817e-02\n",
      " 1.31997124e-04 6.13797300e-06 6.20445186e-05 3.92493938e-04\n",
      " 3.35392828e-05 2.77364198e-05 3.48761475e-05 6.49429648e-03\n",
      " 8.04820015e-04]\n"
     ]
    },
    {
     "data": {
      "image/png": "[encoded data removed]",
      "text/plain": [
       "<Figure size 432x288 with 1 Axes>"
      ]
     },
     "metadata": {},
     "output_type": "display_data"
    }
   ],
   "source": [
    "# dummy test of training data error\n",
    "y_hat = []\n",
    "dummy_error = []\n",
    "y_hat = bestnet[0].sim(X1).squeeze()\n",
    "dummy_error = np.power(y_hat-y ,2).astype(float)/y_train.shape[0]\n",
    "print(dummy_error)\n",
    "\n",
    "# Display scatter plot\n",
    "figure(1)\n",
    "#subplot(2,1,1)\n",
    "plot(y, y_hat, '.')\n",
    "#plot(X_r, model.predict(X_r),color='k')\n",
    "#plot(X_r, y_est, color='blue', linewidth=1)\n",
    "xlabel('lPSA value (true)'); ylabel('lPSA value (estimated)');\n",
    "plt.savefig(base_dir + '/Figures/ANN_Regression_fit_lamda_03.png')\n",
    "show()\n"
   ]
  },
  {
   "cell_type": "code",
   "execution_count": null,
   "metadata": {},
   "outputs": [],
   "source": []
  },
  {
   "cell_type": "code",
   "execution_count": null,
   "metadata": {},
   "outputs": [],
   "source": []
  },
  {
   "cell_type": "markdown",
   "metadata": {},
   "source": [
    "# ANN for regression with correct loop"
   ]
  },
  {
   "cell_type": "code",
   "execution_count": 74,
   "metadata": {},
   "outputs": [
    {
     "name": "stdout",
     "output_type": "stream",
     "text": [
      "CV-fold 1 of 5\n",
      "Inner CV-fold 1 of 5\n",
      "Inner CV-fold 2 of 5\n",
      "Inner CV-fold 3 of 5\n",
      "Inner CV-fold 4 of 5\n",
      "Inner CV-fold 5 of 5\n",
      "Inner_error_values are:[[9999999], [9999999], [9999999], [9999999], [1.0139713868117222, 0.8500267296463577, 0.8265072361633059, 0.9790699475337546], [0.6892985196650422]]\n",
      "<class 'list'>\n",
      "Inner_error_values are after clean:[[9999999], [9999999], [9999999], [9999999], [1.0139713868117222, 0.8500267296463577, 0.8265072361633059, 0.9790699475337546], [0.6892985196650422]]\n",
      "The index of optimal ANN value is: 5\n",
      "The optimal number of neurons in ANN value across inner CV folds is: 15\n",
      "Errors for each outer CV fold: [0.8046984562329844]\n",
      "CV-fold 2 of 5\n",
      "Inner CV-fold 1 of 5\n",
      "Inner CV-fold 2 of 5\n",
      "Inner CV-fold 3 of 5\n",
      "Inner CV-fold 4 of 5\n",
      "Inner CV-fold 5 of 5\n",
      "Inner_error_values are:[[9999999], [9999999], [9999999], [9999999], [0.7220033567069845, 1.008186992576662], [0.8484883381754942, 0.6671518074634787, 0.5996767638483039]]\n",
      "<class 'list'>\n",
      "Inner_error_values are after clean:[[9999999], [9999999], [9999999], [9999999], [0.7220033567069845, 1.008186992576662], [0.8484883381754942, 0.6671518074634787, 0.5996767638483039]]\n",
      "The index of optimal ANN value is: 4\n",
      "The optimal number of neurons in ANN value across inner CV folds is: 10\n",
      "Errors for each outer CV fold: [0.8046984562329844, 0.8441284006282205]\n",
      "CV-fold 3 of 5\n",
      "Inner CV-fold 1 of 5\n",
      "Inner CV-fold 2 of 5\n",
      "Inner CV-fold 3 of 5\n",
      "Inner CV-fold 4 of 5\n",
      "Inner CV-fold 5 of 5\n",
      "Inner_error_values are:[[9999999], [9999999], [9999999], [9999999], [1.012988305714247, 1.2269888280961583, 0.8594982861961249], [0.7928333883717663, 0.7688752058146974]]\n",
      "<class 'list'>\n",
      "Inner_error_values are after clean:[[9999999], [9999999], [9999999], [9999999], [1.012988305714247, 1.2269888280961583, 0.8594982861961249], [0.7928333883717663, 0.7688752058146974]]\n",
      "The index of optimal ANN value is: 5\n",
      "The optimal number of neurons in ANN value across inner CV folds is: 15\n",
      "Errors for each outer CV fold: [0.8046984562329844, 0.8441284006282205, 0.959274342208899]\n",
      "CV-fold 4 of 5\n",
      "Inner CV-fold 1 of 5\n",
      "Inner CV-fold 2 of 5\n",
      "Inner CV-fold 3 of 5\n",
      "Inner CV-fold 4 of 5\n",
      "Inner CV-fold 5 of 5\n",
      "Inner_error_values are:[[9999999], [9999999], [9999999], [0.8911117136516388], [0.8308250235752548, 0.9274845054162894], [0.753424925525058, 1.0587841283710056]]\n",
      "<class 'list'>\n",
      "Inner_error_values are after clean:[[9999999], [9999999], [9999999], [0.8911117136516388], [0.8308250235752548, 0.9274845054162894], [0.753424925525058, 1.0587841283710056]]\n",
      "The index of optimal ANN value is: 5\n",
      "The optimal number of neurons in ANN value across inner CV folds is: 15\n",
      "Errors for each outer CV fold: [0.8046984562329844, 0.8441284006282205, 0.959274342208899, 0.7753712184500706]\n",
      "CV-fold 5 of 5\n",
      "Inner CV-fold 1 of 5\n",
      "Inner CV-fold 2 of 5\n",
      "Inner CV-fold 3 of 5\n",
      "Inner CV-fold 4 of 5\n",
      "Inner CV-fold 5 of 5\n",
      "Inner_error_values are:[[9999999], [9999999], [1.0992574634487942], [9999999], [0.861175728595727, 0.8212830778027833], [0.9629032871618323, 0.9909189281480186]]\n",
      "<class 'list'>\n",
      "Inner_error_values are after clean:[[9999999], [9999999], [1.0992574634487942], [9999999], [0.861175728595727, 0.8212830778027833], [0.9629032871618323, 0.9909189281480186]]\n",
      "The index of optimal ANN value is: 4\n",
      "The optimal number of neurons in ANN value across inner CV folds is: 10\n",
      "Errors for each outer CV fold: [0.8046984562329844, 0.8441284006282205, 0.959274342208899, 0.7753712184500706, 0.8054995988988097]\n"
     ]
    }
   ],
   "source": [
    "# Results from the 2-level cross-validation for dtc \n",
    "# Errors for each outer tc fold: [15.0, 30.0, 10.526315789473685, 10.526315789473685, 15.789473684210526]\n",
    "# The errors for the best performing models are: 10.526315789473685, 15.0\n",
    "## Crossvalidation for decision trees\n",
    "## The selection of optimal model is based on an average of the inner errors for each model\n",
    "\n",
    "# Create crossvalidation partition for evaluation\n",
    "K_outer = 5\n",
    "K_inner = 5\n",
    "\n",
    "# Parameters for neural network classifier\n",
    "n_hidden_units = [15, 2,4,6,8,10]      # number of hidden units\n",
    "n_train = 6             # number of networks trained in each k-fold\n",
    "learning_goal = 0.0001     # stop criterion 1 (train mse to be reached)\n",
    "max_epochs = 512         # stop criterion 2 (max epochs in training)\n",
    "show_error_freq = 100     # frequency of training status updates\n",
    "\n",
    "errors = np.zeros(K)*np.nan\n",
    "gen_error = np.zeros(K)*np.nan\n",
    "error_hist = np.zeros((max_epochs,K))*np.nan\n",
    "bestnet = list()\n",
    "\n",
    "CV_outer = model_selection.KFold(n_splits=K_outer,shuffle=True, random_state=seed)\n",
    "#CV = model_selection.StratifiedKFold(n_splits=K)\n",
    "\n",
    "    \n",
    "\n",
    "# ANN\n",
    "ANN = []\n",
    "index_min_lst_ANN = []\n",
    "min_indices_ANN = []\n",
    "error_outer_ANN = [] # List for the errors in outer CV fold\n",
    "dict_inner_ANN = {}\n",
    "error_inner_ANN = {} # Dict with the errors in the innter CV fold for each tested model\n",
    "n_hidden_units = [2,4,6,8,10,15]      # number of hidden units\n",
    "classifier_lst_ANN = []\n",
    "\n",
    "\n",
    "\n",
    "for count, value in enumerate(n_hidden_units):\n",
    "    error_inner_ANN['NO_HIDDEN_of_{0}'.format(value)] = []\n",
    "\n",
    "\n",
    "\n",
    "\n",
    "k=0\n",
    "\n",
    "for train_outer_index, test_outer_index in CV_outer.split(X1,y):\n",
    "    print('CV-fold {0} of {1}'.format(k+1,K_outer))\n",
    "    \n",
    "    \n",
    "    # extract training and test set for current CV fold\n",
    "    X_train_outer = X1[train_outer_index,:]\n",
    "    y_train_outer = y[train_outer_index]\n",
    "    X_test_outer = X1[test_outer_index,:]\n",
    "    y_test_outer = y[test_outer_index]\n",
    "    \n",
    "    CV_inner = model_selection.KFold(n_splits=K_inner,shuffle=True, random_state=seed)\n",
    "    \n",
    "    kk=0\n",
    "    \n",
    "    for train_inner_index, test_inner_index in CV_inner.split(X_train_outer,y_train_outer):\n",
    "        print('Inner CV-fold {0} of {1}'.format(kk+1,K_inner))\n",
    "\n",
    "        # extract training and test set for current CV fold\n",
    "        X_train_inner = X_train_outer[train_inner_index,:]\n",
    "        y_train_inner = y_train_outer[train_inner_index]\n",
    "        X_test_inner = X_train_outer[test_inner_index,:]\n",
    "        y_test_inner = y_train_outer[test_inner_index]\n",
    "        \n",
    "#         print(len(X_train_inner))\n",
    "#         print(len(y_train_inner))\n",
    "        \n",
    "    \n",
    "    \n",
    "    # ANN Classifier\n",
    "        best_train_error = np.inf\n",
    "        for i in range(n_train):\n",
    "            #print('Training network {0}/{1}...'.format(i+1,n_train))\n",
    "            # Create randomly initialized network with 2 layers\n",
    "            #print(\"testing no hidden = \" + str(n_hidden_units[i]))\n",
    "            ann = nl.net.newff([[-3,3]]*M, [n_hidden_units[i], 1], [nl.trans.TanSig(),nl.trans.PureLin()])\n",
    "            if i==0:\n",
    "                bestnet.append(ann)\n",
    "            # train network\n",
    "            train_error = ann.train(X_train_inner, y_train_inner.reshape(-1,1), goal=learning_goal, epochs=max_epochs, show=show_error_freq, rr=0.3)\n",
    "            \n",
    "            if train_error[-1]<best_train_error:\n",
    "                bestnet[kk]=ann\n",
    "                best_train_error = train_error[-1]\n",
    "                error_hist[range(len(train_error)),kk] = train_error\n",
    "                best_no_neurons = n_hidden_units[i]\n",
    "                #print(best_no_neurons)\n",
    "            \n",
    "        #print('Best train error: {0}...'.format(best_train_error))\n",
    "        #print('Optimal number of hidden neurons: {0}...'.format(best_no_neurons))\n",
    "        y_est = bestnet[kk].sim(X_test_inner).squeeze()\n",
    "        \n",
    "        #print(2)\n",
    "        errors[kk] = np.power(y_est-y_test_inner,2).sum().astype(float)/y_test_inner.shape[0]\n",
    "        #errors[kk] = 100*(y_est!=y_test).sum().astype(float)/y_test.shape[0]\n",
    "        #gen_error[kk] = 100 * (y_est-y_test).sum().astype(float)/y_test.shape[0]\n",
    "        #print(gen_error[kk])\n",
    "        #errors[k] = - y_test * np.log(y_est) - (1 - y_test) * np.log (1 - y_est)\n",
    "        #print(gen_error[kk])\n",
    "        errorANN_inner = (np.power(y_est-y_test_inner,2).sum().astype(float)/y_test_inner.shape[0])**(0.5)\n",
    "        error_inner_ANN['NO_HIDDEN_of_{0}'.format(best_no_neurons)].append(errorANN_inner) # add errors for each fold to each model\n",
    "        \n",
    "        #print(best_no_neurons)\n",
    "        #print(errorANN_inner)\n",
    "        #print(value)\n",
    "        #print(3)\n",
    "        \n",
    "        #print('error_inner_ANN is ' + str(error_inner_ANN))\n",
    "        kk +=1    \n",
    "    \n",
    "         \n",
    "  \n",
    "\n",
    "\n",
    "\n",
    "    # ANN\n",
    "    # Find the KNN value with minimum average error value\n",
    "    \n",
    "    #{k: v for k, v in error_inner_ANN.items() if v is not None}\n",
    "    \n",
    "    error_inner_ANN = {k: [9999999] if not v else v for k, v in error_inner_ANN.items() }\n",
    "    \n",
    "    for key in error_inner_ANN.keys():\n",
    "        index_min_lst_ANN.append((error_inner_ANN[key]))\n",
    "        \n",
    "    print('Inner_error_values are:' + str(index_min_lst_ANN))\n",
    "    \n",
    "    print(type(index_min_lst_ANN))\n",
    "    #index_min_lst_ANN = [x for x in index_min_lst_ANN if x != []]\n",
    "    print('Inner_error_values are after clean:' + str(index_min_lst_ANN))\n",
    "    index_min_ANN = np.argmin(index_min_lst_ANN) #Find the index of the minimum error value\n",
    "    top_count_ANN = index_min_ANN\n",
    "    min_indices_ANN.append(index_min_ANN) \n",
    "        \n",
    "    index_min_lst_ANN = [] # Clear for next CV fold\n",
    "    \n",
    "    for key in error_inner_ANN.keys():\n",
    "        error_inner_ANN[key] = [] # Clear for next CV fold\n",
    "        \n",
    "      \n",
    "    print('The index of optimal ANN value is: ' + str(top_count_ANN))\n",
    "    \n",
    "    optimal_no_neurons = n_hidden_units[top_count_ANN]\n",
    "    \n",
    "    print('The optimal number of neurons in ANN value across inner CV folds is: ' + str(optimal_no_neurons))\n",
    "    \n",
    "            \n",
    "    #y_ANN_outer = knclassifierOuter.predict(X_test_outer);\n",
    "    y_est = bestnet[k].sim(X_test_outer).squeeze()\n",
    "    \n",
    "    errorANN_outer = (np.power(y_est-y_test_outer,2).sum().astype(float)/y_test_outer.shape[0])**(0.5)\n",
    "    #error_outer_KNN.append(errorKNN_outer)\n",
    "    error_outer_ANN.append(errorANN_outer)\n",
    "    print('Errors for each outer CV fold: ' + str(error_outer_ANN))\n",
    "    k += 1\n",
    "    \n",
    "\n",
    "    \n",
    "\n",
    "error_ANN = error_outer_ANN\n"
   ]
  },
  {
   "cell_type": "code",
   "execution_count": 83,
   "metadata": {},
   "outputs": [
    {
     "name": "stdout",
     "output_type": "stream",
     "text": [
      "[0.8046984562329844, 0.8441284006282205, 0.959274342208899, 0.7753712184500706, 0.8054995988988097]\n",
      "Outer error of ANN is0.8205202918758835\n"
     ]
    }
   ],
   "source": [
    "print(error_ANN)\n",
    "# Final generalization error for ANN\n",
    "ANN_error = (len(y_test_outer)/N*np.mat(error_ANN)).sum()\n",
    "print('Outer error of ANN is' + str(ANN_error))"
   ]
  },
  {
   "cell_type": "code",
   "execution_count": null,
   "metadata": {},
   "outputs": [],
   "source": []
  },
  {
   "cell_type": "code",
   "execution_count": 76,
   "metadata": {},
   "outputs": [
    {
     "name": "stdout",
     "output_type": "stream",
     "text": [
      "Mean-square error: 0.90671991258891\n"
     ]
    },
    {
     "data": {
      "image/png": "[encoded data removed]",
      "text/plain": [
       "<Figure size 432x504 with 2 Axes>"
      ]
     },
     "metadata": {},
     "output_type": "display_data"
    },
    {
     "data": {
      "image/png": "[encoded data removed]",
      "text/plain": [
       "<Figure size 432x504 with 2 Axes>"
      ]
     },
     "metadata": {},
     "output_type": "display_data"
    },
    {
     "data": {
      "image/png": "[encoded data removed]",
      "text/plain": [
       "<Figure size 432x288 with 1 Axes>"
      ]
     },
     "metadata": {},
     "output_type": "display_data"
    }
   ],
   "source": [
    "# Print the average least squares error\n",
    "print('Mean-square error: {0}'.format(np.mean(errors)))\n",
    "\n",
    "plt.figure(figsize=(6,7));\n",
    "subplot(2,1,1); plt.bar(range(0,K),errors); title('Mean-square errors');\n",
    "subplot(2,1,2); plt.plot(error_hist); title('Training error as function of BP iterations');\n",
    "figure(figsize=(6,7));\n",
    "subplot(2,1,1); plt.plot(y_est); plot(y_test_outer); title('Last CV-fold: est_y vs. test_y'); \n",
    "subplot(2,1,2); plt.plot((y_est-y_test_outer)); title('Last CV-fold: prediction error (est_y-test_y)'); \n",
    "plt.show()\n",
    "\n",
    "\n",
    "# Display scatter plot\n",
    "figure(1)\n",
    "#subplot(2,1,1)\n",
    "plot(y_test_outer, y_est, '.')\n",
    "#plot(X_r, model.predict(X_r),color='k')\n",
    "#plot(X_r, y_est, color='blue', linewidth=1)\n",
    "xlabel('lPSA value (true)'); ylabel('lPSA value (estimated)');\n",
    "show()"
   ]
  },
  {
   "cell_type": "code",
   "execution_count": 71,
   "metadata": {},
   "outputs": [
    {
     "name": "stdout",
     "output_type": "stream",
     "text": [
      "[1.17490154e-01 3.18360463e-04 3.71964579e-04 9.98479932e-05\n",
      " 7.25364745e-03 2.15626579e-04 1.88454647e-02 5.52216487e-02\n",
      " 2.13312055e-04 4.85488604e-04 9.19765239e-05 4.48987896e-05\n",
      " 1.15750242e-03 2.63464299e-04 1.14811929e-05 6.15647366e-06\n",
      " 1.28819684e-04 1.01051797e-03 1.80973874e-04 7.06344767e-06\n",
      " 1.12095826e-07 4.07367590e-03 1.50719155e-02 1.61805254e-02\n",
      " 1.41705841e-04 4.25746147e-05 3.35142884e-04 2.38305123e-03\n",
      " 6.03018694e-03 2.72770334e-06 1.74667491e-04 7.88239538e-07\n",
      " 5.15159515e-06 1.50765885e-03 3.09627488e-03 4.50223091e-03\n",
      " 1.54092000e-05 1.24407288e-02 3.68199893e-03 1.01665750e-02\n",
      " 1.56338539e-05 6.52820458e-05 2.08949237e-04 2.23462546e-03\n",
      " 3.89345828e-04 3.35533315e-03 1.17637512e-04 9.57059922e-05\n",
      " 5.75136508e-06 6.02173954e-05 1.84401497e-05 2.04375483e-06\n",
      " 1.50234681e-03 2.56902255e-04 2.12959091e-05 6.90118169e-05\n",
      " 1.01993631e-07 4.99399864e-06 1.42069099e-06 2.76998336e-04\n",
      " 1.69815732e-04 9.26369349e-03 3.02917830e-05 8.48139257e-05\n",
      " 6.43406170e-04 4.13444172e-04 2.28059360e-04 5.21901717e-04\n",
      " 5.42141784e-04 3.44580666e-03 3.44660807e-04 3.36332770e-06\n",
      " 1.11131374e-04 4.42662241e-02 1.68097023e-04 1.70887583e-03\n",
      " 2.20784256e-05 2.28490789e-05 9.53531222e-04 8.42049900e-05\n",
      " 2.99461573e-03 2.83499106e-04 9.88522702e-04 5.24898148e-05\n",
      " 2.16897246e-02 1.13180454e-05 6.95344064e-04 1.83861450e-04\n",
      " 1.62560921e-04 2.96551191e-03 3.51340364e-03 2.36381217e-09\n",
      " 7.49186314e-03 8.37942299e-04 2.73574065e-06 8.43913146e-03\n",
      " 6.93585895e-02]\n"
     ]
    },
    {
     "data": {
      "image/png": "[encoded data removed]",
      "text/plain": [
       "<Figure size 432x288 with 1 Axes>"
      ]
     },
     "metadata": {},
     "output_type": "display_data"
    }
   ],
   "source": [
    "# dummy test of training data error\n",
    "y_hat = []\n",
    "dummy_error = []\n",
    "y_hat = bestnet[0].sim(X1).squeeze()\n",
    "dummy_error = np.power(y_hat-y ,2).astype(float)/y_train.shape[0]\n",
    "print(dummy_error)\n",
    "\n",
    "# Display scatter plot\n",
    "figure(1)\n",
    "#subplot(2,1,1)\n",
    "plot(y, y_hat, '.')\n",
    "#plot(X_r, model.predict(X_r),color='k')\n",
    "#plot(X_r, y_est, color='blue', linewidth=1)\n",
    "xlabel('lPSA value (true)'); ylabel('lPSA value (estimated)');\n",
    "plt.savefig(base_dir + '/Figures/ANN_Regression_fit_lamda_03.png')\n",
    "show()\n"
   ]
  },
  {
   "cell_type": "code",
   "execution_count": null,
   "metadata": {},
   "outputs": [],
   "source": []
  },
  {
   "cell_type": "markdown",
   "metadata": {},
   "source": [
    "## Credibility interval - comparison of regression models"
   ]
  },
  {
   "cell_type": "code",
   "execution_count": 82,
   "metadata": {},
   "outputs": [
    {
     "name": "stdout",
     "output_type": "stream",
     "text": [
      "Model 1 and baseline model are significantly different.\n",
      "zb:0.349262974464123\n",
      "sig:0.08638750035226599\n",
      "zL:0.10941282196080093\n",
      "zH:0.589113126967445\n",
      "Baseline model and Model 2 are not significantly different\n",
      "zb:0.15862422913902835\n",
      "sig:0.08687779604691624\n",
      "zL:-0.082587202445805\n",
      "zH:0.3998356607238616\n",
      "Model 1 and Model 2 are significantly different.\n",
      "zb:-0.19063874532509473\n",
      "sig:0.06065394264818307\n",
      "zL:-0.3590410875015907\n",
      "zH:-0.022236403148598816\n"
     ]
    }
   ],
   "source": [
    "from scipy import stats\n",
    "\n",
    "## Crossvalidation\n",
    "K = K_outer #thus 5\n",
    "CV = model_selection.KFold(n_splits=K,shuffle=True, random_state=seed)\n",
    "\n",
    "# Initialize variables\n",
    "Error_base_line = np.asarray(Error_test_b)\n",
    "Error_model_1 = np.asarray(Error_test_fs) #LinReg\n",
    "Error_model_2 = np.asarray(error_ANN) #ANN\n",
    "\n",
    "# Comparison of Baseline model with model 1\n",
    "\n",
    "# Test if classifiers are significantly different using methods in section 9.3.3\n",
    "# by computing credibility interval. Notice this can also be accomplished by computing the p-value using\n",
    "# [tstatistic, pvalue] = stats.ttest_ind(Error_logreg,Error_dectree)\n",
    "# and test if the p-value is less than alpha=0.05. \n",
    "z = (Error_base_line-Error_model_1)\n",
    "zb = z.mean()\n",
    "nu = K-1\n",
    "sig =  (z-zb).std()  / np.sqrt(K-1)\n",
    "alpha = 0.05\n",
    "\n",
    "zL = zb + sig * stats.t.ppf(alpha/2, nu);\n",
    "zH = zb + sig * stats.t.ppf(1-alpha/2, nu);\n",
    "\n",
    "if zL <= 0 and zH >= 0 :\n",
    "    print('Model 1 and baseline model are not significantly different')        \n",
    "else:\n",
    "    print('Model 1 and baseline model are significantly different.')\n",
    "print('zb:' +str(zb))\n",
    "print('sig:' + str(sig))\n",
    "print('zL:' + str(zL))\n",
    "print('zH:' +str(zH))\n",
    "\n",
    "# Comparison of Baseline model with model 2\n",
    "\n",
    "# Test if classifiers are significantly different using methods in section 9.3.3\n",
    "# by computing credibility interval. Notice this can also be accomplished by computing the p-value using\n",
    "# [tstatistic, pvalue] = stats.ttest_ind(Error_logreg,Error_dectree)\n",
    "# and test if the p-value is less than alpha=0.05. \n",
    "z = (Error_base_line-Error_model_2)\n",
    "zb = z.mean()\n",
    "nu = K-1\n",
    "sig =  (z-zb).std()  / np.sqrt(K-1)\n",
    "alpha = 0.05\n",
    "\n",
    "zL = zb + sig * stats.t.ppf(alpha/2, nu);\n",
    "zH = zb + sig * stats.t.ppf(1-alpha/2, nu);\n",
    "\n",
    "if zL <= 0 and zH >= 0 :\n",
    "    print('Baseline model and Model 2 are not significantly different')        \n",
    "else:\n",
    "    print('Baseline model and Model 2 are significantly different.')\n",
    "print('zb:' +str(zb))\n",
    "print('sig:' + str(sig))\n",
    "print('zL:' + str(zL))\n",
    "print('zH:' +str(zH))\n",
    "\n",
    "# Comparison of model 1 with model 2\n",
    "\n",
    "# Test if classifiers are significantly different using methods in section 9.3.3\n",
    "# by computing credibility interval. Notice this can also be accomplished by computing the p-value using\n",
    "# [tstatistic, pvalue] = stats.ttest_ind(Error_logreg,Error_dectree)\n",
    "# and test if the p-value is less than alpha=0.05. \n",
    "z = (Error_model_1-Error_model_2)\n",
    "zb = z.mean()\n",
    "nu = K-1\n",
    "sig =  (z-zb).std()  / np.sqrt(K-1)\n",
    "alpha = 0.05\n",
    "\n",
    "zL = zb + sig * stats.t.ppf(alpha/2, nu);\n",
    "zH = zb + sig * stats.t.ppf(1-alpha/2, nu);\n",
    "\n",
    "if zL <= 0 and zH >= 0 :\n",
    "    print('Model 1 and Model 2 are not significantly different')        \n",
    "else:\n",
    "    print('Model 1 and Model 2 are significantly different.')\n",
    "print('zb:' +str(zb))\n",
    "print('sig:' + str(sig))\n",
    "print('zL:' + str(zL))\n",
    "print('zH:' +str(zH))\n"
   ]
  },
  {
   "cell_type": "code",
   "execution_count": null,
   "metadata": {},
   "outputs": [],
   "source": []
  }
 ],
 "metadata": {
  "kernelspec": {
   "display_name": "Python 3",
   "language": "python",
   "name": "python3"
  },
  "language_info": {
   "codemirror_mode": {
    "name": "ipython",
    "version": 3
   },
   "file_extension": ".py",
   "mimetype": "text/x-python",
   "name": "python",
   "nbconvert_exporter": "python",
   "pygments_lexer": "ipython3",
   "version": "3.6.5"
  }
 },
 "nbformat": 4,
 "nbformat_minor": 2
}
